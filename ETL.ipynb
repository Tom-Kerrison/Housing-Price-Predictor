{
 "cells": [
  {
   "cell_type": "code",
   "execution_count": 1,
   "id": "initial_id",
   "metadata": {
    "ExecuteTime": {
     "end_time": "2025-08-09T20:48:59.340059Z",
     "start_time": "2025-08-09T20:32:55.908566Z"
    }
   },
   "outputs": [
    {
     "ename": "KeyboardInterrupt",
     "evalue": "",
     "output_type": "error",
     "traceback": [
      "\u001b[31m---------------------------------------------------------------------------\u001b[39m",
      "\u001b[31mKeyboardInterrupt\u001b[39m                         Traceback (most recent call last)",
      "\u001b[36mCell\u001b[39m\u001b[36m \u001b[39m\u001b[32mIn[1]\u001b[39m\u001b[32m, line 30\u001b[39m\n\u001b[32m     28\u001b[39m \u001b[38;5;28;01mfor\u001b[39;00m year \u001b[38;5;129;01min\u001b[39;00m years:\n\u001b[32m     29\u001b[39m     url = \u001b[33mf\u001b[39m\u001b[33m\"\u001b[39m\u001b[33mhttp://prod.publicdata.landregistry.gov.uk.s3-website-eu-west-1.amazonaws.com/pp-20\u001b[39m\u001b[38;5;132;01m{\u001b[39;00myear\u001b[38;5;132;01m}\u001b[39;00m\u001b[33m.csv\u001b[39m\u001b[33m\"\u001b[39m\n\u001b[32m---> \u001b[39m\u001b[32m30\u001b[39m     df = \u001b[43mpd\u001b[49m\u001b[43m.\u001b[49m\u001b[43mread_csv\u001b[49m\u001b[43m(\u001b[49m\u001b[43murl\u001b[49m\u001b[43m)\u001b[49m\n\u001b[32m     31\u001b[39m     df.columns = headers\n\u001b[32m     32\u001b[39m     df = df.drop(columns=drop)\n",
      "\u001b[36mFile \u001b[39m\u001b[32m~\\anaconda3\\Lib\\site-packages\\pandas\\io\\parsers\\readers.py:1026\u001b[39m, in \u001b[36mread_csv\u001b[39m\u001b[34m(filepath_or_buffer, sep, delimiter, header, names, index_col, usecols, dtype, engine, converters, true_values, false_values, skipinitialspace, skiprows, skipfooter, nrows, na_values, keep_default_na, na_filter, verbose, skip_blank_lines, parse_dates, infer_datetime_format, keep_date_col, date_parser, date_format, dayfirst, cache_dates, iterator, chunksize, compression, thousands, decimal, lineterminator, quotechar, quoting, doublequote, escapechar, comment, encoding, encoding_errors, dialect, on_bad_lines, delim_whitespace, low_memory, memory_map, float_precision, storage_options, dtype_backend)\u001b[39m\n\u001b[32m   1013\u001b[39m kwds_defaults = _refine_defaults_read(\n\u001b[32m   1014\u001b[39m     dialect,\n\u001b[32m   1015\u001b[39m     delimiter,\n\u001b[32m   (...)\u001b[39m\u001b[32m   1022\u001b[39m     dtype_backend=dtype_backend,\n\u001b[32m   1023\u001b[39m )\n\u001b[32m   1024\u001b[39m kwds.update(kwds_defaults)\n\u001b[32m-> \u001b[39m\u001b[32m1026\u001b[39m \u001b[38;5;28;01mreturn\u001b[39;00m \u001b[43m_read\u001b[49m\u001b[43m(\u001b[49m\u001b[43mfilepath_or_buffer\u001b[49m\u001b[43m,\u001b[49m\u001b[43m \u001b[49m\u001b[43mkwds\u001b[49m\u001b[43m)\u001b[49m\n",
      "\u001b[36mFile \u001b[39m\u001b[32m~\\anaconda3\\Lib\\site-packages\\pandas\\io\\parsers\\readers.py:620\u001b[39m, in \u001b[36m_read\u001b[39m\u001b[34m(filepath_or_buffer, kwds)\u001b[39m\n\u001b[32m    617\u001b[39m _validate_names(kwds.get(\u001b[33m\"\u001b[39m\u001b[33mnames\u001b[39m\u001b[33m\"\u001b[39m, \u001b[38;5;28;01mNone\u001b[39;00m))\n\u001b[32m    619\u001b[39m \u001b[38;5;66;03m# Create the parser.\u001b[39;00m\n\u001b[32m--> \u001b[39m\u001b[32m620\u001b[39m parser = \u001b[43mTextFileReader\u001b[49m\u001b[43m(\u001b[49m\u001b[43mfilepath_or_buffer\u001b[49m\u001b[43m,\u001b[49m\u001b[43m \u001b[49m\u001b[43m*\u001b[49m\u001b[43m*\u001b[49m\u001b[43mkwds\u001b[49m\u001b[43m)\u001b[49m\n\u001b[32m    622\u001b[39m \u001b[38;5;28;01mif\u001b[39;00m chunksize \u001b[38;5;129;01mor\u001b[39;00m iterator:\n\u001b[32m    623\u001b[39m     \u001b[38;5;28;01mreturn\u001b[39;00m parser\n",
      "\u001b[36mFile \u001b[39m\u001b[32m~\\anaconda3\\Lib\\site-packages\\pandas\\io\\parsers\\readers.py:1620\u001b[39m, in \u001b[36mTextFileReader.__init__\u001b[39m\u001b[34m(self, f, engine, **kwds)\u001b[39m\n\u001b[32m   1617\u001b[39m     \u001b[38;5;28mself\u001b[39m.options[\u001b[33m\"\u001b[39m\u001b[33mhas_index_names\u001b[39m\u001b[33m\"\u001b[39m] = kwds[\u001b[33m\"\u001b[39m\u001b[33mhas_index_names\u001b[39m\u001b[33m\"\u001b[39m]\n\u001b[32m   1619\u001b[39m \u001b[38;5;28mself\u001b[39m.handles: IOHandles | \u001b[38;5;28;01mNone\u001b[39;00m = \u001b[38;5;28;01mNone\u001b[39;00m\n\u001b[32m-> \u001b[39m\u001b[32m1620\u001b[39m \u001b[38;5;28mself\u001b[39m._engine = \u001b[38;5;28;43mself\u001b[39;49m\u001b[43m.\u001b[49m\u001b[43m_make_engine\u001b[49m\u001b[43m(\u001b[49m\u001b[43mf\u001b[49m\u001b[43m,\u001b[49m\u001b[43m \u001b[49m\u001b[38;5;28;43mself\u001b[39;49m\u001b[43m.\u001b[49m\u001b[43mengine\u001b[49m\u001b[43m)\u001b[49m\n",
      "\u001b[36mFile \u001b[39m\u001b[32m~\\anaconda3\\Lib\\site-packages\\pandas\\io\\parsers\\readers.py:1880\u001b[39m, in \u001b[36mTextFileReader._make_engine\u001b[39m\u001b[34m(self, f, engine)\u001b[39m\n\u001b[32m   1878\u001b[39m     \u001b[38;5;28;01mif\u001b[39;00m \u001b[33m\"\u001b[39m\u001b[33mb\u001b[39m\u001b[33m\"\u001b[39m \u001b[38;5;129;01mnot\u001b[39;00m \u001b[38;5;129;01min\u001b[39;00m mode:\n\u001b[32m   1879\u001b[39m         mode += \u001b[33m\"\u001b[39m\u001b[33mb\u001b[39m\u001b[33m\"\u001b[39m\n\u001b[32m-> \u001b[39m\u001b[32m1880\u001b[39m \u001b[38;5;28mself\u001b[39m.handles = \u001b[43mget_handle\u001b[49m\u001b[43m(\u001b[49m\n\u001b[32m   1881\u001b[39m \u001b[43m    \u001b[49m\u001b[43mf\u001b[49m\u001b[43m,\u001b[49m\n\u001b[32m   1882\u001b[39m \u001b[43m    \u001b[49m\u001b[43mmode\u001b[49m\u001b[43m,\u001b[49m\n\u001b[32m   1883\u001b[39m \u001b[43m    \u001b[49m\u001b[43mencoding\u001b[49m\u001b[43m=\u001b[49m\u001b[38;5;28;43mself\u001b[39;49m\u001b[43m.\u001b[49m\u001b[43moptions\u001b[49m\u001b[43m.\u001b[49m\u001b[43mget\u001b[49m\u001b[43m(\u001b[49m\u001b[33;43m\"\u001b[39;49m\u001b[33;43mencoding\u001b[39;49m\u001b[33;43m\"\u001b[39;49m\u001b[43m,\u001b[49m\u001b[43m \u001b[49m\u001b[38;5;28;43;01mNone\u001b[39;49;00m\u001b[43m)\u001b[49m\u001b[43m,\u001b[49m\n\u001b[32m   1884\u001b[39m \u001b[43m    \u001b[49m\u001b[43mcompression\u001b[49m\u001b[43m=\u001b[49m\u001b[38;5;28;43mself\u001b[39;49m\u001b[43m.\u001b[49m\u001b[43moptions\u001b[49m\u001b[43m.\u001b[49m\u001b[43mget\u001b[49m\u001b[43m(\u001b[49m\u001b[33;43m\"\u001b[39;49m\u001b[33;43mcompression\u001b[39;49m\u001b[33;43m\"\u001b[39;49m\u001b[43m,\u001b[49m\u001b[43m \u001b[49m\u001b[38;5;28;43;01mNone\u001b[39;49;00m\u001b[43m)\u001b[49m\u001b[43m,\u001b[49m\n\u001b[32m   1885\u001b[39m \u001b[43m    \u001b[49m\u001b[43mmemory_map\u001b[49m\u001b[43m=\u001b[49m\u001b[38;5;28;43mself\u001b[39;49m\u001b[43m.\u001b[49m\u001b[43moptions\u001b[49m\u001b[43m.\u001b[49m\u001b[43mget\u001b[49m\u001b[43m(\u001b[49m\u001b[33;43m\"\u001b[39;49m\u001b[33;43mmemory_map\u001b[39;49m\u001b[33;43m\"\u001b[39;49m\u001b[43m,\u001b[49m\u001b[43m \u001b[49m\u001b[38;5;28;43;01mFalse\u001b[39;49;00m\u001b[43m)\u001b[49m\u001b[43m,\u001b[49m\n\u001b[32m   1886\u001b[39m \u001b[43m    \u001b[49m\u001b[43mis_text\u001b[49m\u001b[43m=\u001b[49m\u001b[43mis_text\u001b[49m\u001b[43m,\u001b[49m\n\u001b[32m   1887\u001b[39m \u001b[43m    \u001b[49m\u001b[43merrors\u001b[49m\u001b[43m=\u001b[49m\u001b[38;5;28;43mself\u001b[39;49m\u001b[43m.\u001b[49m\u001b[43moptions\u001b[49m\u001b[43m.\u001b[49m\u001b[43mget\u001b[49m\u001b[43m(\u001b[49m\u001b[33;43m\"\u001b[39;49m\u001b[33;43mencoding_errors\u001b[39;49m\u001b[33;43m\"\u001b[39;49m\u001b[43m,\u001b[49m\u001b[43m \u001b[49m\u001b[33;43m\"\u001b[39;49m\u001b[33;43mstrict\u001b[39;49m\u001b[33;43m\"\u001b[39;49m\u001b[43m)\u001b[49m\u001b[43m,\u001b[49m\n\u001b[32m   1888\u001b[39m \u001b[43m    \u001b[49m\u001b[43mstorage_options\u001b[49m\u001b[43m=\u001b[49m\u001b[38;5;28;43mself\u001b[39;49m\u001b[43m.\u001b[49m\u001b[43moptions\u001b[49m\u001b[43m.\u001b[49m\u001b[43mget\u001b[49m\u001b[43m(\u001b[49m\u001b[33;43m\"\u001b[39;49m\u001b[33;43mstorage_options\u001b[39;49m\u001b[33;43m\"\u001b[39;49m\u001b[43m,\u001b[49m\u001b[43m \u001b[49m\u001b[38;5;28;43;01mNone\u001b[39;49;00m\u001b[43m)\u001b[49m\u001b[43m,\u001b[49m\n\u001b[32m   1889\u001b[39m \u001b[43m\u001b[49m\u001b[43m)\u001b[49m\n\u001b[32m   1890\u001b[39m \u001b[38;5;28;01massert\u001b[39;00m \u001b[38;5;28mself\u001b[39m.handles \u001b[38;5;129;01mis\u001b[39;00m \u001b[38;5;129;01mnot\u001b[39;00m \u001b[38;5;28;01mNone\u001b[39;00m\n\u001b[32m   1891\u001b[39m f = \u001b[38;5;28mself\u001b[39m.handles.handle\n",
      "\u001b[36mFile \u001b[39m\u001b[32m~\\anaconda3\\Lib\\site-packages\\pandas\\io\\common.py:728\u001b[39m, in \u001b[36mget_handle\u001b[39m\u001b[34m(path_or_buf, mode, encoding, compression, memory_map, is_text, errors, storage_options)\u001b[39m\n\u001b[32m    725\u001b[39m     codecs.lookup_error(errors)\n\u001b[32m    727\u001b[39m \u001b[38;5;66;03m# open URLs\u001b[39;00m\n\u001b[32m--> \u001b[39m\u001b[32m728\u001b[39m ioargs = \u001b[43m_get_filepath_or_buffer\u001b[49m\u001b[43m(\u001b[49m\n\u001b[32m    729\u001b[39m \u001b[43m    \u001b[49m\u001b[43mpath_or_buf\u001b[49m\u001b[43m,\u001b[49m\n\u001b[32m    730\u001b[39m \u001b[43m    \u001b[49m\u001b[43mencoding\u001b[49m\u001b[43m=\u001b[49m\u001b[43mencoding\u001b[49m\u001b[43m,\u001b[49m\n\u001b[32m    731\u001b[39m \u001b[43m    \u001b[49m\u001b[43mcompression\u001b[49m\u001b[43m=\u001b[49m\u001b[43mcompression\u001b[49m\u001b[43m,\u001b[49m\n\u001b[32m    732\u001b[39m \u001b[43m    \u001b[49m\u001b[43mmode\u001b[49m\u001b[43m=\u001b[49m\u001b[43mmode\u001b[49m\u001b[43m,\u001b[49m\n\u001b[32m    733\u001b[39m \u001b[43m    \u001b[49m\u001b[43mstorage_options\u001b[49m\u001b[43m=\u001b[49m\u001b[43mstorage_options\u001b[49m\u001b[43m,\u001b[49m\n\u001b[32m    734\u001b[39m \u001b[43m\u001b[49m\u001b[43m)\u001b[49m\n\u001b[32m    736\u001b[39m handle = ioargs.filepath_or_buffer\n\u001b[32m    737\u001b[39m handles: \u001b[38;5;28mlist\u001b[39m[BaseBuffer]\n",
      "\u001b[36mFile \u001b[39m\u001b[32m~\\anaconda3\\Lib\\site-packages\\pandas\\io\\common.py:389\u001b[39m, in \u001b[36m_get_filepath_or_buffer\u001b[39m\u001b[34m(filepath_or_buffer, encoding, compression, mode, storage_options)\u001b[39m\n\u001b[32m    386\u001b[39m         \u001b[38;5;28;01mif\u001b[39;00m content_encoding == \u001b[33m\"\u001b[39m\u001b[33mgzip\u001b[39m\u001b[33m\"\u001b[39m:\n\u001b[32m    387\u001b[39m             \u001b[38;5;66;03m# Override compression based on Content-Encoding header\u001b[39;00m\n\u001b[32m    388\u001b[39m             compression = {\u001b[33m\"\u001b[39m\u001b[33mmethod\u001b[39m\u001b[33m\"\u001b[39m: \u001b[33m\"\u001b[39m\u001b[33mgzip\u001b[39m\u001b[33m\"\u001b[39m}\n\u001b[32m--> \u001b[39m\u001b[32m389\u001b[39m         reader = BytesIO(\u001b[43mreq\u001b[49m\u001b[43m.\u001b[49m\u001b[43mread\u001b[49m\u001b[43m(\u001b[49m\u001b[43m)\u001b[49m)\n\u001b[32m    390\u001b[39m     \u001b[38;5;28;01mreturn\u001b[39;00m IOArgs(\n\u001b[32m    391\u001b[39m         filepath_or_buffer=reader,\n\u001b[32m    392\u001b[39m         encoding=encoding,\n\u001b[32m   (...)\u001b[39m\u001b[32m    395\u001b[39m         mode=fsspec_mode,\n\u001b[32m    396\u001b[39m     )\n\u001b[32m    398\u001b[39m \u001b[38;5;28;01mif\u001b[39;00m is_fsspec_url(filepath_or_buffer):\n",
      "\u001b[36mFile \u001b[39m\u001b[32m~\\anaconda3\\Lib\\http\\client.py:495\u001b[39m, in \u001b[36mHTTPResponse.read\u001b[39m\u001b[34m(self, amt)\u001b[39m\n\u001b[32m    493\u001b[39m \u001b[38;5;28;01melse\u001b[39;00m:\n\u001b[32m    494\u001b[39m     \u001b[38;5;28;01mtry\u001b[39;00m:\n\u001b[32m--> \u001b[39m\u001b[32m495\u001b[39m         s = \u001b[38;5;28;43mself\u001b[39;49m\u001b[43m.\u001b[49m\u001b[43m_safe_read\u001b[49m\u001b[43m(\u001b[49m\u001b[38;5;28;43mself\u001b[39;49m\u001b[43m.\u001b[49m\u001b[43mlength\u001b[49m\u001b[43m)\u001b[49m\n\u001b[32m    496\u001b[39m     \u001b[38;5;28;01mexcept\u001b[39;00m IncompleteRead:\n\u001b[32m    497\u001b[39m         \u001b[38;5;28mself\u001b[39m._close_conn()\n",
      "\u001b[36mFile \u001b[39m\u001b[32m~\\anaconda3\\Lib\\http\\client.py:642\u001b[39m, in \u001b[36mHTTPResponse._safe_read\u001b[39m\u001b[34m(self, amt)\u001b[39m\n\u001b[32m    635\u001b[39m \u001b[38;5;28;01mdef\u001b[39;00m\u001b[38;5;250m \u001b[39m\u001b[34m_safe_read\u001b[39m(\u001b[38;5;28mself\u001b[39m, amt):\n\u001b[32m    636\u001b[39m \u001b[38;5;250m    \u001b[39m\u001b[33;03m\"\"\"Read the number of bytes requested.\u001b[39;00m\n\u001b[32m    637\u001b[39m \n\u001b[32m    638\u001b[39m \u001b[33;03m    This function should be used when <amt> bytes \"should\" be present for\u001b[39;00m\n\u001b[32m    639\u001b[39m \u001b[33;03m    reading. If the bytes are truly not available (due to EOF), then the\u001b[39;00m\n\u001b[32m    640\u001b[39m \u001b[33;03m    IncompleteRead exception can be used to detect the problem.\u001b[39;00m\n\u001b[32m    641\u001b[39m \u001b[33;03m    \"\"\"\u001b[39;00m\n\u001b[32m--> \u001b[39m\u001b[32m642\u001b[39m     data = \u001b[38;5;28;43mself\u001b[39;49m\u001b[43m.\u001b[49m\u001b[43mfp\u001b[49m\u001b[43m.\u001b[49m\u001b[43mread\u001b[49m\u001b[43m(\u001b[49m\u001b[43mamt\u001b[49m\u001b[43m)\u001b[49m\n\u001b[32m    643\u001b[39m     \u001b[38;5;28;01mif\u001b[39;00m \u001b[38;5;28mlen\u001b[39m(data) < amt:\n\u001b[32m    644\u001b[39m         \u001b[38;5;28;01mraise\u001b[39;00m IncompleteRead(data, amt-\u001b[38;5;28mlen\u001b[39m(data))\n",
      "\u001b[36mFile \u001b[39m\u001b[32m~\\anaconda3\\Lib\\socket.py:719\u001b[39m, in \u001b[36mSocketIO.readinto\u001b[39m\u001b[34m(self, b)\u001b[39m\n\u001b[32m    717\u001b[39m     \u001b[38;5;28;01mraise\u001b[39;00m \u001b[38;5;167;01mOSError\u001b[39;00m(\u001b[33m\"\u001b[39m\u001b[33mcannot read from timed out object\u001b[39m\u001b[33m\"\u001b[39m)\n\u001b[32m    718\u001b[39m \u001b[38;5;28;01mtry\u001b[39;00m:\n\u001b[32m--> \u001b[39m\u001b[32m719\u001b[39m     \u001b[38;5;28;01mreturn\u001b[39;00m \u001b[38;5;28;43mself\u001b[39;49m\u001b[43m.\u001b[49m\u001b[43m_sock\u001b[49m\u001b[43m.\u001b[49m\u001b[43mrecv_into\u001b[49m\u001b[43m(\u001b[49m\u001b[43mb\u001b[49m\u001b[43m)\u001b[49m\n\u001b[32m    720\u001b[39m \u001b[38;5;28;01mexcept\u001b[39;00m timeout:\n\u001b[32m    721\u001b[39m     \u001b[38;5;28mself\u001b[39m._timeout_occurred = \u001b[38;5;28;01mTrue\u001b[39;00m\n",
      "\u001b[31mKeyboardInterrupt\u001b[39m: "
     ]
    }
   ],
   "source": [
    "import pandas as pd\n",
    "years = [18, 19, 20, 21, 22, 23, 24, 25]\n",
    "headers = [\n",
    "    \"transaction_id\",\n",
    "    \"price\",\n",
    "    \"date_of_transfer\",\n",
    "    \"postcode\",\n",
    "    \"property_type\",\n",
    "    \"new_build_flag\",\n",
    "    \"tenure_type\",\n",
    "    \"primary_addressable_object_name\",\n",
    "    \"secondary_addressable_object_name\",\n",
    "    \"street\",\n",
    "    \"locality\",\n",
    "    \"town_city\",\n",
    "    \"district\",\n",
    "    \"county\",\n",
    "    \"ppd_category_type\",\n",
    "    \"record_status\"\n",
    "]\n",
    "drop = [\n",
    "    \"transaction_id\",\n",
    "    \"locality\",\n",
    "    \"ppd_category_type\",\n",
    "    \"record_status\"\n",
    "]\n",
    "dfs = {}\n",
    "for year in years:\n",
    "    url = f\"http://prod.publicdata.landregistry.gov.uk.s3-website-eu-west-1.amazonaws.com/pp-20{year}.csv\"\n",
    "    df = pd.read_csv(url)\n",
    "    df.columns = headers\n",
    "    df = df.drop(columns=drop)\n",
    "    dfs[f\"df20{year}\"] = df\n",
    "    print(f\"{year} done\")\n"
   ]
  },
  {
   "cell_type": "code",
   "execution_count": null,
   "id": "9d1d6211fec3274b",
   "metadata": {
    "ExecuteTime": {
     "end_time": "2025-08-09T20:49:00.023426Z",
     "start_time": "2025-08-09T20:48:59.367320Z"
    }
   },
   "outputs": [],
   "source": [
    "df_full = pd.concat(dfs)"
   ]
  },
  {
   "cell_type": "code",
   "execution_count": null,
   "id": "198b4244beb27abc",
   "metadata": {
    "ExecuteTime": {
     "end_time": "2025-08-09T20:49:01.382365Z",
     "start_time": "2025-08-09T20:49:00.031307Z"
    }
   },
   "outputs": [],
   "source": [
    "df_full['Price (Thousands)'] = df_full['price'] / 1000\n",
    "df_full.drop(columns=['price'], inplace=True)\n",
    "df_full.describe()"
   ]
  },
  {
   "cell_type": "code",
   "execution_count": null,
   "id": "a9dbee8e5b29d288",
   "metadata": {
    "ExecuteTime": {
     "end_time": "2025-08-09T20:49:04.128475Z",
     "start_time": "2025-08-09T20:49:01.394384Z"
    }
   },
   "outputs": [],
   "source": [
    "df_full.isna().sum()"
   ]
  },
  {
   "cell_type": "code",
   "execution_count": null,
   "id": "b20f82e3e237af98",
   "metadata": {
    "ExecuteTime": {
     "end_time": "2025-08-09T20:49:04.148440Z",
     "start_time": "2025-08-09T20:49:04.144867Z"
    }
   },
   "outputs": [],
   "source": [
    "df_clean = df_full[df_full['postcode'].notna()]\n",
    "df_clean.describe()"
   ]
  },
  {
   "cell_type": "code",
   "execution_count": null,
   "id": "3055a90cd4f1b26b",
   "metadata": {
    "ExecuteTime": {
     "end_time": "2025-08-09T20:49:06.664566Z",
     "start_time": "2025-08-09T20:49:04.204765Z"
    }
   },
   "outputs": [],
   "source": [
    "df_binary = pd.get_dummies(df_clean , dtype=int, columns=['tenure_type','new_build_flag', 'property_type'])\n",
    "df_binary.rename(columns={'date_of_transfer':'Transfer Date','town_city':'Town/City','district':'District','county':'County','tenure_type_F':'Freehold Tenure','tenure_type_L':'Leasehold Tenure','new_build_flag_N':'Old Build','new_build_flag_Y':'New Build','property_type_D':'Detached', 'property_type_F':'Flat', 'property_type_O':'Other Property Type','property_type_S':'Semi-detached','property_type_T':'Terraced', 'postcode':'Postcode'}, inplace=True)\n",
    "df_binary.head()"
   ]
  },
  {
   "cell_type": "code",
   "execution_count": null,
   "id": "55f7aa6763438711",
   "metadata": {
    "ExecuteTime": {
     "end_time": "2025-08-09T20:49:15.412308Z",
     "start_time": "2025-08-09T20:49:06.675158Z"
    }
   },
   "outputs": [],
   "source": [
    "df_binary['Transfer Date'] = pd.to_datetime(df_binary['Transfer Date'], errors='coerce')\n",
    "df_binary['Year'] = df_binary['Transfer Date'].dt.year\n",
    "df_binary['Month'] = df_binary['Transfer Date'].dt.month\n",
    "df_binary['Quarter'] = df_binary['Transfer Date'].dt.quarter\n",
    "df_binary['Day of the Week'] = df_binary['Transfer Date'].dt.dayofweek\n",
    "df_binary['Transfer Date'] = df_binary['Transfer Date'].astype(str).str[:10]"
   ]
  },
  {
   "cell_type": "code",
   "execution_count": null,
   "id": "dd355b9bbbcf343c",
   "metadata": {
    "ExecuteTime": {
     "end_time": "2025-08-09T20:49:22.525666Z",
     "start_time": "2025-08-09T20:49:15.461002Z"
    }
   },
   "outputs": [],
   "source": [
    "print(df_binary.dtypes)"
   ]
  },
  {
   "cell_type": "code",
   "execution_count": null,
   "id": "d4f9d4da-3803-49e3-bd2a-cec916100f85",
   "metadata": {},
   "outputs": [],
   "source": [
    "print(df_binary.nunique())"
   ]
  },
  {
   "cell_type": "code",
   "execution_count": null,
   "id": "8e92f91a77b8aa45",
   "metadata": {
    "ExecuteTime": {
     "end_time": "2025-08-09T20:49:38.609499Z",
     "start_time": "2025-08-09T20:49:22.535352Z"
    }
   },
   "outputs": [],
   "source": [
    "df_binary['Postcode Area'] = df_binary['Postcode'].str.extract(r'^([A-Z]+)')\n",
    "df_binary['Postcode District'] = df_binary['Postcode'].str.extract(r'^([A-Z]+[0-9]+)')\n",
    "df_binary.head()"
   ]
  },
  {
   "cell_type": "code",
   "execution_count": null,
   "id": "6a6d709661aa3d75",
   "metadata": {
    "ExecuteTime": {
     "end_time": "2025-08-09T20:49:41.000118Z",
     "start_time": "2025-08-09T20:49:38.620875Z"
    }
   },
   "outputs": [],
   "source": [
    "df_avg_pc = df_binary.groupby('Postcode Area')['Price (Thousands)'].mean().reset_index()\n",
    "df_avg_pc.columns = ['Postcode Area', 'Area Code Average Price (Thousands)']\n",
    "df_avg_county = df_binary.groupby('County')['Price (Thousands)'].mean().reset_index()\n",
    "df_avg_county.columns = ['County', 'County Average Price (Thousands)']\n",
    "df_avg_tc = df_binary.groupby('Town/City')['Price (Thousands)'].mean().reset_index()\n",
    "df_avg_tc.columns = ['Town/City', 'Town/City Average Price (Thousands)']\n",
    "df_avg_dist = df_binary.groupby('District')['Price (Thousands)'].mean().reset_index()\n",
    "df_avg_dist.columns = ['District', 'District Average Price (Thousands)']\n",
    "df_avg_pc.head()"
   ]
  },
  {
   "cell_type": "code",
   "execution_count": null,
   "id": "85b8ca0cbaa52fe2",
   "metadata": {
    "ExecuteTime": {
     "end_time": "2025-08-09T20:49:53.944118Z",
     "start_time": "2025-08-09T20:49:41.010219Z"
    }
   },
   "outputs": [],
   "source": [
    "df_merge = df_binary.merge(df_avg_pc, on=['Postcode Area'], how='left')\n",
    "df_merge = df_merge.merge(df_avg_tc, on=['Town/City'], how='left')\n",
    "df_merge = df_merge.merge(df_avg_dist, on=['District'], how='left')\n",
    "df_merge = df_merge.merge(df_avg_county, on=['County'], how='left')\n",
    "df_merge.head()"
   ]
  },
  {
   "cell_type": "code",
   "execution_count": null,
   "id": "b9d74f0bdb977364",
   "metadata": {
    "ExecuteTime": {
     "end_time": "2025-08-09T20:59:14.308620Z",
     "start_time": "2025-08-09T20:58:43.582640Z"
    }
   },
   "outputs": [],
   "source": [
    "loc_df = pd.read_csv('ONSPD_Online_Latest_Centroids.csv')\n",
    "loc_df.head()"
   ]
  },
  {
   "cell_type": "code",
   "execution_count": null,
   "id": "f8da3055fcae7dce",
   "metadata": {
    "ExecuteTime": {
     "end_time": "2025-08-09T20:59:22.178307Z",
     "start_time": "2025-08-09T20:59:22.157218Z"
    }
   },
   "outputs": [],
   "source": [
    "loc_df.columns"
   ]
  },
  {
   "cell_type": "code",
   "execution_count": null,
   "id": "df2e2a030c1a4eff",
   "metadata": {
    "ExecuteTime": {
     "end_time": "2025-08-09T20:59:22.911762Z",
     "start_time": "2025-08-09T20:59:22.811894Z"
    }
   },
   "outputs": [],
   "source": [
    "loc_df_drop = loc_df[['LAT','LONG','PCDS','OSEAST1M','OSNRTH1M']]\n",
    "loc_df_drop.rename(columns={'PCDS':'Postcode'}, inplace=True)\n",
    "loc_df_drop.head()"
   ]
  },
  {
   "cell_type": "code",
   "execution_count": null,
   "id": "6b50e49fac65c493",
   "metadata": {
    "ExecuteTime": {
     "end_time": "2025-08-09T20:59:33.314189Z",
     "start_time": "2025-08-09T20:59:23.634783Z"
    }
   },
   "outputs": [],
   "source": [
    "loc_house_df = df_merge.merge(loc_df_drop, on=['Postcode'], how='left')\n",
    "loc_house_df.head()"
   ]
  },
  {
   "cell_type": "code",
   "execution_count": null,
   "id": "ae44be4b6763e198",
   "metadata": {
    "ExecuteTime": {
     "end_time": "2025-08-09T20:59:36.821765Z",
     "start_time": "2025-08-09T20:59:33.336576Z"
    }
   },
   "outputs": [],
   "source": [
    "loc_house_df.isna().sum()"
   ]
  },
  {
   "cell_type": "code",
   "execution_count": null,
   "id": "20917e15896e6a74",
   "metadata": {
    "ExecuteTime": {
     "end_time": "2025-08-09T20:59:36.996394Z",
     "start_time": "2025-08-09T20:59:36.850003Z"
    }
   },
   "outputs": [],
   "source": [
    "print(loc_house_df['LONG'].min())\n",
    "print(loc_house_df['LAT'].min())\n",
    "print(loc_house_df['LONG'].max())\n",
    "print(loc_house_df['LAT'].max())"
   ]
  },
  {
   "cell_type": "code",
   "execution_count": null,
   "id": "a96bc6e6e257186b",
   "metadata": {
    "ExecuteTime": {
     "end_time": "2025-08-09T20:59:48.183724Z",
     "start_time": "2025-08-09T20:59:37.009624Z"
    }
   },
   "outputs": [],
   "source": [
    "join_cols = [\n",
    "    'Area Code Average Price (Thousands)',\n",
    "    'Town/City Average Price (Thousands)',\n",
    "    'District Average Price (Thousands)',\n",
    "    'County Average Price (Thousands)',\n",
    "    'LAT', 'LONG', 'OSEAST1M', 'OSNRTH1M',\n",
    "    'Price (Thousands)', 'Freehold Tenure', 'Leasehold Tenure',\n",
    "    'Old Build', 'New Build', 'Detached', 'Flat', 'Other Property Type',\n",
    "    'Semi-detached', 'Terraced', 'Year', 'Month', 'Quarter',\n",
    "    'Day of the Week'\n",
    "]\n",
    "loc_house_df = loc_house_df.drop_duplicates(subset=join_cols)"
   ]
  },
  {
   "cell_type": "code",
   "execution_count": null,
   "id": "5eb1011a25188dbe",
   "metadata": {
    "ExecuteTime": {
     "end_time": "2025-08-09T20:59:50.310891Z",
     "start_time": "2025-08-09T20:59:48.192023Z"
    }
   },
   "outputs": [],
   "source": [
    "upper = loc_house_df['Price (Thousands)'].quantile(0.95)\n",
    "df_no_outliers =  loc_house_df[loc_house_df['Price (Thousands)'] <= upper]\n",
    "df_no_outliers.head()"
   ]
  },
  {
   "cell_type": "code",
   "execution_count": null,
   "id": "38676b81cf68ce04",
   "metadata": {
    "ExecuteTime": {
     "end_time": "2025-08-09T21:01:49.934346Z",
     "start_time": "2025-08-09T20:59:50.334175Z"
    }
   },
   "outputs": [],
   "source": [
    "df_no_outliers.to_csv('ETL_Final.csv', index=False)"
   ]
  },
  {
   "cell_type": "code",
   "execution_count": null,
   "id": "5423bdc7-7fb1-4a8e-8bdf-593ef5b52141",
   "metadata": {},
   "outputs": [],
   "source": []
  }
 ],
 "metadata": {
  "kernelspec": {
   "display_name": "Python 3 (ipykernel)",
   "language": "python",
   "name": "python3"
  },
  "language_info": {
   "codemirror_mode": {
    "name": "ipython",
    "version": 3
   },
   "file_extension": ".py",
   "mimetype": "text/x-python",
   "name": "python",
   "nbconvert_exporter": "python",
   "pygments_lexer": "ipython3",
   "version": "3.13.5"
  }
 },
 "nbformat": 4,
 "nbformat_minor": 5
}
