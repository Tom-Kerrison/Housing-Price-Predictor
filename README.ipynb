{
 "cells": [
  {
   "cell_type": "markdown",
   "id": "81e8f9d9-485d-43af-8d97-eb96a0abe276",
   "metadata": {},
   "source": [
    "# Housing Price Predictor"
   ]
  },
  {
   "cell_type": "markdown",
   "id": "353975a5-e337-496e-905c-31ad5122fa75",
   "metadata": {},
   "source": [
    "## Objectives"
   ]
  },
  {
   "cell_type": "markdown",
   "id": "8fa91a96-8dd9-4ffa-b399-cbe893d127e5",
   "metadata": {},
   "source": [
    "The objective of this project is to evaluate and identify the optimal model for predicting property prices in the UK. To achieve this, the project leverages publicly available property value data, postcode location information, finacial data and EPC (Energy Performance Certificate) records.\n",
    "\n",
    "The workflow includes several key steps:\n",
    "\n",
    "**1. Data Collection and Integration** – Importing and merging multiple datasets into a cohesive format.\n",
    "\n",
    "**2. Data Cleaning** – Handling missing values, removing outliers, and ensuring data quality.\n",
    "\n",
    "**3. Exploratory Data Analysis (EDA)** – Visualizing trends and relationships in the data to better understand feature behavior.\n",
    "\n",
    "**4. Modeling** – Testing and optimizing various predictive models, including linear and tree-based methods, to identify the best-performing   approach.\n",
    "\n",
    "The ultimate goal is to develop a robust predictive model capable of accurately estimating the price of individual properties based on multiple features, providing reliable and actionable insights."
   ]
  },
  {
   "cell_type": "markdown",
   "id": "9a918156-0d56-4f1d-bad0-30596a46a906",
   "metadata": {},
   "source": [
    "## 1. Data Collection and Integration"
   ]
  },
  {
   "cell_type": "markdown",
   "id": "481e47e8-946a-42e3-a267-f3fc865e4e88",
   "metadata": {},
   "source": [
    "### 1.1 Data Sources"
   ]
  },
  {
   "cell_type": "markdown",
   "id": "247681b3-5bc1-4489-a04f-f99e9268bfb8",
   "metadata": {},
   "source": [
    "Accurate and reliable data is critical for the success of this project. Without high-quality data, any conclusions regarding model performance would be unreliable. This project draws on six key data sources:\n",
    "\n",
    "**1. Price Paid Data (2018 – August 2025)** – Detailed property transaction prices across the UK. Gov.uk Price Paid Data\n",
    "\n",
    "**2. ONS Postcode Directory (Latest Centroids)** – Geographic centroids for UK postcodes, enabling spatial analysis. ONSPD Centroids\n",
    "\n",
    "**3. EPC Open Data** – Energy Performance Certificate records for UK properties. EPC Data\n",
    "\n",
    "**4. Bank of England Interest Rates** – Historical base interest rates affecting property financing. Bank of England Rates\n",
    "\n",
    "**5. ONS Unemployment Rates** – Labour market data reflecting economic conditions. ONS Unemployment Data\n",
    "\n",
    "**6. ONS Inflation Rates** – Consumer price inflation data, providing context for market trends. ONS Inflation Data\n",
    "\n",
    "Due to the large size of these datasets, some were accessed directly from public URLs and preprocessed in chunks to manage memory usage. Unnecessary features were removed before merging with other dataframes to reduce storage requirements. For example:"
   ]
  },
  {
   "cell_type": "code",
   "execution_count": null,
   "id": "4b4a7e1b-41b6-4ede-ba1e-4a5ce7effee9",
   "metadata": {},
   "outputs": [],
   "source": [
    "import pandas as pd\n",
    "\n",
    "#Set the years of data available\n",
    "years = [18, 19, 20, 21, 22, 23, 24, 25]\n",
    "\n",
    "#Set the heading names from the CSVs\n",
    "headers = [\"transaction_id\",\"price\",\"date_of_transfer\",\"postcode\",\"property_type\",\"new_build_flag\",\"tenure_type\",\"primary_addressable_object_name\",\n",
    "            \"secondary_addressable_object_name\",\"street\",\"locality\",\"town_city\",\"district\",\"county\",\"ppd_category_type\",\"record_status\"]\n",
    "\n",
    "#Drop irellevent columns\n",
    "drop = [\"transaction_id\",\"primary_addressable_object_name\",\"secondary_addressable_object_name\",\"street\",\"locality\",\"ppd_category_type\",\"record_status\"]\n",
    "\n",
    "#Loop through all available CSVs\n",
    "dfs = {}\n",
    "for year in years:\n",
    "    url = f\"http://prod.publicdata.landregistry.gov.uk.s3-website-eu-west-1.amazonaws.com/pp-20{year}.csv\"\n",
    "    df = pd.read_csv(url)\n",
    "    df.columns = headers\n",
    "    df = df.drop(columns=drop)\n",
    "    dfs[f\"df20{year}\"] = df\n",
    "    print(f\"{year} done\")"
   ]
  },
  {
   "cell_type": "markdown",
   "id": "578b590d-c69e-4017-aa2b-4398070f061b",
   "metadata": {},
   "source": [
    "### 1.2 Data Merging"
   ]
  },
  {
   "cell_type": "markdown",
   "id": "a185c94e-69b3-4308-b6ad-bfe30309e9f3",
   "metadata": {},
   "source": [
    "To construct the final analysis dataset, all five external sources were merged into the primary Price Paid Data. Since each source had different structures and identifiers, a tailored merging strategy was required for each:\n",
    "\n",
    "**1. ONS Postcode Directory** – Standardized postcodes by removing spaces and converting all characters to uppercase before merging.\n",
    "\n",
    "**2. EPC Open Data** – Created a new matching column by combining cleaned address fields with standardized postcodes to align property records.\n",
    "\n",
    "**3. Interest Rates** – Merged by aligning the month and year of the property sale with the corresponding Bank of England interest rate.\n",
    "\n",
    "**4. Unemployment Rates** – Merged using the sale month and year to match with the Office for National Statistics unemployment rate for the same period.\n",
    "\n",
    "**5. Inflation Rates** – Forward-filled inflation rates so that all transaction dates falling between ONS update intervals were assigned the most recent available rate.\n",
    "\n",
    "This process ensured that each property transaction in the Price Paid Data was enriched with geographic, energy performance, and macroeconomic context. "
   ]
  },
  {
   "cell_type": "markdown",
   "id": "47f9cbf5-b64e-4122-b779-c16707e82237",
   "metadata": {},
   "source": [
    "## 2. Data Cleaning"
   ]
  },
  {
   "cell_type": "markdown",
   "id": "caeeec86-7176-4940-bce7-4ac4b26f32a3",
   "metadata": {},
   "source": [
    "To prepare the final dataset for predictive modelling, the following preprocessing steps were applied:  \n",
    "\n",
    "| Step | Action |Detail| Purpose |\n",
    "|------|-------|------|---------|\n",
    "| 1 | **Column Reduction** | Removed unnecessary and duplicate columns | Streamlined the dataset to reduce noise and memory usage |\n",
    "| 2 | **Handling Missing Values** | Removed rows or imputed with `0`, mode, or mean depending on the feature | Ensured dataset completeness and reduced bias from missing values |\n",
    "| 3 | **Categorical Encoding** | Applied one-hot encoding to categorical variables | Made categorical data usable in machine learning models |\n",
    "| 4 | **Feature Engineering** | Created new features such as day of week, quarter, and month of sale | Captured temporal trends and improved model expressiveness |\n",
    "| 5 | **Data Type Standardisation** | Converted all features to `int` or `float` | Ensured numerical consistency across all features |\n",
    "| 6 | **Outlier Removal** | Removed the top 0.05% of property prices | Reduced skewness and improved model stability |  \n"
   ]
  },
  {
   "cell_type": "markdown",
   "id": "3fcdc65c-6fc2-4876-bd13-69987c79f7c2",
   "metadata": {},
   "source": [
    "### 2.1 Column Reduction"
   ]
  },
  {
   "cell_type": "code",
   "execution_count": null,
   "id": "361d9ba2-4369-4d83-b921-168ed4674a8b",
   "metadata": {},
   "outputs": [],
   "source": [
    "drop_cols = ['ADDRESS2', 'FLAT_TOP_STOREY', 'FLAT_STOREY_COUNT','HOT_WATER_ENV_EFF', 'FLOOR_ENERGY_EFF', 'WALLS_ENV_EFF', 'SHEATING_ENERGY_EFF','FLOOR_ENV_EFF','SHEATING_ENV_EFF']\n",
    "df.drop(columns=drop_cols, inplace=True, errors='ignore')"
   ]
  },
  {
   "cell_type": "markdown",
   "id": "b1010a7e-0367-4765-9a97-55da4a00b0fd",
   "metadata": {},
   "source": [
    "### 2.2 Handling Missing Values"
   ]
  },
  {
   "cell_type": "code",
   "execution_count": null,
   "id": "b7735393-7418-4f50-b3a1-b727f155b168",
   "metadata": {},
   "outputs": [],
   "source": [
    "#Columns replaced with their mode\n",
    "mode_impute_cols = ['MAINS_GAS_FLAG', 'MAIN_HEATING_CONTROLS','GLAZED_TYPE', 'LOW_ENERGY_LIGHTING','SOLAR_WATER_HEATING_FLAG',\n",
    "                    'MAIN_FUEL', 'GLAZED_AREA', 'ROOF_ENERGY_EFF', 'ROOF_ENV_EFF']\n",
    "\n",
    "for col in mode_impute_cols:\n",
    "    if col in df.columns:\n",
    "        mode_series = df[col].mode(dropna=True)\n",
    "        if not mode_series.empty:\n",
    "            df[col].fillna(mode_series[0], inplace=True)\n",
    "\n",
    "#Columns replaced with their median\n",
    "median_impute_cols = ['MULTI_GLAZE_PROPORTION', '', 'EXTENSION_COUNT', 'NUMBER_HABITABLE_ROOMS', 'NUMBER_HEATED_ROOMS', 'FLOOR_HEIGHT']\n",
    "\n",
    "for col in median_impute_cols:\n",
    "    if col in df.columns:\n",
    "        df[col].fillna(df[col].median(), inplace=True)\n",
    "\n",
    "#Columns replaced with 0\n",
    "zero_fill_cols = ['EXTENSION_COUNT', 'WIND_TURBINE_COUNT','NUMBER_OPEN_FIREPLACES']\n",
    "for col in zero_fill_cols:\n",
    "    if col in df.columns:\n",
    "        df[col].fillna(0, inplace=True)\n",
    "\n",
    "#Dropping rows with null values\n",
    "critical_cols = ['BUILT_FORM', 'LAT', 'LONG', 'OSEAST1M', 'OSNRTH1M','LIGHTING_ENV_EFF', 'LIGHTING_ENERGY_EFF', \n",
    "                 'MAINHEATC_ENV_EFF','MAINHEATC_ENERGY_EFF', 'MAINHEAT_ENV_EFF', 'MAINHEAT_ENERGY_EFF','WALLS_ENERGY_EFF',  \n",
    "                 'WINDOWS_ENERGY_EFF','WINDOWS_ENV_EFF', 'HOT_WATER_ENERGY_EFF', 'HOTWATER_DESCRIPTION', 'ADDRESS1']\n",
    "\n",
    "df.dropna(subset=[col for col in critical_cols if col in df.columns], inplace=True)\n",
    "\n",
    "missing_summary = df.isnull().sum()\n",
    "print(\"Remaining missing values:\\n\", missing_summary[missing_summary > 0])"
   ]
  },
  {
   "cell_type": "markdown",
   "id": "43076484-2647-4224-9d83-e59953293dce",
   "metadata": {},
   "source": [
    "### 2.3 Categorical Encoding"
   ]
  },
  {
   "cell_type": "code",
   "execution_count": null,
   "id": "564c11ee-0662-4226-92ec-2e9eff1aa825",
   "metadata": {},
   "outputs": [],
   "source": [
    "df_binary = pd.get_dummies(df, dtype=int, columns=['tenure_type','new_build_flag', 'property_type'])\n",
    "df_binary.rename(columns={'tenure_type_F':'Freehold Tenure','tenure_type_L':'Leasehold Tenure','new_build_flag_N':'Old Build',\n",
    "                          'new_build_flag_Y':'New Build','property_type_D':'Detached', 'property_type_F':'Flat', \n",
    "                          'property_type_O':'Other Property Type','property_type_S':'Semi-detached','property_type_T':'Terraced'}, inplace=True)"
   ]
  },
  {
   "cell_type": "markdown",
   "id": "1ee5ec78-18a0-4be8-85a8-7545270fd5e3",
   "metadata": {},
   "source": [
    "### 2.4 Feature Engineering"
   ]
  },
  {
   "cell_type": "code",
   "execution_count": null,
   "id": "99b80d61-f761-45c7-8768-84f0a9117c6f",
   "metadata": {},
   "outputs": [],
   "source": [
    "df_binary['Transfer Date'] = pd.to_datetime(df_binary['Transfer Date'], errors='coerce')\n",
    "df_binary['Year'] = df_binary['Transfer Date'].dt.year\n",
    "df_binary['Month'] = df_binary['Transfer Date'].dt.month\n",
    "df_binary['Quarter'] = df_binary['Transfer Date'].dt.quarter\n",
    "df_binary['Day of the Week'] = df_binary['Transfer Date'].dt.dayofweek\n",
    "df_binary['Transfer Date'] = df_binary['Transfer Date'].astype(str).str[:10]\n",
    "df_binary.tail()"
   ]
  },
  {
   "cell_type": "markdown",
   "id": "81455c23-ac24-4097-ba3f-3e4ce926a656",
   "metadata": {},
   "source": [
    "### 2.5 Data Type Standardisation"
   ]
  },
  {
   "cell_type": "code",
   "execution_count": null,
   "id": "97363211-a018-4cfb-973a-57cf56246200",
   "metadata": {},
   "outputs": [],
   "source": [
    "df['MAIN_HEATING_CONTROLS'] = df['MAIN_HEATING_CONTROLS'].astype('float64')"
   ]
  },
  {
   "cell_type": "markdown",
   "id": "9c3a8436-9a39-46cf-9e79-8143ad092eae",
   "metadata": {},
   "source": [
    "### 2.6 Outlier Removal"
   ]
  },
  {
   "cell_type": "code",
   "execution_count": null,
   "id": "1ee8246a-137e-45fa-8129-3aa5c55b7efc",
   "metadata": {},
   "outputs": [],
   "source": [
    "upper = df['Price (Thousands)'].quantile(0.95)\n",
    "df_no_outliers =  df['Price (Thousands)'] <= upper\n",
    "df_no_outliers.describe()"
   ]
  },
  {
   "cell_type": "markdown",
   "id": "7ae3b257-938e-40dc-a73e-ec8a6d22d2ad",
   "metadata": {},
   "source": [
    "## 3. Exploratory Data Analytics"
   ]
  },
  {
   "cell_type": "markdown",
   "id": "8efe5ce2-1fd7-4d3c-897f-7e9d375d4023",
   "metadata": {},
   "source": [
    "To analyse the distribution of property prices, two visualisations were generated: a boxplot (Figure 1) and a histogram (Figure 2). Both indicate that most properties cluster within a £200,000 range, but the histogram reveals a long, gradually tapering upper tail. This suggests that a substantial portion of properties lie well above the upper quartile, and this upper 25% is spread across a wide price range rather than forming a concentrated cluster.\n",
    "\n",
    "Such a distribution poses challenges for many models, particularly those that rely on strict assumptions of normality or homoscedasticity. XGBoost, however, is well suited to this task: its gradient boosting framework can model non-linear relationships and handle skewed distributions effectively by iteratively focusing on difficult-to-predict instances, including high-value properties in the tail. Moreover, its ability to apply regularisation helps prevent overfitting to sparse, extreme values, while techniques such as target transformation can further stabilise variance in the upper tail.\n",
    "\n",
    "This combination of flexibility, robustness, and capacity to weight hard-to-predict observations makes XGBoost a strong choice for modelling property prices in the presence of a long-tailed distribution."
   ]
  },
  {
   "cell_type": "markdown",
   "id": "47a6a726-eb8a-4be4-822f-3d7e695193ed",
   "metadata": {},
   "source": [
    "<center>\n",
    "  <img src=\"C:/Users/lenovo/OneDrive/Desktop/House_price_predict_EDA/Box%20Plot.png\" width=\"1000\">\n",
    "</center>\n",
    "<figure style=\"text-align: center;\">\n",
    "    <img src=\"images/Box%20Plot.png\" width=\"500\">\n",
    "    <figcaption>Figure 1: Distribution of House Prices Using a Box Plot</figcaption>\n",
    "</figure>\n"
   ]
  },
  {
   "cell_type": "markdown",
   "id": "4441988e-e786-4658-bc20-3676b737fd7e",
   "metadata": {},
   "source": [
    "<center>\n",
    "  <img src=\"C:\\Users\\lenovo\\OneDrive\\Desktop\\House_price_predict_EDA\\Price Hist.png\" width=\"1000\">\n",
    "</center>\n",
    "<figure style=\"text-align: center;\">\n",
    "    <img src=\"images/Box%20Plot.png\" width=\"500\">\n",
    "    <figcaption>Figure 2: Distribution of House Prices Using a Histogram</figcaption>\n",
    "</figure>"
   ]
  },
  {
   "cell_type": "markdown",
   "id": "f0354ea9-ef0e-4fe7-af4a-9657ae68f38f",
   "metadata": {},
   "source": [
    "The proportion of different property types is illustrated using a series of pie charts (Figure 3). While most property types are relatively evenly distributed, new builds are markedly underrepresented compared to older properties, and Freehold properties significantly outnumber Leasehold ones. This imbalance could make it more challenging for a model to detect subtle differences associated with underrepresented categories. However, given the large overall size of the dataset, even these smaller segments contain sufficient instances to provide meaningful training signals, mitigating some of the potential difficulties in modelling."
   ]
  },
  {
   "cell_type": "markdown",
   "id": "26b931da-8767-4b69-995c-78e8495e308d",
   "metadata": {},
   "source": [
    "<center>\n",
    "  <img src=\"C:\\Users\\lenovo\\OneDrive\\Desktop\\House_price_predict_EDA\\Pie.png\" width=\"1000\">\n",
    "</center>\n",
    "<figure style=\"text-align: center;\">\n",
    "    <img src=\"images/Box%20Plot.png\" width=\"500\">\n",
    "    <figcaption>Figure 3: Pie Charts of Property Type Proportions</figcaption>\n",
    "</figure>"
   ]
  },
  {
   "cell_type": "markdown",
   "id": "43f2cc74-51e3-41d5-bb4a-36afb7c3f8aa",
   "metadata": {},
   "source": [
    "Feature engineering introduced several time-based metrics, among which the month variable showed no meaningful correlation with property prices. The most notable temporal trend was a significant drop in average house prices during weekends. Further analysis suggests this is likely attributable to a reduced volume of ‘other’ property types—presumed to be commercial buildings—being sold on weekends, which skews the mean downward.\n",
    "\n",
    "Year-on-year, average property prices displayed a generally upward trend, with only a slight decline observed in 2023. Quarterly analysis revealed that the third and fourth quarters exhibited marginally higher average prices compared to the first and second, although this increase was less than 1%, indicating limited seasonal influence overall."
   ]
  },
  {
   "cell_type": "markdown",
   "id": "face8baf-a4c0-4c99-a141-576c8c385782",
   "metadata": {},
   "source": [
    "<center>\n",
    "  <img src=\"C:\\Users\\lenovo\\OneDrive\\Desktop\\House_price_predict_EDA\\Average Time Prices.png\" width=\"1000\">\n",
    "</center>\n",
    "<figure style=\"text-align: center;\">\n",
    "    <img src=\"images/Box%20Plot.png\" width=\"500\">\n",
    "    <figcaption>Figure 4: Line Chart Showing Change in Average House Price for Various Time Metrics</figcaption>\n",
    "</figure>"
   ]
  },
  {
   "cell_type": "markdown",
   "id": "ca55a487-e431-48fa-9d43-51a0e06a0fd5",
   "metadata": {},
   "source": [
    "A bubble plot was created to visualise property prices geographically, using latitude and longitude as the axes. This revealed higher average prices concentrated around London and other major cities, including Liverpool and Manchester. These patterns indicate that geographical location has a substantial influence on property prices and is likely to be a key predictor in any pricing model. Incorporating spatial features allows models, such as XGBoost, to capture regional variations and localised pricing trends, which may significantly improve predictive accuracy."
   ]
  },
  {
   "cell_type": "markdown",
   "id": "6217ed75-ff30-4418-977c-03e12dd84cf3",
   "metadata": {},
   "source": [
    "<center>\n",
    "  <img src=\"C:\\Users\\lenovo\\OneDrive\\Desktop\\House_price_predict_EDA\\Location.png\" width=\"1000\">\n",
    "</center>\n",
    "\n",
    "<figure style=\"text-align: center;\">\n",
    "    <img src=\"images/Box%20Plot.png\" width=\"1000\">\n",
    "    <figcaption>Figure 5: Geographical Impact on House Prices</figcaption>\n",
    "</figure>"
   ]
  },
  {
   "cell_type": "markdown",
   "id": "f964049b-d1cb-412e-8b51-1497bf26c65d",
   "metadata": {},
   "source": [
    "As expected, lower interest rates, inflation, and unemployment levels are associated with higher property sales. These macroeconomic conditions directly influence buyer affordability and market confidence, leading to increased transaction volumes. Consequently, the model is likely to perform more accurately during periods of low interest, low inflation, and low unemployment, as these conditions dominate the dataset and provide abundant training examples. However, this also implies a potential limitation: the model may underperform during periods of economic stress or high rates, where fewer sales and more extreme price fluctuations occur. Incorporating macroeconomic indicators as features allows XGBoost to partially adjust for these conditions, but careful attention to data distribution and potential non-linear effects is necessary to maintain predictive reliability across varying economic climates."
   ]
  },
  {
   "cell_type": "markdown",
   "id": "db9315d6-5783-4e9c-81ed-d349967c1b01",
   "metadata": {},
   "source": [
    "<center>\n",
    "  <img src=\"C:\\Users\\lenovo\\OneDrive\\Desktop\\House_price_predict_EDA\\Financial .png\" width=\"1000\">\n",
    "</center>\n",
    "<figure style=\"text-align: center;\">\n",
    "    <img src=\"images/Box%20Plot.png\" width=\"1000\">\n",
    "    <figcaption>Figure 6: Effect on Various Macroeconomic Data on Quantity of Houses Sold</figcaption>\n",
    "</figure>"
   ]
  },
  {
   "cell_type": "markdown",
   "id": "7b584c8b-e8e2-4651-af8b-ae84d2999085",
   "metadata": {},
   "source": [
    "## 4. Modelling"
   ]
  },
  {
   "cell_type": "markdown",
   "id": "2a36d9f0-458f-4f94-acc0-83cbfcc27706",
   "metadata": {},
   "source": [
    "The features exhibiting the strongest correlation with property price were found to be latitude, whether the property is detached, and the number of habitable rooms. This relationship was visualised using a single-column heatmap, which clearly highlights the relative strength of these correlations. Latitude likely captures regional pricing differences, detached properties generally command higher prices due to size and exclusivity, and the number of habitable rooms reflects property scale and utility. These insights suggest that these features will be particularly influential in the predictive performance of the model."
   ]
  },
  {
   "cell_type": "code",
   "execution_count": null,
   "id": "c7a9e11f-2d88-45f1-ae33-776d55859be9",
   "metadata": {},
   "outputs": [],
   "source": [
    "from matplotlib import pyplot as plt\n",
    "import seaborn as sns\n",
    "from scipy import stats\n",
    "import numpy as np\n",
    "\n",
    "p_score_df = []\n",
    "for col in x_data:\n",
    "    pearson_coef, p_value = stats.pearsonr(y_data, x_data[col])\n",
    "    pcrs = np.sqrt(pearson_coef ** 2)\n",
    "    p_score_df.append([col, pearson_coef, p_value, pcrs])\n",
    "\n",
    "p_score_df = pd.DataFrame(p_score_df, columns=[\"Feature\", \"Pearson Coefficient\", \"P-value\", \"Root Square Pearson Coefficient\"])\n",
    "p_score_df.set_index(\"Feature\", inplace=True)\n",
    "p_score_df = p_score_df.sort_values(by=\"Root Square Pearson Coefficient\", ascending=False)\n",
    "\n",
    "plt.figure(figsize=(6, len(p_score_df) * 0.5))\n",
    "sns.heatmap(p_score_df[[\"Root Square Pearson Coefficient\"]], annot=True, cmap='coolwarm', cbar=False,\n",
    "            linewidths=0.5, linecolor='gray')\n",
    "\n",
    "plt.yticks(rotation=0)\n",
    "plt.title(\"Correlation with Price (Thousands)\")\n",
    "plt.show()"
   ]
  },
  {
   "cell_type": "markdown",
   "id": "520552ea-7f5b-450e-ab66-68291b4c9d6b",
   "metadata": {},
   "source": [
    "Model performance was evaluated using mean absolute error (MAE), mean squared error (MSE) to assess sensitivity to outliers, and R² to measure overall explanatory power. The baseline linear regression model yielded a MAE of 63.3, MSE of 33,120, and R² of -0.185, indicating that simply predicting the mean property price would outperform the model. In contrast, XGBoost demonstrated a substantial improvement, achieving a MAE of 44.9, MSE of 4,541, and R² of 0.838. This highlights XGBoost’s superior ability to capture non-linear relationships and complex interactions in the data, as well as its robustness against the skewed distribution and outliers present in the property prices."
   ]
  },
  {
   "cell_type": "code",
   "execution_count": null,
   "id": "3ac9499f-5da4-4491-a7e3-f65c4a9e8e7b",
   "metadata": {},
   "outputs": [],
   "source": [
    "from xgboost import XGBRegressor\n",
    "\n",
    "xgb = XGBRegressor()\n",
    "xgb.fit(x_train, y_train)\n",
    "\n",
    "y_pred_xgb = xgb.predict(x_test)\n",
    "print(\"XG Boost- MAE:\", mean_absolute_error(y_test, y_pred_xgb))\n",
    "print(\"XG Boost- MSE:\", mean_squared_error(y_test, y_pred_xgb))\n",
    "print(\"XG Boost- R-squared:\", r2_score(y_test, y_pred_xgb))"
   ]
  },
  {
   "cell_type": "markdown",
   "id": "136628ab-7820-48c4-8b0e-4d4618ff70df",
   "metadata": {},
   "source": [
    "The XGBoost model was hyperparameter-tuned using RandomizedSearchCV with 3-fold cross-validation over 20 iterations. The parameter search space included:\n",
    "\n",
    "base_score: [0.25, 0.5] – initial prediction score of all instances, influencing the starting point for boosting.\n",
    "\n",
    "booster: ['gbtree'] – using tree-based boosting to capture non-linearities and feature interactions.\n",
    "\n",
    "learning_rate: [0.05, 0.1, 0.15] – controls the step size at each iteration, balancing convergence speed and overfitting.\n",
    "\n",
    "max_depth: [2, 3, 5] – maximum depth of each tree, controlling model complexity.\n",
    "\n",
    "min_child_weight: [1, 2] – minimum sum of instance weights in a child node, helping prevent overfitting on sparse data.\n",
    "\n",
    "n_estimators: [100, 300, 500] – number of boosting rounds.\n",
    "\n",
    "Other parameters were left at default, including colsample_bytree and gamma, allowing the model to automatically determine feature sampling and minimum loss reduction for splitting nodes.\n",
    "\n",
    "After tuning, the final model achieved MAE = 44.8, MSE = 4,526, and R² = 0.838, indicating that hyperparameter optimisation slightly improved predictive accuracy and stability. This setup balances bias and variance while allowing XGBoost to effectively model non-linear relationships and handle the skewed distribution of property prices."
   ]
  }
 ],
 "metadata": {
  "kernelspec": {
   "display_name": "Python [conda env:base] *",
   "language": "python",
   "name": "conda-base-py"
  },
  "language_info": {
   "codemirror_mode": {
    "name": "ipython",
    "version": 3
   },
   "file_extension": ".py",
   "mimetype": "text/x-python",
   "name": "python",
   "nbconvert_exporter": "python",
   "pygments_lexer": "ipython3",
   "version": "3.13.5"
  }
 },
 "nbformat": 4,
 "nbformat_minor": 5
}
