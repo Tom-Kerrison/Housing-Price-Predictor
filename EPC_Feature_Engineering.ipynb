{
 "cells": [
  {
   "metadata": {
    "ExecuteTime": {
     "end_time": "2025-08-07T20:45:06.089808Z",
     "start_time": "2025-08-07T20:44:28.667158Z"
    }
   },
   "cell_type": "code",
   "source": [
    "import pandas as pd\n",
    "price_df = pd.read_csv('ETL_Final.csv')\n",
    "price_df.shape"
   ],
   "id": "677c957602d53eae",
   "outputs": [
    {
     "data": {
      "text/plain": [
       "(6860645, 32)"
      ]
     },
     "execution_count": 1,
     "metadata": {},
     "output_type": "execute_result"
    }
   ],
   "execution_count": 1
  },
  {
   "metadata": {
    "ExecuteTime": {
     "end_time": "2025-08-07T20:45:08.904189Z",
     "start_time": "2025-08-07T20:45:06.132426Z"
    }
   },
   "cell_type": "code",
   "source": [
    "price_df['Postcode'] = price_df['Postcode'].str.replace(' ', '').str.upper()\n",
    "price_df.head()"
   ],
   "id": "fb88acbfeda24574",
   "outputs": [
    {
     "data": {
      "text/plain": [
       "  Transfer Date Postcode primary_addressable_object_name  \\\n",
       "0    2018-09-24    M68GQ                               1   \n",
       "1    2018-09-28   WA32UE                              35   \n",
       "2    2018-08-29   OL66RJ                             102   \n",
       "3    2018-06-15   M460TW                              37   \n",
       "4    2018-09-28   M283XS                               9   \n",
       "\n",
       "  secondary_addressable_object_name              street          Town/City  \\\n",
       "0                               NaN      RIVINGTON ROAD            SALFORD   \n",
       "1                               NaN     STONEACRE CLOSE         WARRINGTON   \n",
       "2                               NaN    THORNFIELD GROVE  ASHTON-UNDER-LYNE   \n",
       "3                               NaN  THREADNEEDLE PLACE         MANCHESTER   \n",
       "4                               NaN      MARPLE GARDENS         MANCHESTER   \n",
       "\n",
       "   District              County  Price (Thousands)  Freehold Tenure  ...  \\\n",
       "0   SALFORD  GREATER MANCHESTER            253.500                1  ...   \n",
       "1     WIGAN  GREATER MANCHESTER            231.950                1  ...   \n",
       "2  TAMESIDE  GREATER MANCHESTER            112.500                1  ...   \n",
       "3     WIGAN  GREATER MANCHESTER            184.995                1  ...   \n",
       "4   SALFORD  GREATER MANCHESTER            214.995                0  ...   \n",
       "\n",
       "   Postcode Area  Postcode District  Area Code Average Price (Thousands)  \\\n",
       "0              M                 M6                           286.373466   \n",
       "1             WA                WA3                           301.647233   \n",
       "2             OL                OL6                           197.639388   \n",
       "3              M                M46                           286.373466   \n",
       "4              M                M28                           286.373466   \n",
       "\n",
       "   Town/City Average Price (Thousands)  District Average Price (Thousands)  \\\n",
       "0                           274.417259                          259.866315   \n",
       "1                           295.472854                          194.319863   \n",
       "2                           184.326053                          196.955406   \n",
       "3                           288.415706                          194.319863   \n",
       "4                           288.415706                          259.866315   \n",
       "\n",
       "   County Average Price (Thousands)       LAT      LONG  OSEAST1M  OSNRTH1M  \n",
       "0                        264.161265  53.49295 -2.311376  379439.0  399626.0  \n",
       "1                        264.161265  53.46955 -2.583977  361332.0  397136.0  \n",
       "2                        264.161265  53.48984 -2.074338  395165.0  399237.0  \n",
       "3                        264.161265  53.52589 -2.495181  367270.0  403360.0  \n",
       "4                        264.161265  53.51677 -2.411523  372810.0  402310.0  \n",
       "\n",
       "[5 rows x 32 columns]"
      ],
      "text/html": [
       "<div>\n",
       "<style scoped>\n",
       "    .dataframe tbody tr th:only-of-type {\n",
       "        vertical-align: middle;\n",
       "    }\n",
       "\n",
       "    .dataframe tbody tr th {\n",
       "        vertical-align: top;\n",
       "    }\n",
       "\n",
       "    .dataframe thead th {\n",
       "        text-align: right;\n",
       "    }\n",
       "</style>\n",
       "<table border=\"1\" class=\"dataframe\">\n",
       "  <thead>\n",
       "    <tr style=\"text-align: right;\">\n",
       "      <th></th>\n",
       "      <th>Transfer Date</th>\n",
       "      <th>Postcode</th>\n",
       "      <th>primary_addressable_object_name</th>\n",
       "      <th>secondary_addressable_object_name</th>\n",
       "      <th>street</th>\n",
       "      <th>Town/City</th>\n",
       "      <th>District</th>\n",
       "      <th>County</th>\n",
       "      <th>Price (Thousands)</th>\n",
       "      <th>Freehold Tenure</th>\n",
       "      <th>...</th>\n",
       "      <th>Postcode Area</th>\n",
       "      <th>Postcode District</th>\n",
       "      <th>Area Code Average Price (Thousands)</th>\n",
       "      <th>Town/City Average Price (Thousands)</th>\n",
       "      <th>District Average Price (Thousands)</th>\n",
       "      <th>County Average Price (Thousands)</th>\n",
       "      <th>LAT</th>\n",
       "      <th>LONG</th>\n",
       "      <th>OSEAST1M</th>\n",
       "      <th>OSNRTH1M</th>\n",
       "    </tr>\n",
       "  </thead>\n",
       "  <tbody>\n",
       "    <tr>\n",
       "      <th>0</th>\n",
       "      <td>2018-09-24</td>\n",
       "      <td>M68GQ</td>\n",
       "      <td>1</td>\n",
       "      <td>NaN</td>\n",
       "      <td>RIVINGTON ROAD</td>\n",
       "      <td>SALFORD</td>\n",
       "      <td>SALFORD</td>\n",
       "      <td>GREATER MANCHESTER</td>\n",
       "      <td>253.500</td>\n",
       "      <td>1</td>\n",
       "      <td>...</td>\n",
       "      <td>M</td>\n",
       "      <td>M6</td>\n",
       "      <td>286.373466</td>\n",
       "      <td>274.417259</td>\n",
       "      <td>259.866315</td>\n",
       "      <td>264.161265</td>\n",
       "      <td>53.49295</td>\n",
       "      <td>-2.311376</td>\n",
       "      <td>379439.0</td>\n",
       "      <td>399626.0</td>\n",
       "    </tr>\n",
       "    <tr>\n",
       "      <th>1</th>\n",
       "      <td>2018-09-28</td>\n",
       "      <td>WA32UE</td>\n",
       "      <td>35</td>\n",
       "      <td>NaN</td>\n",
       "      <td>STONEACRE CLOSE</td>\n",
       "      <td>WARRINGTON</td>\n",
       "      <td>WIGAN</td>\n",
       "      <td>GREATER MANCHESTER</td>\n",
       "      <td>231.950</td>\n",
       "      <td>1</td>\n",
       "      <td>...</td>\n",
       "      <td>WA</td>\n",
       "      <td>WA3</td>\n",
       "      <td>301.647233</td>\n",
       "      <td>295.472854</td>\n",
       "      <td>194.319863</td>\n",
       "      <td>264.161265</td>\n",
       "      <td>53.46955</td>\n",
       "      <td>-2.583977</td>\n",
       "      <td>361332.0</td>\n",
       "      <td>397136.0</td>\n",
       "    </tr>\n",
       "    <tr>\n",
       "      <th>2</th>\n",
       "      <td>2018-08-29</td>\n",
       "      <td>OL66RJ</td>\n",
       "      <td>102</td>\n",
       "      <td>NaN</td>\n",
       "      <td>THORNFIELD GROVE</td>\n",
       "      <td>ASHTON-UNDER-LYNE</td>\n",
       "      <td>TAMESIDE</td>\n",
       "      <td>GREATER MANCHESTER</td>\n",
       "      <td>112.500</td>\n",
       "      <td>1</td>\n",
       "      <td>...</td>\n",
       "      <td>OL</td>\n",
       "      <td>OL6</td>\n",
       "      <td>197.639388</td>\n",
       "      <td>184.326053</td>\n",
       "      <td>196.955406</td>\n",
       "      <td>264.161265</td>\n",
       "      <td>53.48984</td>\n",
       "      <td>-2.074338</td>\n",
       "      <td>395165.0</td>\n",
       "      <td>399237.0</td>\n",
       "    </tr>\n",
       "    <tr>\n",
       "      <th>3</th>\n",
       "      <td>2018-06-15</td>\n",
       "      <td>M460TW</td>\n",
       "      <td>37</td>\n",
       "      <td>NaN</td>\n",
       "      <td>THREADNEEDLE PLACE</td>\n",
       "      <td>MANCHESTER</td>\n",
       "      <td>WIGAN</td>\n",
       "      <td>GREATER MANCHESTER</td>\n",
       "      <td>184.995</td>\n",
       "      <td>1</td>\n",
       "      <td>...</td>\n",
       "      <td>M</td>\n",
       "      <td>M46</td>\n",
       "      <td>286.373466</td>\n",
       "      <td>288.415706</td>\n",
       "      <td>194.319863</td>\n",
       "      <td>264.161265</td>\n",
       "      <td>53.52589</td>\n",
       "      <td>-2.495181</td>\n",
       "      <td>367270.0</td>\n",
       "      <td>403360.0</td>\n",
       "    </tr>\n",
       "    <tr>\n",
       "      <th>4</th>\n",
       "      <td>2018-09-28</td>\n",
       "      <td>M283XS</td>\n",
       "      <td>9</td>\n",
       "      <td>NaN</td>\n",
       "      <td>MARPLE GARDENS</td>\n",
       "      <td>MANCHESTER</td>\n",
       "      <td>SALFORD</td>\n",
       "      <td>GREATER MANCHESTER</td>\n",
       "      <td>214.995</td>\n",
       "      <td>0</td>\n",
       "      <td>...</td>\n",
       "      <td>M</td>\n",
       "      <td>M28</td>\n",
       "      <td>286.373466</td>\n",
       "      <td>288.415706</td>\n",
       "      <td>259.866315</td>\n",
       "      <td>264.161265</td>\n",
       "      <td>53.51677</td>\n",
       "      <td>-2.411523</td>\n",
       "      <td>372810.0</td>\n",
       "      <td>402310.0</td>\n",
       "    </tr>\n",
       "  </tbody>\n",
       "</table>\n",
       "<p>5 rows × 32 columns</p>\n",
       "</div>"
      ]
     },
     "execution_count": 2,
     "metadata": {},
     "output_type": "execute_result"
    }
   ],
   "execution_count": 2
  },
  {
   "metadata": {
    "ExecuteTime": {
     "end_time": "2025-08-06T20:56:43.297648Z",
     "start_time": "2025-08-06T20:56:42.926204Z"
    }
   },
   "cell_type": "code",
   "source": [
    "file_path = \"matched_epc_rows/domestic-E06000001-Hartlepool.parquet\"\n",
    "df = pd.read_parquet(file_path)\n",
    "\n",
    "# Print the first 5 rows\n",
    "print(df.head())"
   ],
   "id": "bcf75a2a985a1329",
   "outputs": [
    {
     "name": "stdout",
     "output_type": "stream",
     "text": [
      "                              LMK_KEY               ADDRESS1 ADDRESS2  \\\n",
      "0  1451865729102016060917325243560118       54, Chatham Road     None   \n",
      "1   978835396212019052007505697910817    19, Wainwright Walk     None   \n",
      "2  1341712688132019081910310554978408       116, Milton Road     None   \n",
      "3  1186183659802014081111373821640768  18, Brafferton Street     None   \n",
      "4  1566486539802017081008512757330418     132, Kesteven Road     None   \n",
      "\n",
      "  ADDRESS3  POSTCODE  BUILDING_REFERENCE_NUMBER CURRENT_ENERGY_RATING  \\\n",
      "0     None  TS24 8QQ                  134825478                     D   \n",
      "1     None  TS25 1XA                 8777671178                     D   \n",
      "2     None  TS26 8DX                 8864447378                     D   \n",
      "3     None  TS26 8LH                 4895056278                     D   \n",
      "4     None  TS25 2NJ                  862833578                     C   \n",
      "\n",
      "  POTENTIAL_ENERGY_RATING  CURRENT_ENERGY_EFFICIENCY  \\\n",
      "0                       B                         61   \n",
      "1                       C                         65   \n",
      "2                       C                         56   \n",
      "3                       B                         57   \n",
      "4                       B                         70   \n",
      "\n",
      "   POTENTIAL_ENERGY_EFFICIENCY  ...         CONSTRUCTION_AGE_BAND  \\\n",
      "0                           85  ...  England and Wales: 1930-1949   \n",
      "1                           79  ...  England and Wales: 1967-1975   \n",
      "2                           77  ...  England and Wales: 1900-1929   \n",
      "3                           90  ...  England and Wales: 1900-1929   \n",
      "4                           85  ...  England and Wales: 1967-1975   \n",
      "\n",
      "    LODGEMENT_DATETIME            TENURE FIXED_LIGHTING_OUTLETS_COUNT  \\\n",
      "0  2016-06-09 17:32:52    owner-occupied                          NaN   \n",
      "1  2019-05-20 07:50:56    owner-occupied                          NaN   \n",
      "2  2019-08-19 10:31:05  rental (private)                          NaN   \n",
      "3  2014-08-11 11:37:38  rental (private)                          7.0   \n",
      "4  2017-08-10 08:51:27    owner-occupied                          NaN   \n",
      "\n",
      "  LOW_ENERGY_FIXED_LIGHT_COUNT          UPRN      UPRN_SOURCE REPORT_TYPE  \\\n",
      "0                          NaN  1.001100e+11  Address Matched         100   \n",
      "1                          NaN  1.001100e+11  Address Matched         100   \n",
      "2                          NaN  1.001100e+11  Address Matched         100   \n",
      "3                          0.0  1.001100e+11  Address Matched         100   \n",
      "4                          NaN  1.001100e+11  Address Matched         100   \n",
      "\n",
      "   postcode_clean                     match_key  \n",
      "0         TS248QQ       54 CHATHAM ROAD TS248QQ  \n",
      "1         TS251XA    19 WAINWRIGHT WALK TS251XA  \n",
      "2         TS268DX       116 MILTON ROAD TS268DX  \n",
      "3         TS268LH  18 BRAFFERTON STREET TS268LH  \n",
      "4         TS252NJ     132 KESTEVEN ROAD TS252NJ  \n",
      "\n",
      "[5 rows x 95 columns]\n"
     ]
    }
   ],
   "execution_count": 13
  },
  {
   "metadata": {
    "ExecuteTime": {
     "end_time": "2025-08-07T01:12:17.904117Z",
     "start_time": "2025-08-07T01:12:17.842600Z"
    }
   },
   "cell_type": "code",
   "source": [
    "import os\n",
    "import pandas as pd\n",
    "import re\n",
    "from tqdm import tqdm\n",
    "\n",
    "\n",
    "# --- Normalization Function ---\n",
    "def normalize_address_components(*components):\n",
    "    combined = ' '.join([str(c) for c in components if pd.notna(c)])\n",
    "    normalized = (\n",
    "        combined.upper()\n",
    "        .replace(',', '')\n",
    "        .replace('.', '')\n",
    "        .replace('-', ' ')\n",
    "    )\n",
    "    normalized = re.sub(r'\\s+', ' ', normalized)\n",
    "    return normalized.strip()\n",
    "\n",
    "# --- Normalize price_df ---\n",
    "price_df['postcode_clean'] = price_df['Postcode'].astype(str).str.replace(' ', '').str.upper()\n",
    "price_df['match_key'] = price_df.apply(\n",
    "    lambda row: normalize_address_components(\n",
    "        row.get('primary_addressable_object_name', ''),\n",
    "        row.get('street', ''),\n",
    "        row['postcode_clean']\n",
    "    ),\n",
    "    axis=1\n",
    ")\n",
    "\n",
    "# --- EPC Folder Loop with Progress ---\n",
    "folder = 'epc_certificates_only'\n",
    "subfolders = [f for f in os.listdir(folder) if os.path.isdir(os.path.join(folder, f))]\n",
    "\n",
    "output_dir = \"matched_epc_rows\"\n",
    "os.makedirs(output_dir, exist_ok=True)\n",
    "\n",
    "for subfolder in tqdm(subfolders, desc=\"Processing EPC folders\", unit=\"file\"):\n",
    "    cert_path = os.path.join(folder, subfolder, 'certificates.csv')\n",
    "\n",
    "    if not os.path.exists(cert_path):\n",
    "        continue\n",
    "\n",
    "    try:\n",
    "        epc_df = pd.read_csv(cert_path, low_memory=False)\n",
    "\n",
    "        epc_df['postcode_clean'] = epc_df['POSTCODE'].astype(str).str.replace(' ', '').str.upper()\n",
    "        epc_df['match_key'] = epc_df.apply(\n",
    "            lambda row: normalize_address_components(\n",
    "                row.get('ADDRESS1', ''),\n",
    "                row.get('ADDRESS2', ''),\n",
    "                row['postcode_clean']\n",
    "            ),\n",
    "            axis=1\n",
    "        )\n",
    "\n",
    "        matched = epc_df[epc_df['match_key'].isin(price_df['match_key'])]\n",
    "        print('Done')\n",
    "\n",
    "        if not matched.empty:\n",
    "            # Save matched rows to disk\n",
    "            out_path = os.path.join(output_dir, f\"{subfolder}.parquet\")\n",
    "            matched.to_parquet(out_path, index=False)\n",
    "\n",
    "    except Exception as e:\n",
    "        print(f\"❌ Error processing {cert_path}: {e}\")"
   ],
   "id": "3caaf76a93519e1e",
   "outputs": [
    {
     "name": "stdout",
     "output_type": "stream",
     "text": [
      "Done\n"
     ]
    }
   ],
   "execution_count": 109
  },
  {
   "metadata": {
    "ExecuteTime": {
     "end_time": "2025-08-07T20:47:07.574771Z",
     "start_time": "2025-08-07T20:45:08.914786Z"
    }
   },
   "cell_type": "code",
   "source": [
    "import os\n",
    "import pandas as pd\n",
    "import re\n",
    "from tqdm import tqdm\n",
    "\n",
    "\n",
    "# --- Normalization Function ---\n",
    "def normalize_address_components(*components):\n",
    "    combined = ' '.join([str(c) for c in components if pd.notna(c)])\n",
    "    normalized = (\n",
    "        combined.upper()\n",
    "        .replace(',', '')\n",
    "        .replace('.', '')\n",
    "        .replace('-', ' ')\n",
    "    )\n",
    "    normalized = re.sub(r'\\s+', ' ', normalized)\n",
    "    return normalized.strip()\n",
    "\n",
    "# --- Normalize price_df ---\n",
    "price_df['postcode_clean'] = price_df['Postcode'].astype(str).str.replace(' ', '').str.upper()\n",
    "price_df['match_key'] = price_df.apply(\n",
    "    lambda row: normalize_address_components(\n",
    "        row.get('primary_addressable_object_name', ''),\n",
    "        row.get('street', ''),\n",
    "        row['postcode_clean']\n",
    "    ),\n",
    "    axis=1\n",
    ")"
   ],
   "id": "6192b15f3d0bf97b",
   "outputs": [],
   "execution_count": 3
  },
  {
   "metadata": {
    "ExecuteTime": {
     "end_time": "2025-08-06T20:48:20.630346Z",
     "start_time": "2025-08-06T20:47:28.287887Z"
    }
   },
   "cell_type": "code",
   "source": [
    "import os\n",
    "import pandas as pd\n",
    "\n",
    "matched_dir = 'matched_epc_rows'\n",
    "\n",
    "# Get all individual parquet files\n",
    "parquet_files = [\n",
    "    os.path.join(matched_dir, f)\n",
    "    for f in os.listdir(matched_dir)\n",
    "    if f.endswith('.parquet')\n",
    "]\n",
    "\n",
    "# Read and combine\n",
    "matched_dfs = [pd.read_parquet(f) for f in parquet_files]\n",
    "\n",
    "if matched_dfs:\n",
    "    total_matched = pd.concat(matched_dfs, ignore_index=True)\n",
    "    print(f\"✅ Loaded total matched rows: {len(total_matched):,}\")\n",
    "    display(total_matched.head())\n",
    "else:\n",
    "    print(\"⚠ No parquet files found in matched_epc_rows.\")"
   ],
   "id": "2670d64a335827f4",
   "outputs": [
    {
     "name": "stdout",
     "output_type": "stream",
     "text": [
      "✅ Loaded total matched rows: 4,209,390\n"
     ]
    },
    {
     "data": {
      "text/plain": [
       "                              LMK_KEY               ADDRESS1 ADDRESS2  \\\n",
       "0  1451865729102016060917325243560118       54, Chatham Road     None   \n",
       "1   978835396212019052007505697910817    19, Wainwright Walk     None   \n",
       "2  1341712688132019081910310554978408       116, Milton Road     None   \n",
       "3  1186183659802014081111373821640768  18, Brafferton Street     None   \n",
       "4  1566486539802017081008512757330418     132, Kesteven Road     None   \n",
       "\n",
       "  ADDRESS3  POSTCODE  BUILDING_REFERENCE_NUMBER CURRENT_ENERGY_RATING  \\\n",
       "0     None  TS24 8QQ                  134825478                     D   \n",
       "1     None  TS25 1XA                 8777671178                     D   \n",
       "2     None  TS26 8DX                 8864447378                     D   \n",
       "3     None  TS26 8LH                 4895056278                     D   \n",
       "4     None  TS25 2NJ                  862833578                     C   \n",
       "\n",
       "  POTENTIAL_ENERGY_RATING  CURRENT_ENERGY_EFFICIENCY  \\\n",
       "0                       B                         61   \n",
       "1                       C                         65   \n",
       "2                       C                         56   \n",
       "3                       B                         57   \n",
       "4                       B                         70   \n",
       "\n",
       "   POTENTIAL_ENERGY_EFFICIENCY  ...         CONSTRUCTION_AGE_BAND  \\\n",
       "0                           85  ...  England and Wales: 1930-1949   \n",
       "1                           79  ...  England and Wales: 1967-1975   \n",
       "2                           77  ...  England and Wales: 1900-1929   \n",
       "3                           90  ...  England and Wales: 1900-1929   \n",
       "4                           85  ...  England and Wales: 1967-1975   \n",
       "\n",
       "    LODGEMENT_DATETIME            TENURE FIXED_LIGHTING_OUTLETS_COUNT  \\\n",
       "0  2016-06-09 17:32:52    owner-occupied                          NaN   \n",
       "1  2019-05-20 07:50:56    owner-occupied                          NaN   \n",
       "2  2019-08-19 10:31:05  rental (private)                          NaN   \n",
       "3  2014-08-11 11:37:38  rental (private)                          7.0   \n",
       "4  2017-08-10 08:51:27    owner-occupied                          NaN   \n",
       "\n",
       "  LOW_ENERGY_FIXED_LIGHT_COUNT          UPRN      UPRN_SOURCE REPORT_TYPE  \\\n",
       "0                          NaN  1.001100e+11  Address Matched         100   \n",
       "1                          NaN  1.001100e+11  Address Matched         100   \n",
       "2                          NaN  1.001100e+11  Address Matched         100   \n",
       "3                          0.0  1.001100e+11  Address Matched         100   \n",
       "4                          NaN  1.001100e+11  Address Matched         100   \n",
       "\n",
       "   postcode_clean                     match_key  \n",
       "0         TS248QQ       54 CHATHAM ROAD TS248QQ  \n",
       "1         TS251XA    19 WAINWRIGHT WALK TS251XA  \n",
       "2         TS268DX       116 MILTON ROAD TS268DX  \n",
       "3         TS268LH  18 BRAFFERTON STREET TS268LH  \n",
       "4         TS252NJ     132 KESTEVEN ROAD TS252NJ  \n",
       "\n",
       "[5 rows x 95 columns]"
      ],
      "text/html": [
       "<div>\n",
       "<style scoped>\n",
       "    .dataframe tbody tr th:only-of-type {\n",
       "        vertical-align: middle;\n",
       "    }\n",
       "\n",
       "    .dataframe tbody tr th {\n",
       "        vertical-align: top;\n",
       "    }\n",
       "\n",
       "    .dataframe thead th {\n",
       "        text-align: right;\n",
       "    }\n",
       "</style>\n",
       "<table border=\"1\" class=\"dataframe\">\n",
       "  <thead>\n",
       "    <tr style=\"text-align: right;\">\n",
       "      <th></th>\n",
       "      <th>LMK_KEY</th>\n",
       "      <th>ADDRESS1</th>\n",
       "      <th>ADDRESS2</th>\n",
       "      <th>ADDRESS3</th>\n",
       "      <th>POSTCODE</th>\n",
       "      <th>BUILDING_REFERENCE_NUMBER</th>\n",
       "      <th>CURRENT_ENERGY_RATING</th>\n",
       "      <th>POTENTIAL_ENERGY_RATING</th>\n",
       "      <th>CURRENT_ENERGY_EFFICIENCY</th>\n",
       "      <th>POTENTIAL_ENERGY_EFFICIENCY</th>\n",
       "      <th>...</th>\n",
       "      <th>CONSTRUCTION_AGE_BAND</th>\n",
       "      <th>LODGEMENT_DATETIME</th>\n",
       "      <th>TENURE</th>\n",
       "      <th>FIXED_LIGHTING_OUTLETS_COUNT</th>\n",
       "      <th>LOW_ENERGY_FIXED_LIGHT_COUNT</th>\n",
       "      <th>UPRN</th>\n",
       "      <th>UPRN_SOURCE</th>\n",
       "      <th>REPORT_TYPE</th>\n",
       "      <th>postcode_clean</th>\n",
       "      <th>match_key</th>\n",
       "    </tr>\n",
       "  </thead>\n",
       "  <tbody>\n",
       "    <tr>\n",
       "      <th>0</th>\n",
       "      <td>1451865729102016060917325243560118</td>\n",
       "      <td>54, Chatham Road</td>\n",
       "      <td>None</td>\n",
       "      <td>None</td>\n",
       "      <td>TS24 8QQ</td>\n",
       "      <td>134825478</td>\n",
       "      <td>D</td>\n",
       "      <td>B</td>\n",
       "      <td>61</td>\n",
       "      <td>85</td>\n",
       "      <td>...</td>\n",
       "      <td>England and Wales: 1930-1949</td>\n",
       "      <td>2016-06-09 17:32:52</td>\n",
       "      <td>owner-occupied</td>\n",
       "      <td>NaN</td>\n",
       "      <td>NaN</td>\n",
       "      <td>1.001100e+11</td>\n",
       "      <td>Address Matched</td>\n",
       "      <td>100</td>\n",
       "      <td>TS248QQ</td>\n",
       "      <td>54 CHATHAM ROAD TS248QQ</td>\n",
       "    </tr>\n",
       "    <tr>\n",
       "      <th>1</th>\n",
       "      <td>978835396212019052007505697910817</td>\n",
       "      <td>19, Wainwright Walk</td>\n",
       "      <td>None</td>\n",
       "      <td>None</td>\n",
       "      <td>TS25 1XA</td>\n",
       "      <td>8777671178</td>\n",
       "      <td>D</td>\n",
       "      <td>C</td>\n",
       "      <td>65</td>\n",
       "      <td>79</td>\n",
       "      <td>...</td>\n",
       "      <td>England and Wales: 1967-1975</td>\n",
       "      <td>2019-05-20 07:50:56</td>\n",
       "      <td>owner-occupied</td>\n",
       "      <td>NaN</td>\n",
       "      <td>NaN</td>\n",
       "      <td>1.001100e+11</td>\n",
       "      <td>Address Matched</td>\n",
       "      <td>100</td>\n",
       "      <td>TS251XA</td>\n",
       "      <td>19 WAINWRIGHT WALK TS251XA</td>\n",
       "    </tr>\n",
       "    <tr>\n",
       "      <th>2</th>\n",
       "      <td>1341712688132019081910310554978408</td>\n",
       "      <td>116, Milton Road</td>\n",
       "      <td>None</td>\n",
       "      <td>None</td>\n",
       "      <td>TS26 8DX</td>\n",
       "      <td>8864447378</td>\n",
       "      <td>D</td>\n",
       "      <td>C</td>\n",
       "      <td>56</td>\n",
       "      <td>77</td>\n",
       "      <td>...</td>\n",
       "      <td>England and Wales: 1900-1929</td>\n",
       "      <td>2019-08-19 10:31:05</td>\n",
       "      <td>rental (private)</td>\n",
       "      <td>NaN</td>\n",
       "      <td>NaN</td>\n",
       "      <td>1.001100e+11</td>\n",
       "      <td>Address Matched</td>\n",
       "      <td>100</td>\n",
       "      <td>TS268DX</td>\n",
       "      <td>116 MILTON ROAD TS268DX</td>\n",
       "    </tr>\n",
       "    <tr>\n",
       "      <th>3</th>\n",
       "      <td>1186183659802014081111373821640768</td>\n",
       "      <td>18, Brafferton Street</td>\n",
       "      <td>None</td>\n",
       "      <td>None</td>\n",
       "      <td>TS26 8LH</td>\n",
       "      <td>4895056278</td>\n",
       "      <td>D</td>\n",
       "      <td>B</td>\n",
       "      <td>57</td>\n",
       "      <td>90</td>\n",
       "      <td>...</td>\n",
       "      <td>England and Wales: 1900-1929</td>\n",
       "      <td>2014-08-11 11:37:38</td>\n",
       "      <td>rental (private)</td>\n",
       "      <td>7.0</td>\n",
       "      <td>0.0</td>\n",
       "      <td>1.001100e+11</td>\n",
       "      <td>Address Matched</td>\n",
       "      <td>100</td>\n",
       "      <td>TS268LH</td>\n",
       "      <td>18 BRAFFERTON STREET TS268LH</td>\n",
       "    </tr>\n",
       "    <tr>\n",
       "      <th>4</th>\n",
       "      <td>1566486539802017081008512757330418</td>\n",
       "      <td>132, Kesteven Road</td>\n",
       "      <td>None</td>\n",
       "      <td>None</td>\n",
       "      <td>TS25 2NJ</td>\n",
       "      <td>862833578</td>\n",
       "      <td>C</td>\n",
       "      <td>B</td>\n",
       "      <td>70</td>\n",
       "      <td>85</td>\n",
       "      <td>...</td>\n",
       "      <td>England and Wales: 1967-1975</td>\n",
       "      <td>2017-08-10 08:51:27</td>\n",
       "      <td>owner-occupied</td>\n",
       "      <td>NaN</td>\n",
       "      <td>NaN</td>\n",
       "      <td>1.001100e+11</td>\n",
       "      <td>Address Matched</td>\n",
       "      <td>100</td>\n",
       "      <td>TS252NJ</td>\n",
       "      <td>132 KESTEVEN ROAD TS252NJ</td>\n",
       "    </tr>\n",
       "  </tbody>\n",
       "</table>\n",
       "<p>5 rows × 95 columns</p>\n",
       "</div>"
      ]
     },
     "metadata": {},
     "output_type": "display_data"
    }
   ],
   "execution_count": 6
  },
  {
   "metadata": {
    "ExecuteTime": {
     "end_time": "2025-08-06T20:51:35.187741Z",
     "start_time": "2025-08-06T20:51:35.160804Z"
    }
   },
   "cell_type": "code",
   "source": "price_df.columns",
   "id": "2d578e366e399179",
   "outputs": [
    {
     "data": {
      "text/plain": [
       "Index(['Transfer Date', 'Postcode', 'primary_addressable_object_name',\n",
       "       'secondary_addressable_object_name', 'street', 'Town/City', 'District',\n",
       "       'County', 'Price (Thousands)', 'Freehold Tenure', 'Leasehold Tenure',\n",
       "       'Old Build', 'New Build', 'Detached', 'Flat', 'Other Property Type',\n",
       "       'Semi-detached', 'Terraced', 'Year', 'Month', 'Quarter',\n",
       "       'Day of the Week', 'Postcode Area', 'Postcode District',\n",
       "       'Area Code Average Price (Thousands)',\n",
       "       'Town/City Average Price (Thousands)',\n",
       "       'District Average Price (Thousands)',\n",
       "       'County Average Price (Thousands)', 'LAT', 'LONG', 'OSEAST1M',\n",
       "       'OSNRTH1M', 'postcode_clean', 'match_key'],\n",
       "      dtype='object')"
      ]
     },
     "execution_count": 11,
     "metadata": {},
     "output_type": "execute_result"
    }
   ],
   "execution_count": 11
  },
  {
   "metadata": {
    "ExecuteTime": {
     "end_time": "2025-08-07T20:47:08.431059Z",
     "start_time": "2025-08-07T20:47:07.627197Z"
    }
   },
   "cell_type": "code",
   "source": [
    "trim_price = price_df.drop(columns=['Postcode', 'primary_addressable_object_name', 'secondary_addressable_object_name', 'street', 'District', 'Town/City'], axis=1)\n",
    "trim_price.columns"
   ],
   "id": "55e8279b73e1e1f1",
   "outputs": [
    {
     "data": {
      "text/plain": [
       "Index(['Transfer Date', 'County', 'Price (Thousands)', 'Freehold Tenure',\n",
       "       'Leasehold Tenure', 'Old Build', 'New Build', 'Detached', 'Flat',\n",
       "       'Other Property Type', 'Semi-detached', 'Terraced', 'Year', 'Month',\n",
       "       'Quarter', 'Day of the Week', 'Postcode Area', 'Postcode District',\n",
       "       'Area Code Average Price (Thousands)',\n",
       "       'Town/City Average Price (Thousands)',\n",
       "       'District Average Price (Thousands)',\n",
       "       'County Average Price (Thousands)', 'LAT', 'LONG', 'OSEAST1M',\n",
       "       'OSNRTH1M', 'postcode_clean', 'match_key'],\n",
       "      dtype='object')"
      ]
     },
     "execution_count": 4,
     "metadata": {},
     "output_type": "execute_result"
    }
   ],
   "execution_count": 4
  },
  {
   "metadata": {
    "ExecuteTime": {
     "end_time": "2025-08-07T20:53:01.846718Z",
     "start_time": "2025-08-07T20:51:13.118841Z"
    }
   },
   "cell_type": "code",
   "source": "trim_price.to_csv('Full_Date.csv', index=False)",
   "id": "c1fef7724fa7beb6",
   "outputs": [],
   "execution_count": 5
  },
  {
   "metadata": {
    "ExecuteTime": {
     "end_time": "2025-08-06T20:57:36.641762Z",
     "start_time": "2025-08-06T20:57:36.626887Z"
    }
   },
   "cell_type": "code",
   "outputs": [
    {
     "data": {
      "text/plain": [
       "Index(['LMK_KEY', 'ADDRESS1', 'ADDRESS2', 'ADDRESS3', 'POSTCODE',\n",
       "       'BUILDING_REFERENCE_NUMBER', 'CURRENT_ENERGY_RATING',\n",
       "       'POTENTIAL_ENERGY_RATING', 'CURRENT_ENERGY_EFFICIENCY',\n",
       "       'POTENTIAL_ENERGY_EFFICIENCY', 'PROPERTY_TYPE', 'BUILT_FORM',\n",
       "       'INSPECTION_DATE', 'LOCAL_AUTHORITY', 'CONSTITUENCY', 'COUNTY',\n",
       "       'LODGEMENT_DATE', 'TRANSACTION_TYPE', 'ENVIRONMENT_IMPACT_CURRENT',\n",
       "       'ENVIRONMENT_IMPACT_POTENTIAL', 'ENERGY_CONSUMPTION_CURRENT',\n",
       "       'ENERGY_CONSUMPTION_POTENTIAL', 'CO2_EMISSIONS_CURRENT',\n",
       "       'CO2_EMISS_CURR_PER_FLOOR_AREA', 'CO2_EMISSIONS_POTENTIAL',\n",
       "       'LIGHTING_COST_CURRENT', 'LIGHTING_COST_POTENTIAL',\n",
       "       'HEATING_COST_CURRENT', 'HEATING_COST_POTENTIAL',\n",
       "       'HOT_WATER_COST_CURRENT', 'HOT_WATER_COST_POTENTIAL',\n",
       "       'TOTAL_FLOOR_AREA', 'ENERGY_TARIFF', 'MAINS_GAS_FLAG', 'FLOOR_LEVEL',\n",
       "       'FLAT_TOP_STOREY', 'FLAT_STOREY_COUNT', 'MAIN_HEATING_CONTROLS',\n",
       "       'MULTI_GLAZE_PROPORTION', 'GLAZED_TYPE', 'GLAZED_AREA',\n",
       "       'EXTENSION_COUNT', 'NUMBER_HABITABLE_ROOMS', 'NUMBER_HEATED_ROOMS',\n",
       "       'LOW_ENERGY_LIGHTING', 'NUMBER_OPEN_FIREPLACES', 'HOTWATER_DESCRIPTION',\n",
       "       'HOT_WATER_ENERGY_EFF', 'HOT_WATER_ENV_EFF', 'FLOOR_DESCRIPTION',\n",
       "       'FLOOR_ENERGY_EFF', 'FLOOR_ENV_EFF', 'WINDOWS_DESCRIPTION',\n",
       "       'WINDOWS_ENERGY_EFF', 'WINDOWS_ENV_EFF', 'WALLS_DESCRIPTION',\n",
       "       'WALLS_ENERGY_EFF', 'WALLS_ENV_EFF', 'SECONDHEAT_DESCRIPTION',\n",
       "       'SHEATING_ENERGY_EFF', 'SHEATING_ENV_EFF', 'ROOF_DESCRIPTION',\n",
       "       'ROOF_ENERGY_EFF', 'ROOF_ENV_EFF', 'MAINHEAT_DESCRIPTION',\n",
       "       'MAINHEAT_ENERGY_EFF', 'MAINHEAT_ENV_EFF', 'MAINHEATCONT_DESCRIPTION',\n",
       "       'MAINHEATC_ENERGY_EFF', 'MAINHEATC_ENV_EFF', 'LIGHTING_DESCRIPTION',\n",
       "       'LIGHTING_ENERGY_EFF', 'LIGHTING_ENV_EFF', 'MAIN_FUEL',\n",
       "       'WIND_TURBINE_COUNT', 'HEAT_LOSS_CORRIDOR', 'UNHEATED_CORRIDOR_LENGTH',\n",
       "       'FLOOR_HEIGHT', 'PHOTO_SUPPLY', 'SOLAR_WATER_HEATING_FLAG',\n",
       "       'MECHANICAL_VENTILATION', 'ADDRESS', 'LOCAL_AUTHORITY_LABEL',\n",
       "       'CONSTITUENCY_LABEL', 'POSTTOWN', 'CONSTRUCTION_AGE_BAND',\n",
       "       'LODGEMENT_DATETIME', 'TENURE', 'FIXED_LIGHTING_OUTLETS_COUNT',\n",
       "       'LOW_ENERGY_FIXED_LIGHT_COUNT', 'UPRN', 'UPRN_SOURCE', 'REPORT_TYPE',\n",
       "       'postcode_clean', 'match_key'],\n",
       "      dtype='object')"
      ]
     },
     "execution_count": 14,
     "metadata": {},
     "output_type": "execute_result"
    }
   ],
   "execution_count": 14,
   "source": " total_matched.columns",
   "id": "3e205db183589e40"
  },
  {
   "metadata": {
    "ExecuteTime": {
     "end_time": "2025-08-06T20:48:41.783867Z",
     "start_time": "2025-08-06T20:48:40.102848Z"
    }
   },
   "cell_type": "code",
   "source": [
    "matched_trimmed = total_matched.drop(\n",
    "    columns=[\n",
    "        'LMK_KEY', 'ADDRESS3', 'BUILDING_REFERENCE_NUMBER', 'INSPECTION_DATE',\n",
    "        'LOCAL_AUTHORITY', 'CONSTITUENCY', 'COUNTY', 'LODGEMENT_DATE',\n",
    "        'TRANSACTION_TYPE', 'ENVIRONMENT_IMPACT_CURRENT', 'ENVIRONMENT_IMPACT_POTENTIAL',\n",
    "        'ENERGY_CONSUMPTION_CURRENT', 'ENERGY_CONSUMPTION_POTENTIAL',\n",
    "        'CO2_EMISSIONS_CURRENT', 'CO2_EMISS_CURR_PER_FLOOR_AREA',\n",
    "        'CO2_EMISSIONS_POTENTIAL', 'LIGHTING_COST_CURRENT', 'LIGHTING_COST_POTENTIAL',\n",
    "        'HEATING_COST_CURRENT', 'HEATING_COST_POTENTIAL', 'HOT_WATER_COST_CURRENT',\n",
    "        'HOT_WATER_COST_POTENTIAL', 'ENERGY_TARIFF', 'FLOOR_DESCRIPTION',\n",
    "        'WINDOWS_DESCRIPTION', 'WALLS_DESCRIPTION', 'SECONDHEAT_DESCRIPTION',\n",
    "        'ROOF_DESCRIPTION', 'MAINHEAT_DESCRIPTION', 'MAINHEATCONT_DESCRIPTION',\n",
    "        'LIGHTING_DESCRIPTION', 'HEAT_LOSS_CORRIDOR', 'UNHEATED_CORRIDOR_LENGTH',\n",
    "        'PHOTO_SUPPLY', 'MECHANICAL_VENTILATION', 'ADDRESS', 'LOCAL_AUTHORITY_LABEL',\n",
    "        'CONSTITUENCY_LABEL', 'POSTTOWN', 'LODGEMENT_DATETIME', 'TENURE',\n",
    "        'FIXED_LIGHTING_OUTLETS_COUNT', 'LOW_ENERGY_FIXED_LIGHT_COUNT',\n",
    "        'UPRN', 'UPRN_SOURCE', 'REPORT_TYPE', 'postcode_clean'\n",
    "    ]\n",
    ")"
   ],
   "id": "54cbb0eaf375cbd7",
   "outputs": [],
   "execution_count": 7
  },
  {
   "metadata": {
    "ExecuteTime": {
     "end_time": "2025-08-06T20:59:44.110689Z",
     "start_time": "2025-08-06T20:59:08.314279Z"
    }
   },
   "cell_type": "code",
   "source": "merge_df = matched_trimmed.merge(trim_price, how='left', on=['match_key'])",
   "id": "9e5febaf8982c4f2",
   "outputs": [],
   "execution_count": 16
  },
  {
   "metadata": {
    "ExecuteTime": {
     "end_time": "2025-08-06T21:00:22.728432Z",
     "start_time": "2025-08-06T21:00:22.708226Z"
    }
   },
   "cell_type": "code",
   "source": "merge_df.shape",
   "id": "ea3c9ba39f7ef0cc",
   "outputs": [
    {
     "data": {
      "text/plain": [
       "(4864524, 74)"
      ]
     },
     "execution_count": 18,
     "metadata": {},
     "output_type": "execute_result"
    }
   ],
   "execution_count": 18
  },
  {
   "metadata": {
    "ExecuteTime": {
     "end_time": "2025-08-06T21:03:13.306262Z",
     "start_time": "2025-08-06T21:00:28.544966Z"
    }
   },
   "cell_type": "code",
   "source": "merge_df.to_csv('merge.csv', index=False)",
   "id": "68a94b71c1859d80",
   "outputs": [],
   "execution_count": 19
  },
  {
   "metadata": {
    "ExecuteTime": {
     "end_time": "2025-08-06T21:07:39.701042Z",
     "start_time": "2025-08-06T21:07:26.009661Z"
    }
   },
   "cell_type": "code",
   "source": [
    "summary_df = pd.DataFrame({\n",
    "    'Column': merge_df.columns,\n",
    "    'Dtype': merge_df.dtypes.values,\n",
    "    'Missing': merge_df.isna().sum().values,\n",
    "    'Percent': (((merge_df.isna().sum().values)/4864524)*100).round(1)\n",
    "})\n",
    "\n",
    "print(summary_df)"
   ],
   "id": "d38645b8a2b2c234",
   "outputs": [
    {
     "name": "stdout",
     "output_type": "stream",
     "text": [
      "                     Column    Dtype  Missing  Percent\n",
      "0                  ADDRESS1   object        1      0.0\n",
      "1                  ADDRESS2   object  4543251     93.4\n",
      "2                  POSTCODE   object        0      0.0\n",
      "3     CURRENT_ENERGY_RATING   object        0      0.0\n",
      "4   POTENTIAL_ENERGY_RATING   object        0      0.0\n",
      "..                      ...      ...      ...      ...\n",
      "69                      LAT  float64       24      0.0\n",
      "70                     LONG  float64       24      0.0\n",
      "71                 OSEAST1M  float64       24      0.0\n",
      "72                 OSNRTH1M  float64       24      0.0\n",
      "73           postcode_clean   object        0      0.0\n",
      "\n",
      "[74 rows x 4 columns]\n"
     ]
    }
   ],
   "execution_count": 25
  },
  {
   "metadata": {
    "ExecuteTime": {
     "end_time": "2025-08-06T21:07:43.350427Z",
     "start_time": "2025-08-06T21:07:43.340191Z"
    }
   },
   "cell_type": "code",
   "source": "summary_df.to_csv('column_summary.csv', index=False)",
   "id": "8d2991829dcb16e4",
   "outputs": [],
   "execution_count": 26
  },
  {
   "metadata": {
    "ExecuteTime": {
     "end_time": "2025-08-06T20:12:00.901647Z",
     "start_time": "2025-08-06T20:12:00.883775Z"
    }
   },
   "cell_type": "code",
   "source": "save=merge_df",
   "id": "b331aded95e1cf3c",
   "outputs": [],
   "execution_count": 61
  },
  {
   "metadata": {
    "ExecuteTime": {
     "end_time": "2025-08-06T21:15:16.713808Z",
     "start_time": "2025-08-06T21:14:56.320003Z"
    }
   },
   "cell_type": "code",
   "outputs": [
    {
     "name": "stderr",
     "output_type": "stream",
     "text": [
      "C:\\Users\\lenovo\\AppData\\Local\\Temp\\ipykernel_5824\\1154077277.py:11: FutureWarning: A value is trying to be set on a copy of a DataFrame or Series through chained assignment using an inplace method.\n",
      "The behavior will change in pandas 3.0. This inplace method will never work because the intermediate object on which we are setting values always behaves as a copy.\n",
      "\n",
      "For example, when doing 'df[col].method(value, inplace=True)', try using 'df.method({col: value}, inplace=True)' or df[col] = df[col].method(value) instead, to perform the operation inplace on the original object.\n",
      "\n",
      "\n",
      "  merge_df[col].fillna(mode_series[0], inplace=True)\n",
      "C:\\Users\\lenovo\\AppData\\Local\\Temp\\ipykernel_5824\\1154077277.py:17: FutureWarning: A value is trying to be set on a copy of a DataFrame or Series through chained assignment using an inplace method.\n",
      "The behavior will change in pandas 3.0. This inplace method will never work because the intermediate object on which we are setting values always behaves as a copy.\n",
      "\n",
      "For example, when doing 'df[col].method(value, inplace=True)', try using 'df.method({col: value}, inplace=True)' or df[col] = df[col].method(value) instead, to perform the operation inplace on the original object.\n",
      "\n",
      "\n",
      "  merge_df[col].fillna(merge_df[col].median(), inplace=True)\n",
      "C:\\Users\\lenovo\\AppData\\Local\\Temp\\ipykernel_5824\\1154077277.py:17: FutureWarning: A value is trying to be set on a copy of a DataFrame or Series through chained assignment using an inplace method.\n",
      "The behavior will change in pandas 3.0. This inplace method will never work because the intermediate object on which we are setting values always behaves as a copy.\n",
      "\n",
      "For example, when doing 'df[col].method(value, inplace=True)', try using 'df.method({col: value}, inplace=True)' or df[col] = df[col].method(value) instead, to perform the operation inplace on the original object.\n",
      "\n",
      "\n",
      "  merge_df[col].fillna(merge_df[col].median(), inplace=True)\n",
      "C:\\Users\\lenovo\\AppData\\Local\\Temp\\ipykernel_5824\\1154077277.py:17: FutureWarning: A value is trying to be set on a copy of a DataFrame or Series through chained assignment using an inplace method.\n",
      "The behavior will change in pandas 3.0. This inplace method will never work because the intermediate object on which we are setting values always behaves as a copy.\n",
      "\n",
      "For example, when doing 'df[col].method(value, inplace=True)', try using 'df.method({col: value}, inplace=True)' or df[col] = df[col].method(value) instead, to perform the operation inplace on the original object.\n",
      "\n",
      "\n",
      "  merge_df[col].fillna(merge_df[col].median(), inplace=True)\n",
      "C:\\Users\\lenovo\\AppData\\Local\\Temp\\ipykernel_5824\\1154077277.py:17: FutureWarning: A value is trying to be set on a copy of a DataFrame or Series through chained assignment using an inplace method.\n",
      "The behavior will change in pandas 3.0. This inplace method will never work because the intermediate object on which we are setting values always behaves as a copy.\n",
      "\n",
      "For example, when doing 'df[col].method(value, inplace=True)', try using 'df.method({col: value}, inplace=True)' or df[col] = df[col].method(value) instead, to perform the operation inplace on the original object.\n",
      "\n",
      "\n",
      "  merge_df[col].fillna(merge_df[col].median(), inplace=True)\n",
      "C:\\Users\\lenovo\\AppData\\Local\\Temp\\ipykernel_5824\\1154077277.py:17: FutureWarning: A value is trying to be set on a copy of a DataFrame or Series through chained assignment using an inplace method.\n",
      "The behavior will change in pandas 3.0. This inplace method will never work because the intermediate object on which we are setting values always behaves as a copy.\n",
      "\n",
      "For example, when doing 'df[col].method(value, inplace=True)', try using 'df.method({col: value}, inplace=True)' or df[col] = df[col].method(value) instead, to perform the operation inplace on the original object.\n",
      "\n",
      "\n",
      "  merge_df[col].fillna(merge_df[col].median(), inplace=True)\n",
      "C:\\Users\\lenovo\\AppData\\Local\\Temp\\ipykernel_5824\\1154077277.py:23: FutureWarning: A value is trying to be set on a copy of a DataFrame or Series through chained assignment using an inplace method.\n",
      "The behavior will change in pandas 3.0. This inplace method will never work because the intermediate object on which we are setting values always behaves as a copy.\n",
      "\n",
      "For example, when doing 'df[col].method(value, inplace=True)', try using 'df.method({col: value}, inplace=True)' or df[col] = df[col].method(value) instead, to perform the operation inplace on the original object.\n",
      "\n",
      "\n",
      "  merge_df[col].fillna(0, inplace=True)\n"
     ]
    },
    {
     "name": "stdout",
     "output_type": "stream",
     "text": [
      "Remaining missing values:\n",
      " CONSTRUCTION_AGE_BAND    44929\n",
      "dtype: int64\n"
     ]
    }
   ],
   "execution_count": 27,
   "source": [
    "drop_cols = ['ADDRESS2', 'FLAT_TOP_STOREY', 'FLAT_STOREY_COUNT','HOT_WATER_ENV_EFF', 'FLOOR_ENERGY_EFF', 'WALLS_ENV_EFF', 'SHEATING_ENERGY_EFF','FLOOR_ENV_EFF','SHEATING_ENV_EFF']\n",
    "merge_df.drop(columns=drop_cols, inplace=True, errors='ignore')\n",
    "\n",
    "# Impute with mode\n",
    "mode_impute_cols = ['MAINS_GAS_FLAG', 'MAIN_HEATING_CONTROLS','GLAZED_TYPE', 'LOW_ENERGY_LIGHTING','SOLAR_WATER_HEATING_FLAG', 'MAIN_FUEL', 'GLAZED_AREA', 'ROOF_ENERGY_EFF', 'ROOF_ENV_EFF']\n",
    "\n",
    "for col in mode_impute_cols:\n",
    "    if col in merge_df.columns:\n",
    "        mode_series = merge_df[col].mode(dropna=True)\n",
    "        if not mode_series.empty:\n",
    "            merge_df[col].fillna(mode_series[0], inplace=True)\n",
    "\n",
    "median_impute_cols = ['MULTI_GLAZE_PROPORTION', '', 'EXTENSION_COUNT', 'NUMBER_HABITABLE_ROOMS', 'NUMBER_HEATED_ROOMS', 'FLOOR_HEIGHT']\n",
    "\n",
    "for col in median_impute_cols:\n",
    "    if col in merge_df.columns:\n",
    "        merge_df[col].fillna(merge_df[col].median(), inplace=True)\n",
    "\n",
    "# Impute with 0\n",
    "zero_fill_cols = ['EXTENSION_COUNT', 'WIND_TURBINE_COUNT','NUMBER_OPEN_FIREPLACES']\n",
    "for col in zero_fill_cols:\n",
    "    if col in merge_df.columns:\n",
    "        merge_df[col].fillna(0, inplace=True)\n",
    "\n",
    "# Fill with 'Unknown' for specific columns\n",
    "unknown_bin_cols = ['FLOOR_LEVEL']\n",
    "for col in unknown_bin_cols:\n",
    "    if col in merge_df.columns:\n",
    "        merge_df[col] = merge_df[col].fillna('Unknown')\n",
    "\n",
    "# DROP ROWS that still contain NaNs in important predictive columns\n",
    "critical_cols = ['BUILT_FORM', 'LAT', 'LONG', 'OSEAST1M', 'OSNRTH1M','LIGHTING_ENV_EFF', 'LIGHTING_ENERGY_EFF', 'MAINHEATC_ENV_EFF','MAINHEATC_ENERGY_EFF', 'MAINHEAT_ENV_EFF', 'MAINHEAT_ENERGY_EFF','WALLS_ENERGY_EFF',  'WINDOWS_ENERGY_EFF','WINDOWS_ENV_EFF', 'HOT_WATER_ENERGY_EFF', 'HOTWATER_DESCRIPTION', 'ADDRESS1']\n",
    "\n",
    "merge_df.dropna(subset=[col for col in critical_cols if col in merge_df.columns], inplace=True)\n",
    "\n",
    "# Final check\n",
    "missing_summary = merge_df.isnull().sum()\n",
    "print(\"Remaining missing values:\\n\", missing_summary[missing_summary > 0])"
   ],
   "id": "2ec33b3d6e17232b"
  },
  {
   "metadata": {
    "ExecuteTime": {
     "end_time": "2025-08-06T21:18:04.694391Z",
     "start_time": "2025-08-06T21:18:04.323661Z"
    }
   },
   "cell_type": "code",
   "source": [
    "merge_df['CONSTRUCTION_AGE_BAND'] = merge_df['CONSTRUCTION_AGE_BAND'].fillna('Unknown')\n",
    "merge_df.shape"
   ],
   "id": "6a5413ad94be3f11",
   "outputs": [
    {
     "data": {
      "text/plain": [
       "(4857993, 65)"
      ]
     },
     "execution_count": 28,
     "metadata": {},
     "output_type": "execute_result"
    }
   ],
   "execution_count": 28
  },
  {
   "metadata": {
    "ExecuteTime": {
     "end_time": "2025-08-06T21:18:57.864563Z",
     "start_time": "2025-08-06T21:18:57.855842Z"
    }
   },
   "cell_type": "code",
   "source": [
    "turn_binary = merge_df\n",
    "turn_binary.shape"
   ],
   "id": "7c7878619759b678",
   "outputs": [
    {
     "data": {
      "text/plain": [
       "(4857993, 65)"
      ]
     },
     "execution_count": 31,
     "metadata": {},
     "output_type": "execute_result"
    }
   ],
   "execution_count": 31
  },
  {
   "metadata": {
    "ExecuteTime": {
     "end_time": "2025-08-06T21:50:01.887672Z",
     "start_time": "2025-08-06T21:50:01.870699Z"
    }
   },
   "cell_type": "code",
   "source": [
    "summary_df1 = pd.DataFrame({\n",
    "    'Column': turn_binary.columns,\n",
    "    'Dtype': turn_binary.dtypes.values,\n",
    "    'Example': turn_binary.iloc[0].values\n",
    "\n",
    "})\n",
    "\n",
    "summary_df1.to_csv('dtype_inq.csv', index=False)"
   ],
   "id": "2af8571cda78187",
   "outputs": [],
   "execution_count": 38
  },
  {
   "metadata": {
    "ExecuteTime": {
     "end_time": "2025-08-06T22:32:44.173080Z",
     "start_time": "2025-08-06T22:32:38.045351Z"
    }
   },
   "cell_type": "code",
   "source": [
    "turn_binary = turn_binary.drop(columns=[\n",
    "    'ADDRESS1','POSTCODE','CURRENT_ENERGY_RATING','POTENTIAL_ENERGY_RATING',\n",
    "    'BUILT_FORM','FLOOR_LEVEL','GLAZED_TYPE','GLAZED_AREA',\n",
    "    'MAIN_FUEL','PROPERTY_TYPE','match_key','County',\n",
    "    'postcode_clean','Postcode District','Postcode Area'\n",
    "])\n",
    "\n",
    "turn_binary['MAINS_GAS_FLAG'] = turn_binary['MAINS_GAS_FLAG'].map({'Y': 1, 'N': 0})\n",
    "turn_binary['SOLAR_WATER_HEATING_FLAG'] = turn_binary['SOLAR_WATER_HEATING_FLAG'].map({'Y': 1, 'N': 0})\n",
    "\n",
    "scale = ['HOT_WATER_ENERGY_EFF', 'WINDOWS_ENERGY_EFF','WINDOWS_ENV_EFF', 'WALLS_ENERGY_EFF', 'ROOF_ENERGY_EFF','ROOF_ENV_EFF', 'MAINHEAT_ENERGY_EFF', 'MAINHEAT_ENV_EFF','MAINHEATC_ENERGY_EFF', 'MAINHEATC_ENV_EFF', 'LIGHTING_ENERGY_EFF','LIGHTING_ENV_EFF']\n",
    "\n",
    "for i in scale:\n",
    "    turn_binary[i] = turn_binary[i].map({'Very Poor': 0, 'Poor': 1, 'Average': 2, 'Good': 3,'Very Good': 4})"
   ],
   "id": "986df6ac25425468",
   "outputs": [],
   "execution_count": 86
  },
  {
   "metadata": {
    "ExecuteTime": {
     "end_time": "2025-08-06T22:14:30.066246Z",
     "start_time": "2025-08-06T22:14:30.033019Z"
    }
   },
   "cell_type": "code",
   "outputs": [
    {
     "name": "stdout",
     "output_type": "stream",
     "text": [
      "['England and Wales: 1930-1949' 'England and Wales: 1967-1975'\n",
      " 'England and Wales: 1900-1929' 'NO DATA!' 'England and Wales: 1950-1966'\n",
      " 'England and Wales: before 1900' 'England and Wales: 2007 onwards'\n",
      " 'England and Wales: 1983-1990' 'England and Wales: 1976-1982' 'INVALID!'\n",
      " '2019' 'England and Wales: 1996-2002' 'England and Wales: 2003-2006'\n",
      " '2020' 'England and Wales: 1991-1995' None '2021'\n",
      " 'England and Wales: 2007-2011' '2017' '2022'\n",
      " 'England and Wales: 2012 onwards' '2023' '2024' '2016' '2025'\n",
      " 'England and Wales: 2012-2021']\n"
     ]
    }
   ],
   "execution_count": 50,
   "source": "print(df['CONSTRUCTION_AGE_BAND'].unique())",
   "id": "4a136740c21d0d69"
  },
  {
   "metadata": {
    "ExecuteTime": {
     "end_time": "2025-08-06T22:32:51.038983Z",
     "start_time": "2025-08-06T22:32:51.018340Z"
    }
   },
   "cell_type": "code",
   "source": [
    "import numpy as np\n",
    "\n",
    "def clean_age_band(val):\n",
    "    if pd.isna(val):\n",
    "        return np.nan\n",
    "    val = str(val).strip()\n",
    "\n",
    "    # Remove prefix\n",
    "    if val.startswith('England and Wales:'):\n",
    "        val = val.replace('England and Wales:', '').strip()\n",
    "\n",
    "    # Handle year strings\n",
    "    if val.isdigit():\n",
    "        year = int(val)\n",
    "        if year <= 1929:\n",
    "            return '1900-1929'\n",
    "        elif year <= 1949:\n",
    "            return '1930-1949'\n",
    "        elif year <= 1966:\n",
    "            return '1950-1966'\n",
    "        elif year <= 1975:\n",
    "            return '1967-1975'\n",
    "        elif year <= 1982:\n",
    "            return '1976-1982'\n",
    "        elif year <= 1990:\n",
    "            return '1983-1990'\n",
    "        elif year <= 1995:\n",
    "            return '1991-1995'\n",
    "        elif year <= 2002:\n",
    "            return '1996-2002'\n",
    "        elif year <= 2006:\n",
    "            return '2003-2006'\n",
    "        elif year <= 2011:\n",
    "            return '2007-2011'\n",
    "        elif year <= 2021:\n",
    "            return '2012-2021'\n",
    "        else:\n",
    "            return '2022 onwards'\n",
    "\n",
    "    # Normalize known bad values\n",
    "    if val in ['NO DATA!', 'INVALID!', 'None']:\n",
    "        return np.nan\n",
    "\n",
    "    # Leave standard bucketed strings\n",
    "    return val\n",
    "\n",
    "# Apply cleaning\n",
    "turn_binary['CONSTRUCTION_AGE_BAND_CLEAN'] = turn_binary['CONSTRUCTION_AGE_BAND'].apply(clean_age_band)\n",
    "\n",
    "# Now map to ordinal\n",
    "age_band_map = {\n",
    "    'before 1900': 0,\n",
    "    '1900-1929': 1,\n",
    "    '1930-1949': 2,\n",
    "    '1950-1966': 3,\n",
    "    '1967-1975': 4,\n",
    "    '1976-1982': 5,\n",
    "    '1983-1990': 6,\n",
    "    '1991-1995': 7,\n",
    "    '1996-2002': 8,\n",
    "    '2003-2006': 9,\n",
    "    '2007-2011': 10,\n",
    "    '2012-2021': 11,\n",
    "    '2022 onwards': 12\n",
    "}\n",
    "\n",
    "turn_binary['CONSTRUCTION_AGE_BAND_ENCODED'] turn_binary['CONSTRUCTION_AGE_BAND_CLEAN'].map(age_band_map)"
   ],
   "id": "71cd01d30bf9eaaf",
   "outputs": [
    {
     "ename": "SyntaxError",
     "evalue": "invalid syntax (1532537879.py, line 67)",
     "output_type": "error",
     "traceback": [
      "  \u001B[36mCell\u001B[39m\u001B[36m \u001B[39m\u001B[32mIn[87]\u001B[39m\u001B[32m, line 67\u001B[39m\n\u001B[31m    \u001B[39m\u001B[31mturn_binary['CONSTRUCTION_AGE_BAND_ENCODED'] turn_binary['CONSTRUCTION_AGE_BAND_CLEAN'].map(age_band_map)\u001B[39m\n                                                 ^\n\u001B[31mSyntaxError\u001B[39m\u001B[31m:\u001B[39m invalid syntax\n"
     ]
    }
   ],
   "execution_count": 87
  },
  {
   "metadata": {
    "ExecuteTime": {
     "end_time": "2025-08-06T22:35:07.311706Z",
     "start_time": "2025-08-06T22:35:07.288136Z"
    }
   },
   "cell_type": "code",
   "source": "turn_binary.dtypes",
   "id": "5bfb8f6b8979fb3",
   "outputs": [
    {
     "data": {
      "text/plain": [
       "CURRENT_ENERGY_EFFICIENCY                int64\n",
       "POTENTIAL_ENERGY_EFFICIENCY              int64\n",
       "TOTAL_FLOOR_AREA                       float64\n",
       "MAINS_GAS_FLAG                         float64\n",
       "MAIN_HEATING_CONTROLS                   object\n",
       "MULTI_GLAZE_PROPORTION                 float64\n",
       "EXTENSION_COUNT                        float64\n",
       "NUMBER_HABITABLE_ROOMS                 float64\n",
       "NUMBER_HEATED_ROOMS                    float64\n",
       "LOW_ENERGY_LIGHTING                    float64\n",
       "NUMBER_OPEN_FIREPLACES                 float64\n",
       "HOTWATER_DESCRIPTION                    object\n",
       "HOT_WATER_ENERGY_EFF                   float64\n",
       "WINDOWS_ENERGY_EFF                     float64\n",
       "WINDOWS_ENV_EFF                        float64\n",
       "WALLS_ENERGY_EFF                       float64\n",
       "ROOF_ENERGY_EFF                        float64\n",
       "ROOF_ENV_EFF                           float64\n",
       "MAINHEAT_ENERGY_EFF                    float64\n",
       "MAINHEAT_ENV_EFF                       float64\n",
       "MAINHEATC_ENERGY_EFF                   float64\n",
       "MAINHEATC_ENV_EFF                      float64\n",
       "LIGHTING_ENERGY_EFF                    float64\n",
       "LIGHTING_ENV_EFF                       float64\n",
       "WIND_TURBINE_COUNT                     float64\n",
       "FLOOR_HEIGHT                           float64\n",
       "SOLAR_WATER_HEATING_FLAG               float64\n",
       "CONSTRUCTION_AGE_BAND                   object\n",
       "Price (Thousands)                      float64\n",
       "Freehold Tenure                          int64\n",
       "Leasehold Tenure                         int64\n",
       "Old Build                                int64\n",
       "New Build                                int64\n",
       "Detached                                 int64\n",
       "Flat                                     int64\n",
       "Other Property Type                      int64\n",
       "Semi-detached                            int64\n",
       "Terraced                                 int64\n",
       "Year                                     int64\n",
       "Month                                    int64\n",
       "Quarter                                  int64\n",
       "Day of the Week                          int64\n",
       "Area Code Average Price (Thousands)    float64\n",
       "Town/City Average Price (Thousands)    float64\n",
       "District Average Price (Thousands)     float64\n",
       "County Average Price (Thousands)       float64\n",
       "LAT                                    float64\n",
       "LONG                                   float64\n",
       "OSEAST1M                               float64\n",
       "OSNRTH1M                               float64\n",
       "CONSTRUCTION_AGE_BAND_CLEAN             object\n",
       "CONSTRUCTION_AGE_BAND_ENCODED          float64\n",
       "dtype: object"
      ]
     },
     "execution_count": 90,
     "metadata": {},
     "output_type": "execute_result"
    }
   ],
   "execution_count": 90
  },
  {
   "metadata": {
    "ExecuteTime": {
     "end_time": "2025-08-06T22:35:54.477264Z",
     "start_time": "2025-08-06T22:35:53.232548Z"
    }
   },
   "cell_type": "code",
   "source": "conv = turn_binary[turn_binary['MAIN_HEATING_CONTROLS'] != '%%MAINHEATCONTROL%%']",
   "id": "666761816a165d4b",
   "outputs": [],
   "execution_count": 95
  },
  {
   "metadata": {
    "ExecuteTime": {
     "end_time": "2025-08-06T22:36:41.268220Z",
     "start_time": "2025-08-06T22:36:40.995434Z"
    }
   },
   "cell_type": "code",
   "source": "conv['MAIN_HEATING_CONTROLS'] = conv['MAIN_HEATING_CONTROLS'].astype('float64')",
   "id": "f459dba4434486f6",
   "outputs": [
    {
     "name": "stderr",
     "output_type": "stream",
     "text": [
      "C:\\Users\\lenovo\\AppData\\Local\\Temp\\ipykernel_5824\\3640805052.py:1: SettingWithCopyWarning: \n",
      "A value is trying to be set on a copy of a slice from a DataFrame.\n",
      "Try using .loc[row_indexer,col_indexer] = value instead\n",
      "\n",
      "See the caveats in the documentation: https://pandas.pydata.org/pandas-docs/stable/user_guide/indexing.html#returning-a-view-versus-a-copy\n",
      "  conv['MAIN_HEATING_CONTROLS'] = conv['MAIN_HEATING_CONTROLS'].astype('float64')\n"
     ]
    }
   ],
   "execution_count": 100
  },
  {
   "metadata": {
    "ExecuteTime": {
     "end_time": "2025-08-06T22:36:48.541441Z",
     "start_time": "2025-08-06T22:36:48.534244Z"
    }
   },
   "cell_type": "code",
   "source": "conv.dtypes",
   "id": "961749a451259d87",
   "outputs": [
    {
     "data": {
      "text/plain": [
       "CURRENT_ENERGY_EFFICIENCY                int64\n",
       "POTENTIAL_ENERGY_EFFICIENCY              int64\n",
       "TOTAL_FLOOR_AREA                       float64\n",
       "MAINS_GAS_FLAG                         float64\n",
       "MAIN_HEATING_CONTROLS                  float64\n",
       "MULTI_GLAZE_PROPORTION                 float64\n",
       "EXTENSION_COUNT                        float64\n",
       "NUMBER_HABITABLE_ROOMS                 float64\n",
       "NUMBER_HEATED_ROOMS                    float64\n",
       "LOW_ENERGY_LIGHTING                    float64\n",
       "NUMBER_OPEN_FIREPLACES                 float64\n",
       "HOTWATER_DESCRIPTION                    object\n",
       "HOT_WATER_ENERGY_EFF                   float64\n",
       "WINDOWS_ENERGY_EFF                     float64\n",
       "WINDOWS_ENV_EFF                        float64\n",
       "WALLS_ENERGY_EFF                       float64\n",
       "ROOF_ENERGY_EFF                        float64\n",
       "ROOF_ENV_EFF                           float64\n",
       "MAINHEAT_ENERGY_EFF                    float64\n",
       "MAINHEAT_ENV_EFF                       float64\n",
       "MAINHEATC_ENERGY_EFF                   float64\n",
       "MAINHEATC_ENV_EFF                      float64\n",
       "LIGHTING_ENERGY_EFF                    float64\n",
       "LIGHTING_ENV_EFF                       float64\n",
       "WIND_TURBINE_COUNT                     float64\n",
       "FLOOR_HEIGHT                           float64\n",
       "SOLAR_WATER_HEATING_FLAG               float64\n",
       "CONSTRUCTION_AGE_BAND                   object\n",
       "Price (Thousands)                      float64\n",
       "Freehold Tenure                          int64\n",
       "Leasehold Tenure                         int64\n",
       "Old Build                                int64\n",
       "New Build                                int64\n",
       "Detached                                 int64\n",
       "Flat                                     int64\n",
       "Other Property Type                      int64\n",
       "Semi-detached                            int64\n",
       "Terraced                                 int64\n",
       "Year                                     int64\n",
       "Month                                    int64\n",
       "Quarter                                  int64\n",
       "Day of the Week                          int64\n",
       "Area Code Average Price (Thousands)    float64\n",
       "Town/City Average Price (Thousands)    float64\n",
       "District Average Price (Thousands)     float64\n",
       "County Average Price (Thousands)       float64\n",
       "LAT                                    float64\n",
       "LONG                                   float64\n",
       "OSEAST1M                               float64\n",
       "OSNRTH1M                               float64\n",
       "CONSTRUCTION_AGE_BAND_CLEAN             object\n",
       "CONSTRUCTION_AGE_BAND_ENCODED          float64\n",
       "dtype: object"
      ]
     },
     "execution_count": 101,
     "metadata": {},
     "output_type": "execute_result"
    }
   ],
   "execution_count": 101
  },
  {
   "metadata": {
    "ExecuteTime": {
     "end_time": "2025-08-06T22:38:17.600874Z",
     "start_time": "2025-08-06T22:38:16.623714Z"
    }
   },
   "cell_type": "code",
   "source": "conv = conv.drop(columns='HOTWATER_DESCRIPTION')",
   "id": "1c9239182455eac6",
   "outputs": [],
   "execution_count": 103
  },
  {
   "metadata": {
    "ExecuteTime": {
     "end_time": "2025-08-06T22:39:38.870076Z",
     "start_time": "2025-08-06T22:39:38.069440Z"
    }
   },
   "cell_type": "code",
   "source": "conv = conv.drop(columns=['CONSTRUCTION_AGE_BAND_CLEAN','CONSTRUCTION_AGE_BAND'])",
   "id": "b772feb28dc4a1f7",
   "outputs": [],
   "execution_count": 106
  },
  {
   "metadata": {
    "ExecuteTime": {
     "end_time": "2025-08-06T22:39:42.314001Z",
     "start_time": "2025-08-06T22:39:42.304510Z"
    }
   },
   "cell_type": "code",
   "source": "conv.shape",
   "id": "b686a5b8a854afaa",
   "outputs": [
    {
     "data": {
      "text/plain": [
       "(4857909, 49)"
      ]
     },
     "execution_count": 107,
     "metadata": {},
     "output_type": "execute_result"
    }
   ],
   "execution_count": 107
  },
  {
   "metadata": {
    "ExecuteTime": {
     "end_time": "2025-08-06T22:42:24.823526Z",
     "start_time": "2025-08-06T22:40:16.699383Z"
    }
   },
   "cell_type": "code",
   "source": "conv.to_csv('EPC_Fin.csv', index=False)",
   "id": "5c6307318fc7c23a",
   "outputs": [],
   "execution_count": 108
  }
 ],
 "metadata": {
  "kernelspec": {
   "display_name": "Python 3",
   "language": "python",
   "name": "python3"
  },
  "language_info": {
   "codemirror_mode": {
    "name": "ipython",
    "version": 2
   },
   "file_extension": ".py",
   "mimetype": "text/x-python",
   "name": "python",
   "nbconvert_exporter": "python",
   "pygments_lexer": "ipython2",
   "version": "2.7.6"
  }
 },
 "nbformat": 4,
 "nbformat_minor": 5
}
