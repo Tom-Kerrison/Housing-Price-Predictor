{
 "cells": [
  {
   "cell_type": "code",
   "execution_count": 10,
   "id": "677c957602d53eae",
   "metadata": {
    "ExecuteTime": {
     "end_time": "2025-08-09T21:03:03.043058Z",
     "start_time": "2025-08-09T21:02:28.213965Z"
    }
   },
   "outputs": [
    {
     "name": "stdout",
     "output_type": "stream",
     "text": [
      "6754200\n"
     ]
    }
   ],
   "source": [
    "import pandas as pd\n",
    "\n",
    "chunksize = 50000\n",
    "chunks = pd.read_csv('ETL_Final.csv', chunksize=chunksize)\n",
    "\n",
    "dfs = []\n",
    "total_rows = 0\n",
    "\n",
    "for chunk in chunks:\n",
    "    total_rows += len(chunk)\n",
    "    dfs.append(chunk)\n",
    "\n",
    "df = pd.concat(dfs, ignore_index=True) \n",
    "\n",
    "print(total_rows)\n"
   ]
  },
  {
   "cell_type": "code",
   "execution_count": 11,
   "id": "fb88acbfeda24574",
   "metadata": {
    "ExecuteTime": {
     "end_time": "2025-08-09T21:03:06.976792Z",
     "start_time": "2025-08-09T21:03:03.090373Z"
    }
   },
   "outputs": [
    {
     "data": {
      "text/html": [
       "<div>\n",
       "<style scoped>\n",
       "    .dataframe tbody tr th:only-of-type {\n",
       "        vertical-align: middle;\n",
       "    }\n",
       "\n",
       "    .dataframe tbody tr th {\n",
       "        vertical-align: top;\n",
       "    }\n",
       "\n",
       "    .dataframe thead th {\n",
       "        text-align: right;\n",
       "    }\n",
       "</style>\n",
       "<table border=\"1\" class=\"dataframe\">\n",
       "  <thead>\n",
       "    <tr style=\"text-align: right;\">\n",
       "      <th></th>\n",
       "      <th>Transfer Date</th>\n",
       "      <th>Postcode</th>\n",
       "      <th>primary_addressable_object_name</th>\n",
       "      <th>secondary_addressable_object_name</th>\n",
       "      <th>street</th>\n",
       "      <th>Town/City</th>\n",
       "      <th>District</th>\n",
       "      <th>County</th>\n",
       "      <th>Price (Thousands)</th>\n",
       "      <th>Freehold Tenure</th>\n",
       "      <th>...</th>\n",
       "      <th>Postcode Area</th>\n",
       "      <th>Postcode District</th>\n",
       "      <th>Area Code Average Price (Thousands)</th>\n",
       "      <th>Town/City Average Price (Thousands)</th>\n",
       "      <th>District Average Price (Thousands)</th>\n",
       "      <th>County Average Price (Thousands)</th>\n",
       "      <th>LAT</th>\n",
       "      <th>LONG</th>\n",
       "      <th>OSEAST1M</th>\n",
       "      <th>OSNRTH1M</th>\n",
       "    </tr>\n",
       "  </thead>\n",
       "  <tbody>\n",
       "    <tr>\n",
       "      <th>0</th>\n",
       "      <td>2018-09-24</td>\n",
       "      <td>M6 8GQ</td>\n",
       "      <td>1</td>\n",
       "      <td>NaN</td>\n",
       "      <td>RIVINGTON ROAD</td>\n",
       "      <td>SALFORD</td>\n",
       "      <td>SALFORD</td>\n",
       "      <td>GREATER MANCHESTER</td>\n",
       "      <td>253.500</td>\n",
       "      <td>1</td>\n",
       "      <td>...</td>\n",
       "      <td>M</td>\n",
       "      <td>M6</td>\n",
       "      <td>286.373466</td>\n",
       "      <td>274.417259</td>\n",
       "      <td>259.866315</td>\n",
       "      <td>264.161265</td>\n",
       "      <td>53.49295</td>\n",
       "      <td>-2.311376</td>\n",
       "      <td>379439.0</td>\n",
       "      <td>399626.0</td>\n",
       "    </tr>\n",
       "    <tr>\n",
       "      <th>1</th>\n",
       "      <td>2018-09-28</td>\n",
       "      <td>WA3 2UE</td>\n",
       "      <td>35</td>\n",
       "      <td>NaN</td>\n",
       "      <td>STONEACRE CLOSE</td>\n",
       "      <td>WARRINGTON</td>\n",
       "      <td>WIGAN</td>\n",
       "      <td>GREATER MANCHESTER</td>\n",
       "      <td>231.950</td>\n",
       "      <td>1</td>\n",
       "      <td>...</td>\n",
       "      <td>WA</td>\n",
       "      <td>WA3</td>\n",
       "      <td>301.647233</td>\n",
       "      <td>295.472854</td>\n",
       "      <td>194.319863</td>\n",
       "      <td>264.161265</td>\n",
       "      <td>53.46955</td>\n",
       "      <td>-2.583977</td>\n",
       "      <td>361332.0</td>\n",
       "      <td>397136.0</td>\n",
       "    </tr>\n",
       "    <tr>\n",
       "      <th>2</th>\n",
       "      <td>2018-08-29</td>\n",
       "      <td>OL6 6RJ</td>\n",
       "      <td>102</td>\n",
       "      <td>NaN</td>\n",
       "      <td>THORNFIELD GROVE</td>\n",
       "      <td>ASHTON-UNDER-LYNE</td>\n",
       "      <td>TAMESIDE</td>\n",
       "      <td>GREATER MANCHESTER</td>\n",
       "      <td>112.500</td>\n",
       "      <td>1</td>\n",
       "      <td>...</td>\n",
       "      <td>OL</td>\n",
       "      <td>OL6</td>\n",
       "      <td>197.639388</td>\n",
       "      <td>184.326053</td>\n",
       "      <td>196.955406</td>\n",
       "      <td>264.161265</td>\n",
       "      <td>53.48984</td>\n",
       "      <td>-2.074338</td>\n",
       "      <td>395165.0</td>\n",
       "      <td>399237.0</td>\n",
       "    </tr>\n",
       "    <tr>\n",
       "      <th>3</th>\n",
       "      <td>2018-06-15</td>\n",
       "      <td>M46 0TW</td>\n",
       "      <td>37</td>\n",
       "      <td>NaN</td>\n",
       "      <td>THREADNEEDLE PLACE</td>\n",
       "      <td>MANCHESTER</td>\n",
       "      <td>WIGAN</td>\n",
       "      <td>GREATER MANCHESTER</td>\n",
       "      <td>184.995</td>\n",
       "      <td>1</td>\n",
       "      <td>...</td>\n",
       "      <td>M</td>\n",
       "      <td>M46</td>\n",
       "      <td>286.373466</td>\n",
       "      <td>288.415706</td>\n",
       "      <td>194.319863</td>\n",
       "      <td>264.161265</td>\n",
       "      <td>53.52589</td>\n",
       "      <td>-2.495181</td>\n",
       "      <td>367270.0</td>\n",
       "      <td>403360.0</td>\n",
       "    </tr>\n",
       "    <tr>\n",
       "      <th>4</th>\n",
       "      <td>2018-09-28</td>\n",
       "      <td>M28 3XS</td>\n",
       "      <td>9</td>\n",
       "      <td>NaN</td>\n",
       "      <td>MARPLE GARDENS</td>\n",
       "      <td>MANCHESTER</td>\n",
       "      <td>SALFORD</td>\n",
       "      <td>GREATER MANCHESTER</td>\n",
       "      <td>214.995</td>\n",
       "      <td>0</td>\n",
       "      <td>...</td>\n",
       "      <td>M</td>\n",
       "      <td>M28</td>\n",
       "      <td>286.373466</td>\n",
       "      <td>288.415706</td>\n",
       "      <td>259.866315</td>\n",
       "      <td>264.161265</td>\n",
       "      <td>53.51677</td>\n",
       "      <td>-2.411523</td>\n",
       "      <td>372810.0</td>\n",
       "      <td>402310.0</td>\n",
       "    </tr>\n",
       "  </tbody>\n",
       "</table>\n",
       "<p>5 rows × 32 columns</p>\n",
       "</div>"
      ],
      "text/plain": [
       "  Transfer Date Postcode primary_addressable_object_name  \\\n",
       "0    2018-09-24   M6 8GQ                               1   \n",
       "1    2018-09-28  WA3 2UE                              35   \n",
       "2    2018-08-29  OL6 6RJ                             102   \n",
       "3    2018-06-15  M46 0TW                              37   \n",
       "4    2018-09-28  M28 3XS                               9   \n",
       "\n",
       "  secondary_addressable_object_name              street          Town/City  \\\n",
       "0                               NaN      RIVINGTON ROAD            SALFORD   \n",
       "1                               NaN     STONEACRE CLOSE         WARRINGTON   \n",
       "2                               NaN    THORNFIELD GROVE  ASHTON-UNDER-LYNE   \n",
       "3                               NaN  THREADNEEDLE PLACE         MANCHESTER   \n",
       "4                               NaN      MARPLE GARDENS         MANCHESTER   \n",
       "\n",
       "   District              County  Price (Thousands)  Freehold Tenure  ...  \\\n",
       "0   SALFORD  GREATER MANCHESTER            253.500                1  ...   \n",
       "1     WIGAN  GREATER MANCHESTER            231.950                1  ...   \n",
       "2  TAMESIDE  GREATER MANCHESTER            112.500                1  ...   \n",
       "3     WIGAN  GREATER MANCHESTER            184.995                1  ...   \n",
       "4   SALFORD  GREATER MANCHESTER            214.995                0  ...   \n",
       "\n",
       "   Postcode Area  Postcode District  Area Code Average Price (Thousands)  \\\n",
       "0              M                 M6                           286.373466   \n",
       "1             WA                WA3                           301.647233   \n",
       "2             OL                OL6                           197.639388   \n",
       "3              M                M46                           286.373466   \n",
       "4              M                M28                           286.373466   \n",
       "\n",
       "   Town/City Average Price (Thousands)  District Average Price (Thousands)  \\\n",
       "0                           274.417259                          259.866315   \n",
       "1                           295.472854                          194.319863   \n",
       "2                           184.326053                          196.955406   \n",
       "3                           288.415706                          194.319863   \n",
       "4                           288.415706                          259.866315   \n",
       "\n",
       "   County Average Price (Thousands)       LAT      LONG  OSEAST1M  OSNRTH1M  \n",
       "0                        264.161265  53.49295 -2.311376  379439.0  399626.0  \n",
       "1                        264.161265  53.46955 -2.583977  361332.0  397136.0  \n",
       "2                        264.161265  53.48984 -2.074338  395165.0  399237.0  \n",
       "3                        264.161265  53.52589 -2.495181  367270.0  403360.0  \n",
       "4                        264.161265  53.51677 -2.411523  372810.0  402310.0  \n",
       "\n",
       "[5 rows x 32 columns]"
      ]
     },
     "execution_count": 11,
     "metadata": {},
     "output_type": "execute_result"
    }
   ],
   "source": [
    "df.head(5)"
   ]
  },
  {
   "cell_type": "code",
   "execution_count": 21,
   "id": "9dfa37c6-67e3-4487-8d1f-85bdfe29da43",
   "metadata": {},
   "outputs": [
    {
     "data": {
      "text/html": [
       "<div>\n",
       "<style scoped>\n",
       "    .dataframe tbody tr th:only-of-type {\n",
       "        vertical-align: middle;\n",
       "    }\n",
       "\n",
       "    .dataframe tbody tr th {\n",
       "        vertical-align: top;\n",
       "    }\n",
       "\n",
       "    .dataframe thead th {\n",
       "        text-align: right;\n",
       "    }\n",
       "</style>\n",
       "<table border=\"1\" class=\"dataframe\">\n",
       "  <thead>\n",
       "    <tr style=\"text-align: right;\">\n",
       "      <th></th>\n",
       "      <th>Transfer Date</th>\n",
       "      <th>Postcode</th>\n",
       "      <th>primary_addressable_object_name</th>\n",
       "      <th>secondary_addressable_object_name</th>\n",
       "      <th>street</th>\n",
       "      <th>Town/City</th>\n",
       "      <th>District</th>\n",
       "      <th>County</th>\n",
       "      <th>Price (Thousands)</th>\n",
       "      <th>Freehold Tenure</th>\n",
       "      <th>...</th>\n",
       "      <th>Postcode Area</th>\n",
       "      <th>Postcode District</th>\n",
       "      <th>Area Code Average Price (Thousands)</th>\n",
       "      <th>Town/City Average Price (Thousands)</th>\n",
       "      <th>District Average Price (Thousands)</th>\n",
       "      <th>County Average Price (Thousands)</th>\n",
       "      <th>LAT</th>\n",
       "      <th>LONG</th>\n",
       "      <th>OSEAST1M</th>\n",
       "      <th>OSNRTH1M</th>\n",
       "    </tr>\n",
       "  </thead>\n",
       "  <tbody>\n",
       "    <tr>\n",
       "      <th>0</th>\n",
       "      <td>2018-09-24</td>\n",
       "      <td>M68GQ</td>\n",
       "      <td>1</td>\n",
       "      <td>NaN</td>\n",
       "      <td>RIVINGTON ROAD</td>\n",
       "      <td>SALFORD</td>\n",
       "      <td>SALFORD</td>\n",
       "      <td>GREATER MANCHESTER</td>\n",
       "      <td>253.500</td>\n",
       "      <td>1</td>\n",
       "      <td>...</td>\n",
       "      <td>M</td>\n",
       "      <td>M6</td>\n",
       "      <td>286.373466</td>\n",
       "      <td>274.417259</td>\n",
       "      <td>259.866315</td>\n",
       "      <td>264.161265</td>\n",
       "      <td>53.49295</td>\n",
       "      <td>-2.311376</td>\n",
       "      <td>379439.0</td>\n",
       "      <td>399626.0</td>\n",
       "    </tr>\n",
       "    <tr>\n",
       "      <th>1</th>\n",
       "      <td>2018-09-28</td>\n",
       "      <td>WA32UE</td>\n",
       "      <td>35</td>\n",
       "      <td>NaN</td>\n",
       "      <td>STONEACRE CLOSE</td>\n",
       "      <td>WARRINGTON</td>\n",
       "      <td>WIGAN</td>\n",
       "      <td>GREATER MANCHESTER</td>\n",
       "      <td>231.950</td>\n",
       "      <td>1</td>\n",
       "      <td>...</td>\n",
       "      <td>WA</td>\n",
       "      <td>WA3</td>\n",
       "      <td>301.647233</td>\n",
       "      <td>295.472854</td>\n",
       "      <td>194.319863</td>\n",
       "      <td>264.161265</td>\n",
       "      <td>53.46955</td>\n",
       "      <td>-2.583977</td>\n",
       "      <td>361332.0</td>\n",
       "      <td>397136.0</td>\n",
       "    </tr>\n",
       "    <tr>\n",
       "      <th>2</th>\n",
       "      <td>2018-08-29</td>\n",
       "      <td>OL66RJ</td>\n",
       "      <td>102</td>\n",
       "      <td>NaN</td>\n",
       "      <td>THORNFIELD GROVE</td>\n",
       "      <td>ASHTON-UNDER-LYNE</td>\n",
       "      <td>TAMESIDE</td>\n",
       "      <td>GREATER MANCHESTER</td>\n",
       "      <td>112.500</td>\n",
       "      <td>1</td>\n",
       "      <td>...</td>\n",
       "      <td>OL</td>\n",
       "      <td>OL6</td>\n",
       "      <td>197.639388</td>\n",
       "      <td>184.326053</td>\n",
       "      <td>196.955406</td>\n",
       "      <td>264.161265</td>\n",
       "      <td>53.48984</td>\n",
       "      <td>-2.074338</td>\n",
       "      <td>395165.0</td>\n",
       "      <td>399237.0</td>\n",
       "    </tr>\n",
       "    <tr>\n",
       "      <th>3</th>\n",
       "      <td>2018-06-15</td>\n",
       "      <td>M460TW</td>\n",
       "      <td>37</td>\n",
       "      <td>NaN</td>\n",
       "      <td>THREADNEEDLE PLACE</td>\n",
       "      <td>MANCHESTER</td>\n",
       "      <td>WIGAN</td>\n",
       "      <td>GREATER MANCHESTER</td>\n",
       "      <td>184.995</td>\n",
       "      <td>1</td>\n",
       "      <td>...</td>\n",
       "      <td>M</td>\n",
       "      <td>M46</td>\n",
       "      <td>286.373466</td>\n",
       "      <td>288.415706</td>\n",
       "      <td>194.319863</td>\n",
       "      <td>264.161265</td>\n",
       "      <td>53.52589</td>\n",
       "      <td>-2.495181</td>\n",
       "      <td>367270.0</td>\n",
       "      <td>403360.0</td>\n",
       "    </tr>\n",
       "    <tr>\n",
       "      <th>4</th>\n",
       "      <td>2018-09-28</td>\n",
       "      <td>M283XS</td>\n",
       "      <td>9</td>\n",
       "      <td>NaN</td>\n",
       "      <td>MARPLE GARDENS</td>\n",
       "      <td>MANCHESTER</td>\n",
       "      <td>SALFORD</td>\n",
       "      <td>GREATER MANCHESTER</td>\n",
       "      <td>214.995</td>\n",
       "      <td>0</td>\n",
       "      <td>...</td>\n",
       "      <td>M</td>\n",
       "      <td>M28</td>\n",
       "      <td>286.373466</td>\n",
       "      <td>288.415706</td>\n",
       "      <td>259.866315</td>\n",
       "      <td>264.161265</td>\n",
       "      <td>53.51677</td>\n",
       "      <td>-2.411523</td>\n",
       "      <td>372810.0</td>\n",
       "      <td>402310.0</td>\n",
       "    </tr>\n",
       "  </tbody>\n",
       "</table>\n",
       "<p>5 rows × 32 columns</p>\n",
       "</div>"
      ],
      "text/plain": [
       "  Transfer Date Postcode primary_addressable_object_name  \\\n",
       "0    2018-09-24    M68GQ                               1   \n",
       "1    2018-09-28   WA32UE                              35   \n",
       "2    2018-08-29   OL66RJ                             102   \n",
       "3    2018-06-15   M460TW                              37   \n",
       "4    2018-09-28   M283XS                               9   \n",
       "\n",
       "  secondary_addressable_object_name              street          Town/City  \\\n",
       "0                               NaN      RIVINGTON ROAD            SALFORD   \n",
       "1                               NaN     STONEACRE CLOSE         WARRINGTON   \n",
       "2                               NaN    THORNFIELD GROVE  ASHTON-UNDER-LYNE   \n",
       "3                               NaN  THREADNEEDLE PLACE         MANCHESTER   \n",
       "4                               NaN      MARPLE GARDENS         MANCHESTER   \n",
       "\n",
       "   District              County  Price (Thousands)  Freehold Tenure  ...  \\\n",
       "0   SALFORD  GREATER MANCHESTER            253.500                1  ...   \n",
       "1     WIGAN  GREATER MANCHESTER            231.950                1  ...   \n",
       "2  TAMESIDE  GREATER MANCHESTER            112.500                1  ...   \n",
       "3     WIGAN  GREATER MANCHESTER            184.995                1  ...   \n",
       "4   SALFORD  GREATER MANCHESTER            214.995                0  ...   \n",
       "\n",
       "   Postcode Area  Postcode District  Area Code Average Price (Thousands)  \\\n",
       "0              M                 M6                           286.373466   \n",
       "1             WA                WA3                           301.647233   \n",
       "2             OL                OL6                           197.639388   \n",
       "3              M                M46                           286.373466   \n",
       "4              M                M28                           286.373466   \n",
       "\n",
       "   Town/City Average Price (Thousands)  District Average Price (Thousands)  \\\n",
       "0                           274.417259                          259.866315   \n",
       "1                           295.472854                          194.319863   \n",
       "2                           184.326053                          196.955406   \n",
       "3                           288.415706                          194.319863   \n",
       "4                           288.415706                          259.866315   \n",
       "\n",
       "   County Average Price (Thousands)       LAT      LONG  OSEAST1M  OSNRTH1M  \n",
       "0                        264.161265  53.49295 -2.311376  379439.0  399626.0  \n",
       "1                        264.161265  53.46955 -2.583977  361332.0  397136.0  \n",
       "2                        264.161265  53.48984 -2.074338  395165.0  399237.0  \n",
       "3                        264.161265  53.52589 -2.495181  367270.0  403360.0  \n",
       "4                        264.161265  53.51677 -2.411523  372810.0  402310.0  \n",
       "\n",
       "[5 rows x 32 columns]"
      ]
     },
     "execution_count": 21,
     "metadata": {},
     "output_type": "execute_result"
    }
   ],
   "source": [
    "df['Postcode'] = df['Postcode'].str.replace(' ', '').str.upper()\n",
    "df.head()"
   ]
  },
  {
   "cell_type": "code",
   "execution_count": 28,
   "id": "3ffdae0252a1dfb8",
   "metadata": {
    "ExecuteTime": {
     "end_time": "2025-08-09T22:14:35.553680Z",
     "start_time": "2025-08-09T22:13:19.754238Z"
    },
    "scrolled": true
   },
   "outputs": [
    {
     "name": "stderr",
     "output_type": "stream",
     "text": [
      "Processing EPC folders:   0%|          | 0/347 [00:00<?, ?file/s]"
     ]
    },
    {
     "name": "stdout",
     "output_type": "stream",
     "text": [
      "Done\n"
     ]
    },
    {
     "name": "stderr",
     "output_type": "stream",
     "text": [
      "Processing EPC folders:   0%|          | 1/347 [00:05<29:41,  5.15s/file]"
     ]
    },
    {
     "name": "stdout",
     "output_type": "stream",
     "text": [
      "Done\n"
     ]
    },
    {
     "name": "stderr",
     "output_type": "stream",
     "text": [
      "Processing EPC folders:   1%|          | 2/347 [00:12<36:22,  6.33s/file]"
     ]
    },
    {
     "name": "stdout",
     "output_type": "stream",
     "text": [
      "Done\n"
     ]
    },
    {
     "name": "stderr",
     "output_type": "stream",
     "text": [
      "Processing EPC folders:   1%|          | 3/347 [00:17<33:34,  5.85s/file]"
     ]
    },
    {
     "name": "stdout",
     "output_type": "stream",
     "text": [
      "Done\n"
     ]
    },
    {
     "name": "stderr",
     "output_type": "stream",
     "text": [
      "Processing EPC folders:   1%|          | 4/347 [00:24<36:23,  6.37s/file]"
     ]
    },
    {
     "name": "stdout",
     "output_type": "stream",
     "text": [
      "Done\n"
     ]
    },
    {
     "name": "stderr",
     "output_type": "stream",
     "text": [
      "Processing EPC folders:   1%|▏         | 5/347 [00:29<33:21,  5.85s/file]"
     ]
    },
    {
     "name": "stdout",
     "output_type": "stream",
     "text": [
      "Done\n"
     ]
    },
    {
     "name": "stderr",
     "output_type": "stream",
     "text": [
      "Processing EPC folders:   2%|▏         | 6/347 [00:34<31:07,  5.48s/file]"
     ]
    },
    {
     "name": "stdout",
     "output_type": "stream",
     "text": [
      "Done\n"
     ]
    },
    {
     "name": "stderr",
     "output_type": "stream",
     "text": [
      "Processing EPC folders:   2%|▏         | 7/347 [00:42<36:11,  6.39s/file]"
     ]
    },
    {
     "name": "stdout",
     "output_type": "stream",
     "text": [
      "Done\n"
     ]
    },
    {
     "name": "stderr",
     "output_type": "stream",
     "text": [
      "Processing EPC folders:   2%|▏         | 8/347 [00:48<34:19,  6.08s/file]"
     ]
    },
    {
     "name": "stdout",
     "output_type": "stream",
     "text": [
      "Done\n"
     ]
    },
    {
     "name": "stderr",
     "output_type": "stream",
     "text": [
      "Processing EPC folders:   3%|▎         | 9/347 [00:56<38:12,  6.78s/file]"
     ]
    },
    {
     "name": "stdout",
     "output_type": "stream",
     "text": [
      "Done\n"
     ]
    },
    {
     "name": "stderr",
     "output_type": "stream",
     "text": [
      "Processing EPC folders:   3%|▎         | 10/347 [01:06<43:17,  7.71s/file]"
     ]
    },
    {
     "name": "stdout",
     "output_type": "stream",
     "text": [
      "Done\n"
     ]
    },
    {
     "name": "stderr",
     "output_type": "stream",
     "text": [
      "Processing EPC folders:   3%|▎         | 11/347 [01:17<49:35,  8.86s/file]"
     ]
    },
    {
     "name": "stdout",
     "output_type": "stream",
     "text": [
      "Done\n"
     ]
    },
    {
     "name": "stderr",
     "output_type": "stream",
     "text": [
      "Processing EPC folders:   3%|▎         | 12/347 [01:23<44:45,  8.02s/file]"
     ]
    },
    {
     "name": "stdout",
     "output_type": "stream",
     "text": [
      "Done\n"
     ]
    },
    {
     "name": "stderr",
     "output_type": "stream",
     "text": [
      "Processing EPC folders:   4%|▎         | 13/347 [01:29<41:01,  7.37s/file]"
     ]
    },
    {
     "name": "stdout",
     "output_type": "stream",
     "text": [
      "Done\n"
     ]
    },
    {
     "name": "stderr",
     "output_type": "stream",
     "text": [
      "Processing EPC folders:   4%|▍         | 14/347 [01:36<39:50,  7.18s/file]"
     ]
    },
    {
     "name": "stdout",
     "output_type": "stream",
     "text": [
      "Done\n"
     ]
    },
    {
     "name": "stderr",
     "output_type": "stream",
     "text": [
      "Processing EPC folders:   4%|▍         | 15/347 [01:44<42:03,  7.60s/file]"
     ]
    },
    {
     "name": "stdout",
     "output_type": "stream",
     "text": [
      "Done\n"
     ]
    },
    {
     "name": "stderr",
     "output_type": "stream",
     "text": [
      "Processing EPC folders:   5%|▍         | 17/347 [01:59<38:25,  6.99s/file]"
     ]
    },
    {
     "name": "stdout",
     "output_type": "stream",
     "text": [
      "Done\n",
      "Done\n"
     ]
    },
    {
     "name": "stderr",
     "output_type": "stream",
     "text": [
      "Processing EPC folders:   5%|▌         | 19/347 [02:22<48:59,  8.96s/file]"
     ]
    },
    {
     "name": "stdout",
     "output_type": "stream",
     "text": [
      "Done\n"
     ]
    },
    {
     "name": "stderr",
     "output_type": "stream",
     "text": [
      "Processing EPC folders:   6%|▌         | 20/347 [02:29<45:24,  8.33s/file]"
     ]
    },
    {
     "name": "stdout",
     "output_type": "stream",
     "text": [
      "Done\n",
      "Done\n"
     ]
    },
    {
     "name": "stderr",
     "output_type": "stream",
     "text": [
      "Processing EPC folders:   6%|▋         | 22/347 [02:46<44:39,  8.24s/file]"
     ]
    },
    {
     "name": "stdout",
     "output_type": "stream",
     "text": [
      "Done\n",
      "Done\n"
     ]
    },
    {
     "name": "stderr",
     "output_type": "stream",
     "text": [
      "Processing EPC folders:   7%|▋         | 23/347 [03:00<54:39, 10.12s/file]"
     ]
    },
    {
     "name": "stdout",
     "output_type": "stream",
     "text": [
      "Done\n"
     ]
    },
    {
     "name": "stderr",
     "output_type": "stream",
     "text": [
      "Processing EPC folders:   7%|▋         | 25/347 [03:17<49:34,  9.24s/file]"
     ]
    },
    {
     "name": "stdout",
     "output_type": "stream",
     "text": [
      "Done\n",
      "Done\n"
     ]
    },
    {
     "name": "stderr",
     "output_type": "stream",
     "text": [
      "Processing EPC folders:   7%|▋         | 26/347 [03:26<49:39,  9.28s/file]"
     ]
    },
    {
     "name": "stdout",
     "output_type": "stream",
     "text": [
      "Done\n"
     ]
    },
    {
     "name": "stderr",
     "output_type": "stream",
     "text": [
      "Processing EPC folders:   8%|▊         | 27/347 [03:32<44:03,  8.26s/file]"
     ]
    },
    {
     "name": "stdout",
     "output_type": "stream",
     "text": [
      "Done\n"
     ]
    },
    {
     "name": "stderr",
     "output_type": "stream",
     "text": [
      "Processing EPC folders:   8%|▊         | 28/347 [03:41<44:46,  8.42s/file]"
     ]
    },
    {
     "name": "stdout",
     "output_type": "stream",
     "text": [
      "Done\n"
     ]
    },
    {
     "name": "stderr",
     "output_type": "stream",
     "text": [
      "Processing EPC folders:   8%|▊         | 29/347 [03:48<43:16,  8.16s/file]"
     ]
    },
    {
     "name": "stdout",
     "output_type": "stream",
     "text": [
      "Done\n"
     ]
    },
    {
     "name": "stderr",
     "output_type": "stream",
     "text": [
      "Processing EPC folders:   9%|▊         | 30/347 [03:55<40:49,  7.73s/file]"
     ]
    },
    {
     "name": "stdout",
     "output_type": "stream",
     "text": [
      "Done\n"
     ]
    },
    {
     "name": "stderr",
     "output_type": "stream",
     "text": [
      "Processing EPC folders:   9%|▉         | 31/347 [04:02<38:43,  7.35s/file]"
     ]
    },
    {
     "name": "stdout",
     "output_type": "stream",
     "text": [
      "Done\n"
     ]
    },
    {
     "name": "stderr",
     "output_type": "stream",
     "text": [
      "Processing EPC folders:   9%|▉         | 32/347 [04:08<37:07,  7.07s/file]"
     ]
    },
    {
     "name": "stdout",
     "output_type": "stream",
     "text": [
      "Done\n"
     ]
    },
    {
     "name": "stderr",
     "output_type": "stream",
     "text": [
      "Processing EPC folders:  10%|▉         | 34/347 [04:22<35:23,  6.78s/file]"
     ]
    },
    {
     "name": "stdout",
     "output_type": "stream",
     "text": [
      "Done\n"
     ]
    },
    {
     "name": "stderr",
     "output_type": "stream",
     "text": [
      "Processing EPC folders:  10%|█         | 35/347 [04:28<33:47,  6.50s/file]"
     ]
    },
    {
     "name": "stdout",
     "output_type": "stream",
     "text": [
      "Done\n"
     ]
    },
    {
     "name": "stderr",
     "output_type": "stream",
     "text": [
      "Processing EPC folders:  10%|█         | 36/347 [04:34<33:30,  6.47s/file]"
     ]
    },
    {
     "name": "stdout",
     "output_type": "stream",
     "text": [
      "Done\n"
     ]
    },
    {
     "name": "stderr",
     "output_type": "stream",
     "text": [
      "Processing EPC folders:  11%|█         | 37/347 [04:40<32:59,  6.39s/file]"
     ]
    },
    {
     "name": "stdout",
     "output_type": "stream",
     "text": [
      "Done\n"
     ]
    },
    {
     "name": "stderr",
     "output_type": "stream",
     "text": [
      "Processing EPC folders:  11%|█         | 38/347 [04:46<31:30,  6.12s/file]"
     ]
    },
    {
     "name": "stdout",
     "output_type": "stream",
     "text": [
      "Done\n"
     ]
    },
    {
     "name": "stderr",
     "output_type": "stream",
     "text": [
      "Processing EPC folders:  11%|█         | 39/347 [04:51<30:04,  5.86s/file]"
     ]
    },
    {
     "name": "stdout",
     "output_type": "stream",
     "text": [
      "Done\n"
     ]
    },
    {
     "name": "stderr",
     "output_type": "stream",
     "text": [
      "Processing EPC folders:  12%|█▏        | 40/347 [05:00<34:46,  6.80s/file]"
     ]
    },
    {
     "name": "stdout",
     "output_type": "stream",
     "text": [
      "Done\n",
      "Done\n"
     ]
    },
    {
     "name": "stderr",
     "output_type": "stream",
     "text": [
      "Processing EPC folders:  12%|█▏        | 41/347 [05:12<43:10,  8.46s/file]"
     ]
    },
    {
     "name": "stdout",
     "output_type": "stream",
     "text": [
      "Done\n"
     ]
    },
    {
     "name": "stderr",
     "output_type": "stream",
     "text": [
      "Processing EPC folders:  12%|█▏        | 42/347 [05:20<42:06,  8.28s/file]"
     ]
    },
    {
     "name": "stdout",
     "output_type": "stream",
     "text": [
      "Done\n"
     ]
    },
    {
     "name": "stderr",
     "output_type": "stream",
     "text": [
      "Processing EPC folders:  12%|█▏        | 43/347 [05:29<42:52,  8.46s/file]"
     ]
    },
    {
     "name": "stdout",
     "output_type": "stream",
     "text": [
      "Done\n"
     ]
    },
    {
     "name": "stderr",
     "output_type": "stream",
     "text": [
      "Processing EPC folders:  13%|█▎        | 44/347 [05:35<38:59,  7.72s/file]"
     ]
    },
    {
     "name": "stdout",
     "output_type": "stream",
     "text": [
      "Done\n"
     ]
    },
    {
     "name": "stderr",
     "output_type": "stream",
     "text": [
      "Processing EPC folders:  13%|█▎        | 45/347 [05:54<55:58, 11.12s/file]"
     ]
    },
    {
     "name": "stdout",
     "output_type": "stream",
     "text": [
      "Done\n"
     ]
    },
    {
     "name": "stderr",
     "output_type": "stream",
     "text": [
      "Processing EPC folders:  13%|█▎        | 46/347 [06:07<57:54, 11.54s/file]"
     ]
    },
    {
     "name": "stdout",
     "output_type": "stream",
     "text": [
      "Done\n"
     ]
    },
    {
     "name": "stderr",
     "output_type": "stream",
     "text": [
      "Processing EPC folders:  14%|█▎        | 47/347 [06:18<57:11, 11.44s/file]"
     ]
    },
    {
     "name": "stdout",
     "output_type": "stream",
     "text": [
      "Done\n"
     ]
    },
    {
     "name": "stderr",
     "output_type": "stream",
     "text": [
      "Processing EPC folders:  14%|█▍        | 48/347 [06:28<54:56, 11.02s/file]"
     ]
    },
    {
     "name": "stdout",
     "output_type": "stream",
     "text": [
      "Done\n"
     ]
    },
    {
     "name": "stderr",
     "output_type": "stream",
     "text": [
      "Processing EPC folders:  14%|█▍        | 50/347 [06:50<50:14, 10.15s/file]  "
     ]
    },
    {
     "name": "stdout",
     "output_type": "stream",
     "text": [
      "Done\n",
      "Done\n"
     ]
    },
    {
     "name": "stderr",
     "output_type": "stream",
     "text": [
      "Processing EPC folders:  15%|█▍        | 51/347 [07:03<54:49, 11.11s/file]"
     ]
    },
    {
     "name": "stdout",
     "output_type": "stream",
     "text": [
      "Done\n"
     ]
    },
    {
     "name": "stderr",
     "output_type": "stream",
     "text": [
      "Processing EPC folders:  15%|█▍        | 52/347 [07:11<50:03, 10.18s/file]"
     ]
    },
    {
     "name": "stdout",
     "output_type": "stream",
     "text": [
      "Done\n"
     ]
    },
    {
     "name": "stderr",
     "output_type": "stream",
     "text": [
      "Processing EPC folders:  15%|█▌        | 53/347 [07:20<48:52,  9.98s/file]"
     ]
    },
    {
     "name": "stdout",
     "output_type": "stream",
     "text": [
      "Done\n"
     ]
    },
    {
     "name": "stderr",
     "output_type": "stream",
     "text": [
      "Processing EPC folders:  16%|█▌        | 54/347 [07:31<49:34, 10.15s/file]"
     ]
    },
    {
     "name": "stdout",
     "output_type": "stream",
     "text": [
      "Done\n"
     ]
    },
    {
     "name": "stderr",
     "output_type": "stream",
     "text": [
      "Processing EPC folders:  16%|█▌        | 55/347 [07:45<55:13, 11.35s/file]"
     ]
    },
    {
     "name": "stdout",
     "output_type": "stream",
     "text": [
      "Done\n"
     ]
    },
    {
     "name": "stderr",
     "output_type": "stream",
     "text": [
      "Processing EPC folders:  16%|█▌        | 56/347 [07:57<55:49, 11.51s/file]"
     ]
    },
    {
     "name": "stdout",
     "output_type": "stream",
     "text": [
      "Done\n"
     ]
    },
    {
     "name": "stderr",
     "output_type": "stream",
     "text": [
      "Processing EPC folders:  17%|█▋        | 58/347 [08:08<40:21,  8.38s/file]"
     ]
    },
    {
     "name": "stdout",
     "output_type": "stream",
     "text": [
      "Done\n",
      "Done\n"
     ]
    },
    {
     "name": "stderr",
     "output_type": "stream",
     "text": [
      "Processing EPC folders:  17%|█▋        | 60/347 [08:16<28:52,  6.03s/file]"
     ]
    },
    {
     "name": "stdout",
     "output_type": "stream",
     "text": [
      "Done\n"
     ]
    },
    {
     "name": "stderr",
     "output_type": "stream",
     "text": [
      "Processing EPC folders:  18%|█▊        | 61/347 [08:19<24:08,  5.06s/file]"
     ]
    },
    {
     "name": "stdout",
     "output_type": "stream",
     "text": [
      "Done\n"
     ]
    },
    {
     "name": "stderr",
     "output_type": "stream",
     "text": [
      "Processing EPC folders:  18%|█▊        | 62/347 [08:23<22:41,  4.78s/file]"
     ]
    },
    {
     "name": "stdout",
     "output_type": "stream",
     "text": [
      "Done\n"
     ]
    },
    {
     "name": "stderr",
     "output_type": "stream",
     "text": [
      "Processing EPC folders:  18%|█▊        | 63/347 [08:26<21:00,  4.44s/file]"
     ]
    },
    {
     "name": "stdout",
     "output_type": "stream",
     "text": [
      "Done\n"
     ]
    },
    {
     "name": "stderr",
     "output_type": "stream",
     "text": [
      "Processing EPC folders:  18%|█▊        | 64/347 [08:32<22:01,  4.67s/file]"
     ]
    },
    {
     "name": "stdout",
     "output_type": "stream",
     "text": [
      "Done\n"
     ]
    },
    {
     "name": "stderr",
     "output_type": "stream",
     "text": [
      "Processing EPC folders:  19%|█▊        | 65/347 [08:35<19:42,  4.19s/file]"
     ]
    },
    {
     "name": "stdout",
     "output_type": "stream",
     "text": [
      "Done\n"
     ]
    },
    {
     "name": "stderr",
     "output_type": "stream",
     "text": [
      "Processing EPC folders:  19%|█▉        | 66/347 [08:38<18:32,  3.96s/file]"
     ]
    },
    {
     "name": "stdout",
     "output_type": "stream",
     "text": [
      "Done\n"
     ]
    },
    {
     "name": "stderr",
     "output_type": "stream",
     "text": [
      "Processing EPC folders:  19%|█▉        | 67/347 [08:43<19:57,  4.28s/file]"
     ]
    },
    {
     "name": "stdout",
     "output_type": "stream",
     "text": [
      "Done\n"
     ]
    },
    {
     "name": "stderr",
     "output_type": "stream",
     "text": [
      "Processing EPC folders:  20%|█▉        | 68/347 [08:48<21:14,  4.57s/file]"
     ]
    },
    {
     "name": "stdout",
     "output_type": "stream",
     "text": [
      "Done\n"
     ]
    },
    {
     "name": "stderr",
     "output_type": "stream",
     "text": [
      "Processing EPC folders:  20%|█▉        | 69/347 [08:52<20:16,  4.38s/file]"
     ]
    },
    {
     "name": "stdout",
     "output_type": "stream",
     "text": [
      "Done\n"
     ]
    },
    {
     "name": "stderr",
     "output_type": "stream",
     "text": [
      "Processing EPC folders:  20%|██        | 70/347 [08:56<19:42,  4.27s/file]"
     ]
    },
    {
     "name": "stdout",
     "output_type": "stream",
     "text": [
      "Done\n"
     ]
    },
    {
     "name": "stderr",
     "output_type": "stream",
     "text": [
      "Processing EPC folders:  20%|██        | 71/347 [09:03<22:21,  4.86s/file]"
     ]
    },
    {
     "name": "stdout",
     "output_type": "stream",
     "text": [
      "Done\n"
     ]
    },
    {
     "name": "stderr",
     "output_type": "stream",
     "text": [
      "Processing EPC folders:  21%|██        | 72/347 [09:09<24:58,  5.45s/file]"
     ]
    },
    {
     "name": "stdout",
     "output_type": "stream",
     "text": [
      "Done\n"
     ]
    },
    {
     "name": "stderr",
     "output_type": "stream",
     "text": [
      "Processing EPC folders:  21%|██        | 73/347 [09:13<22:55,  5.02s/file]"
     ]
    },
    {
     "name": "stdout",
     "output_type": "stream",
     "text": [
      "Done\n"
     ]
    },
    {
     "name": "stderr",
     "output_type": "stream",
     "text": [
      "Processing EPC folders:  21%|██▏       | 74/347 [09:17<20:28,  4.50s/file]"
     ]
    },
    {
     "name": "stdout",
     "output_type": "stream",
     "text": [
      "Done\n",
      "Done\n"
     ]
    },
    {
     "name": "stderr",
     "output_type": "stream",
     "text": [
      "Processing EPC folders:  22%|██▏       | 76/347 [09:24<18:20,  4.06s/file]"
     ]
    },
    {
     "name": "stdout",
     "output_type": "stream",
     "text": [
      "Done\n"
     ]
    },
    {
     "name": "stderr",
     "output_type": "stream",
     "text": [
      "Processing EPC folders:  22%|██▏       | 77/347 [09:27<16:50,  3.74s/file]"
     ]
    },
    {
     "name": "stdout",
     "output_type": "stream",
     "text": [
      "Done\n"
     ]
    },
    {
     "name": "stderr",
     "output_type": "stream",
     "text": [
      "Processing EPC folders:  22%|██▏       | 78/347 [09:31<17:25,  3.89s/file]"
     ]
    },
    {
     "name": "stdout",
     "output_type": "stream",
     "text": [
      "Done\n"
     ]
    },
    {
     "name": "stderr",
     "output_type": "stream",
     "text": [
      "Processing EPC folders:  23%|██▎       | 79/347 [09:37<18:54,  4.23s/file]"
     ]
    },
    {
     "name": "stdout",
     "output_type": "stream",
     "text": [
      "Done\n"
     ]
    },
    {
     "name": "stderr",
     "output_type": "stream",
     "text": [
      "Processing EPC folders:  23%|██▎       | 80/347 [09:41<19:25,  4.37s/file]"
     ]
    },
    {
     "name": "stdout",
     "output_type": "stream",
     "text": [
      "Done\n"
     ]
    },
    {
     "name": "stderr",
     "output_type": "stream",
     "text": [
      "Processing EPC folders:  23%|██▎       | 81/347 [09:46<19:23,  4.37s/file]"
     ]
    },
    {
     "name": "stdout",
     "output_type": "stream",
     "text": [
      "Done\n"
     ]
    },
    {
     "name": "stderr",
     "output_type": "stream",
     "text": [
      "Processing EPC folders:  24%|██▎       | 82/347 [09:49<18:24,  4.17s/file]"
     ]
    },
    {
     "name": "stdout",
     "output_type": "stream",
     "text": [
      "Done\n"
     ]
    },
    {
     "name": "stderr",
     "output_type": "stream",
     "text": [
      "Processing EPC folders:  24%|██▍       | 83/347 [09:54<18:50,  4.28s/file]"
     ]
    },
    {
     "name": "stdout",
     "output_type": "stream",
     "text": [
      "Done\n"
     ]
    },
    {
     "name": "stderr",
     "output_type": "stream",
     "text": [
      "Processing EPC folders:  24%|██▍       | 84/347 [09:58<18:28,  4.21s/file]"
     ]
    },
    {
     "name": "stdout",
     "output_type": "stream",
     "text": [
      "Done\n"
     ]
    },
    {
     "name": "stderr",
     "output_type": "stream",
     "text": [
      "Processing EPC folders:  24%|██▍       | 85/347 [10:02<18:36,  4.26s/file]"
     ]
    },
    {
     "name": "stdout",
     "output_type": "stream",
     "text": [
      "Done\n"
     ]
    },
    {
     "name": "stderr",
     "output_type": "stream",
     "text": [
      "Processing EPC folders:  25%|██▍       | 86/347 [10:07<18:52,  4.34s/file]"
     ]
    },
    {
     "name": "stdout",
     "output_type": "stream",
     "text": [
      "Done\n",
      "Done\n"
     ]
    },
    {
     "name": "stderr",
     "output_type": "stream",
     "text": [
      "Processing EPC folders:  25%|██▌       | 87/347 [10:14<21:58,  5.07s/file]"
     ]
    },
    {
     "name": "stdout",
     "output_type": "stream",
     "text": [
      "Done\n"
     ]
    },
    {
     "name": "stderr",
     "output_type": "stream",
     "text": [
      "Processing EPC folders:  26%|██▌       | 89/347 [10:23<20:34,  4.79s/file]"
     ]
    },
    {
     "name": "stdout",
     "output_type": "stream",
     "text": [
      "Done\n"
     ]
    },
    {
     "name": "stderr",
     "output_type": "stream",
     "text": [
      "Processing EPC folders:  26%|██▌       | 90/347 [10:27<20:13,  4.72s/file]"
     ]
    },
    {
     "name": "stdout",
     "output_type": "stream",
     "text": [
      "Done\n"
     ]
    },
    {
     "name": "stderr",
     "output_type": "stream",
     "text": [
      "Processing EPC folders:  26%|██▌       | 91/347 [10:32<19:55,  4.67s/file]"
     ]
    },
    {
     "name": "stdout",
     "output_type": "stream",
     "text": [
      "Done\n"
     ]
    },
    {
     "name": "stderr",
     "output_type": "stream",
     "text": [
      "Processing EPC folders:  27%|██▋       | 92/347 [10:38<21:15,  5.00s/file]"
     ]
    },
    {
     "name": "stdout",
     "output_type": "stream",
     "text": [
      "Done\n"
     ]
    },
    {
     "name": "stderr",
     "output_type": "stream",
     "text": [
      "Processing EPC folders:  27%|██▋       | 93/347 [10:42<20:08,  4.76s/file]"
     ]
    },
    {
     "name": "stdout",
     "output_type": "stream",
     "text": [
      "Done\n"
     ]
    },
    {
     "name": "stderr",
     "output_type": "stream",
     "text": [
      "Processing EPC folders:  27%|██▋       | 94/347 [10:45<18:07,  4.30s/file]"
     ]
    },
    {
     "name": "stdout",
     "output_type": "stream",
     "text": [
      "Done\n"
     ]
    },
    {
     "name": "stderr",
     "output_type": "stream",
     "text": [
      "Processing EPC folders:  27%|██▋       | 95/347 [10:50<18:37,  4.44s/file]"
     ]
    },
    {
     "name": "stdout",
     "output_type": "stream",
     "text": [
      "Done\n",
      "Done\n"
     ]
    },
    {
     "name": "stderr",
     "output_type": "stream",
     "text": [
      "Processing EPC folders:  28%|██▊       | 97/347 [10:59<17:59,  4.32s/file]"
     ]
    },
    {
     "name": "stdout",
     "output_type": "stream",
     "text": [
      "Done\n"
     ]
    },
    {
     "name": "stderr",
     "output_type": "stream",
     "text": [
      "Processing EPC folders:  28%|██▊       | 98/347 [11:03<18:00,  4.34s/file]"
     ]
    },
    {
     "name": "stdout",
     "output_type": "stream",
     "text": [
      "Done\n",
      "Done\n"
     ]
    },
    {
     "name": "stderr",
     "output_type": "stream",
     "text": [
      "Processing EPC folders:  29%|██▊       | 99/347 [11:10<20:54,  5.06s/file]"
     ]
    },
    {
     "name": "stdout",
     "output_type": "stream",
     "text": [
      "Done\n"
     ]
    },
    {
     "name": "stderr",
     "output_type": "stream",
     "text": [
      "Processing EPC folders:  29%|██▉       | 100/347 [11:16<22:01,  5.35s/file]"
     ]
    },
    {
     "name": "stdout",
     "output_type": "stream",
     "text": [
      "Done\n"
     ]
    },
    {
     "name": "stderr",
     "output_type": "stream",
     "text": [
      "Processing EPC folders:  29%|██▉       | 102/347 [11:25<19:49,  4.85s/file]"
     ]
    },
    {
     "name": "stdout",
     "output_type": "stream",
     "text": [
      "Done\n"
     ]
    },
    {
     "name": "stderr",
     "output_type": "stream",
     "text": [
      "Processing EPC folders:  30%|██▉       | 103/347 [11:28<18:11,  4.47s/file]"
     ]
    },
    {
     "name": "stdout",
     "output_type": "stream",
     "text": [
      "Done\n",
      "Done\n"
     ]
    },
    {
     "name": "stderr",
     "output_type": "stream",
     "text": [
      "Processing EPC folders:  30%|██▉       | 104/347 [11:34<20:06,  4.97s/file]"
     ]
    },
    {
     "name": "stdout",
     "output_type": "stream",
     "text": [
      "Done\n"
     ]
    },
    {
     "name": "stderr",
     "output_type": "stream",
     "text": [
      "Processing EPC folders:  31%|███       | 106/347 [11:47<22:01,  5.48s/file]"
     ]
    },
    {
     "name": "stdout",
     "output_type": "stream",
     "text": [
      "Done\n"
     ]
    },
    {
     "name": "stderr",
     "output_type": "stream",
     "text": [
      "Processing EPC folders:  31%|███       | 107/347 [11:51<20:26,  5.11s/file]"
     ]
    },
    {
     "name": "stdout",
     "output_type": "stream",
     "text": [
      "Done\n"
     ]
    },
    {
     "name": "stderr",
     "output_type": "stream",
     "text": [
      "Processing EPC folders:  31%|███       | 108/347 [11:54<18:03,  4.54s/file]"
     ]
    },
    {
     "name": "stdout",
     "output_type": "stream",
     "text": [
      "Done\n"
     ]
    },
    {
     "name": "stderr",
     "output_type": "stream",
     "text": [
      "Processing EPC folders:  31%|███▏      | 109/347 [11:58<16:50,  4.25s/file]"
     ]
    },
    {
     "name": "stdout",
     "output_type": "stream",
     "text": [
      "Done\n",
      "Done\n"
     ]
    },
    {
     "name": "stderr",
     "output_type": "stream",
     "text": [
      "Processing EPC folders:  32%|███▏      | 111/347 [12:08<18:06,  4.61s/file]"
     ]
    },
    {
     "name": "stdout",
     "output_type": "stream",
     "text": [
      "Done\n",
      "Done\n"
     ]
    },
    {
     "name": "stderr",
     "output_type": "stream",
     "text": [
      "Processing EPC folders:  33%|███▎      | 113/347 [12:18<18:32,  4.75s/file]"
     ]
    },
    {
     "name": "stdout",
     "output_type": "stream",
     "text": [
      "Done\n"
     ]
    },
    {
     "name": "stderr",
     "output_type": "stream",
     "text": [
      "Processing EPC folders:  33%|███▎      | 114/347 [12:22<17:21,  4.47s/file]"
     ]
    },
    {
     "name": "stdout",
     "output_type": "stream",
     "text": [
      "Done\n"
     ]
    },
    {
     "name": "stderr",
     "output_type": "stream",
     "text": [
      "Processing EPC folders:  33%|███▎      | 115/347 [12:27<17:59,  4.65s/file]"
     ]
    },
    {
     "name": "stdout",
     "output_type": "stream",
     "text": [
      "Done\n"
     ]
    },
    {
     "name": "stderr",
     "output_type": "stream",
     "text": [
      "Processing EPC folders:  33%|███▎      | 116/347 [12:32<17:55,  4.65s/file]"
     ]
    },
    {
     "name": "stdout",
     "output_type": "stream",
     "text": [
      "Done\n"
     ]
    },
    {
     "name": "stderr",
     "output_type": "stream",
     "text": [
      "Processing EPC folders:  34%|███▎      | 117/347 [12:36<17:02,  4.45s/file]"
     ]
    },
    {
     "name": "stdout",
     "output_type": "stream",
     "text": [
      "Done\n",
      "Done\n"
     ]
    },
    {
     "name": "stderr",
     "output_type": "stream",
     "text": [
      "Processing EPC folders:  34%|███▍      | 118/347 [12:43<20:12,  5.29s/file]"
     ]
    },
    {
     "name": "stdout",
     "output_type": "stream",
     "text": [
      "Done\n"
     ]
    },
    {
     "name": "stderr",
     "output_type": "stream",
     "text": [
      "Processing EPC folders:  35%|███▍      | 120/347 [12:53<19:40,  5.20s/file]"
     ]
    },
    {
     "name": "stdout",
     "output_type": "stream",
     "text": [
      "Done\n"
     ]
    },
    {
     "name": "stderr",
     "output_type": "stream",
     "text": [
      "Processing EPC folders:  35%|███▍      | 121/347 [12:57<18:28,  4.90s/file]"
     ]
    },
    {
     "name": "stdout",
     "output_type": "stream",
     "text": [
      "Done\n"
     ]
    },
    {
     "name": "stderr",
     "output_type": "stream",
     "text": [
      "Processing EPC folders:  35%|███▌      | 122/347 [13:01<16:54,  4.51s/file]"
     ]
    },
    {
     "name": "stdout",
     "output_type": "stream",
     "text": [
      "Done\n"
     ]
    },
    {
     "name": "stderr",
     "output_type": "stream",
     "text": [
      "Processing EPC folders:  35%|███▌      | 123/347 [13:05<16:13,  4.35s/file]"
     ]
    },
    {
     "name": "stdout",
     "output_type": "stream",
     "text": [
      "Done\n",
      "Done\n"
     ]
    },
    {
     "name": "stderr",
     "output_type": "stream",
     "text": [
      "Processing EPC folders:  36%|███▌      | 125/347 [13:17<18:50,  5.09s/file]"
     ]
    },
    {
     "name": "stdout",
     "output_type": "stream",
     "text": [
      "Done\n",
      "Done\n"
     ]
    },
    {
     "name": "stderr",
     "output_type": "stream",
     "text": [
      "Processing EPC folders:  37%|███▋      | 127/347 [13:25<17:25,  4.75s/file]"
     ]
    },
    {
     "name": "stdout",
     "output_type": "stream",
     "text": [
      "Done\n"
     ]
    },
    {
     "name": "stderr",
     "output_type": "stream",
     "text": [
      "Processing EPC folders:  37%|███▋      | 128/347 [13:30<17:35,  4.82s/file]"
     ]
    },
    {
     "name": "stdout",
     "output_type": "stream",
     "text": [
      "Done\n"
     ]
    },
    {
     "name": "stderr",
     "output_type": "stream",
     "text": [
      "Processing EPC folders:  37%|███▋      | 129/347 [13:34<16:28,  4.54s/file]"
     ]
    },
    {
     "name": "stdout",
     "output_type": "stream",
     "text": [
      "Done\n",
      "Done\n"
     ]
    },
    {
     "name": "stderr",
     "output_type": "stream",
     "text": [
      "Processing EPC folders:  38%|███▊      | 131/347 [13:45<17:15,  4.79s/file]"
     ]
    },
    {
     "name": "stdout",
     "output_type": "stream",
     "text": [
      "Done\n",
      "Done\n"
     ]
    },
    {
     "name": "stderr",
     "output_type": "stream",
     "text": [
      "Processing EPC folders:  38%|███▊      | 133/347 [13:54<16:19,  4.58s/file]"
     ]
    },
    {
     "name": "stdout",
     "output_type": "stream",
     "text": [
      "Done\n"
     ]
    },
    {
     "name": "stderr",
     "output_type": "stream",
     "text": [
      "Processing EPC folders:  39%|███▊      | 134/347 [13:58<15:48,  4.45s/file]"
     ]
    },
    {
     "name": "stdout",
     "output_type": "stream",
     "text": [
      "Done\n"
     ]
    },
    {
     "name": "stderr",
     "output_type": "stream",
     "text": [
      "Processing EPC folders:  39%|███▉      | 135/347 [14:03<16:21,  4.63s/file]"
     ]
    },
    {
     "name": "stdout",
     "output_type": "stream",
     "text": [
      "Done\n",
      "Done\n"
     ]
    },
    {
     "name": "stderr",
     "output_type": "stream",
     "text": [
      "Processing EPC folders:  39%|███▉      | 136/347 [14:10<18:37,  5.30s/file]"
     ]
    },
    {
     "name": "stdout",
     "output_type": "stream",
     "text": [
      "Done\n"
     ]
    },
    {
     "name": "stderr",
     "output_type": "stream",
     "text": [
      "Processing EPC folders:  40%|███▉      | 138/347 [14:19<17:39,  5.07s/file]"
     ]
    },
    {
     "name": "stdout",
     "output_type": "stream",
     "text": [
      "Done\n"
     ]
    },
    {
     "name": "stderr",
     "output_type": "stream",
     "text": [
      "Processing EPC folders:  40%|████      | 139/347 [14:24<16:43,  4.83s/file]"
     ]
    },
    {
     "name": "stdout",
     "output_type": "stream",
     "text": [
      "Done\n",
      "Done\n"
     ]
    },
    {
     "name": "stderr",
     "output_type": "stream",
     "text": [
      "Processing EPC folders:  41%|████      | 141/347 [14:34<16:56,  4.94s/file]"
     ]
    },
    {
     "name": "stdout",
     "output_type": "stream",
     "text": [
      "Done\n"
     ]
    },
    {
     "name": "stderr",
     "output_type": "stream",
     "text": [
      "Processing EPC folders:  41%|████      | 142/347 [14:40<18:01,  5.28s/file]"
     ]
    },
    {
     "name": "stdout",
     "output_type": "stream",
     "text": [
      "Done\n",
      "Done\n"
     ]
    },
    {
     "name": "stderr",
     "output_type": "stream",
     "text": [
      "Processing EPC folders:  41%|████      | 143/347 [14:46<17:59,  5.29s/file]"
     ]
    },
    {
     "name": "stdout",
     "output_type": "stream",
     "text": [
      "Done\n"
     ]
    },
    {
     "name": "stderr",
     "output_type": "stream",
     "text": [
      "Processing EPC folders:  42%|████▏     | 145/347 [14:57<17:56,  5.33s/file]"
     ]
    },
    {
     "name": "stdout",
     "output_type": "stream",
     "text": [
      "Done\n"
     ]
    },
    {
     "name": "stderr",
     "output_type": "stream",
     "text": [
      "Processing EPC folders:  42%|████▏     | 146/347 [15:01<16:58,  5.07s/file]"
     ]
    },
    {
     "name": "stdout",
     "output_type": "stream",
     "text": [
      "Done\n",
      "Done\n"
     ]
    },
    {
     "name": "stderr",
     "output_type": "stream",
     "text": [
      "Processing EPC folders:  43%|████▎     | 148/347 [15:11<16:50,  5.08s/file]"
     ]
    },
    {
     "name": "stdout",
     "output_type": "stream",
     "text": [
      "Done\n"
     ]
    },
    {
     "name": "stderr",
     "output_type": "stream",
     "text": [
      "Processing EPC folders:  43%|████▎     | 149/347 [15:16<16:15,  4.93s/file]"
     ]
    },
    {
     "name": "stdout",
     "output_type": "stream",
     "text": [
      "Done\n"
     ]
    },
    {
     "name": "stderr",
     "output_type": "stream",
     "text": [
      "Processing EPC folders:  43%|████▎     | 150/347 [15:20<15:24,  4.69s/file]"
     ]
    },
    {
     "name": "stdout",
     "output_type": "stream",
     "text": [
      "Done\n",
      "Done\n"
     ]
    },
    {
     "name": "stderr",
     "output_type": "stream",
     "text": [
      "Processing EPC folders:  44%|████▍     | 152/347 [15:30<15:35,  4.80s/file]"
     ]
    },
    {
     "name": "stdout",
     "output_type": "stream",
     "text": [
      "Done\n"
     ]
    },
    {
     "name": "stderr",
     "output_type": "stream",
     "text": [
      "Processing EPC folders:  44%|████▍     | 153/347 [15:36<16:40,  5.16s/file]"
     ]
    },
    {
     "name": "stdout",
     "output_type": "stream",
     "text": [
      "Done\n"
     ]
    },
    {
     "name": "stderr",
     "output_type": "stream",
     "text": [
      "Processing EPC folders:  44%|████▍     | 154/347 [15:40<15:41,  4.88s/file]"
     ]
    },
    {
     "name": "stdout",
     "output_type": "stream",
     "text": [
      "Done\n"
     ]
    },
    {
     "name": "stderr",
     "output_type": "stream",
     "text": [
      "Processing EPC folders:  45%|████▍     | 155/347 [15:44<14:19,  4.48s/file]"
     ]
    },
    {
     "name": "stdout",
     "output_type": "stream",
     "text": [
      "Done\n"
     ]
    },
    {
     "name": "stderr",
     "output_type": "stream",
     "text": [
      "Processing EPC folders:  45%|████▍     | 156/347 [15:48<13:57,  4.39s/file]"
     ]
    },
    {
     "name": "stdout",
     "output_type": "stream",
     "text": [
      "Done\n"
     ]
    },
    {
     "name": "stderr",
     "output_type": "stream",
     "text": [
      "Processing EPC folders:  45%|████▌     | 157/347 [15:52<14:01,  4.43s/file]"
     ]
    },
    {
     "name": "stdout",
     "output_type": "stream",
     "text": [
      "Done\n",
      "Done\n"
     ]
    },
    {
     "name": "stderr",
     "output_type": "stream",
     "text": [
      "Processing EPC folders:  46%|████▌     | 159/347 [16:01<13:38,  4.35s/file]"
     ]
    },
    {
     "name": "stdout",
     "output_type": "stream",
     "text": [
      "Done\n"
     ]
    },
    {
     "name": "stderr",
     "output_type": "stream",
     "text": [
      "Processing EPC folders:  46%|████▌     | 160/347 [16:08<15:59,  5.13s/file]"
     ]
    },
    {
     "name": "stdout",
     "output_type": "stream",
     "text": [
      "Done\n"
     ]
    },
    {
     "name": "stderr",
     "output_type": "stream",
     "text": [
      "Processing EPC folders:  46%|████▋     | 161/347 [16:12<15:19,  4.94s/file]"
     ]
    },
    {
     "name": "stdout",
     "output_type": "stream",
     "text": [
      "Done\n"
     ]
    },
    {
     "name": "stderr",
     "output_type": "stream",
     "text": [
      "Processing EPC folders:  47%|████▋     | 162/347 [16:17<14:42,  4.77s/file]"
     ]
    },
    {
     "name": "stdout",
     "output_type": "stream",
     "text": [
      "Done\n"
     ]
    },
    {
     "name": "stderr",
     "output_type": "stream",
     "text": [
      "Processing EPC folders:  47%|████▋     | 163/347 [16:20<12:58,  4.23s/file]"
     ]
    },
    {
     "name": "stdout",
     "output_type": "stream",
     "text": [
      "Done\n"
     ]
    },
    {
     "name": "stderr",
     "output_type": "stream",
     "text": [
      "Processing EPC folders:  47%|████▋     | 164/347 [16:25<13:25,  4.40s/file]"
     ]
    },
    {
     "name": "stdout",
     "output_type": "stream",
     "text": [
      "Done\n"
     ]
    },
    {
     "name": "stderr",
     "output_type": "stream",
     "text": [
      "Processing EPC folders:  48%|████▊     | 165/347 [16:27<12:00,  3.96s/file]"
     ]
    },
    {
     "name": "stdout",
     "output_type": "stream",
     "text": [
      "Done\n"
     ]
    },
    {
     "name": "stderr",
     "output_type": "stream",
     "text": [
      "Processing EPC folders:  48%|████▊     | 166/347 [16:31<11:42,  3.88s/file]"
     ]
    },
    {
     "name": "stdout",
     "output_type": "stream",
     "text": [
      "Done\n",
      "Done\n"
     ]
    },
    {
     "name": "stderr",
     "output_type": "stream",
     "text": [
      "Processing EPC folders:  48%|████▊     | 167/347 [16:38<14:02,  4.68s/file]"
     ]
    },
    {
     "name": "stdout",
     "output_type": "stream",
     "text": [
      "Done\n"
     ]
    },
    {
     "name": "stderr",
     "output_type": "stream",
     "text": [
      "Processing EPC folders:  49%|████▊     | 169/347 [16:47<14:03,  4.74s/file]"
     ]
    },
    {
     "name": "stdout",
     "output_type": "stream",
     "text": [
      "Done\n"
     ]
    },
    {
     "name": "stderr",
     "output_type": "stream",
     "text": [
      "Processing EPC folders:  49%|████▉     | 170/347 [16:51<13:28,  4.57s/file]"
     ]
    },
    {
     "name": "stdout",
     "output_type": "stream",
     "text": [
      "Done\n",
      "Done\n"
     ]
    },
    {
     "name": "stderr",
     "output_type": "stream",
     "text": [
      "Processing EPC folders:  50%|████▉     | 172/347 [17:02<13:52,  4.75s/file]"
     ]
    },
    {
     "name": "stdout",
     "output_type": "stream",
     "text": [
      "Done\n",
      "Done\n"
     ]
    },
    {
     "name": "stderr",
     "output_type": "stream",
     "text": [
      "Processing EPC folders:  50%|█████     | 174/347 [17:12<14:38,  5.08s/file]"
     ]
    },
    {
     "name": "stdout",
     "output_type": "stream",
     "text": [
      "Done\n"
     ]
    },
    {
     "name": "stderr",
     "output_type": "stream",
     "text": [
      "Processing EPC folders:  50%|█████     | 175/347 [17:17<13:59,  4.88s/file]"
     ]
    },
    {
     "name": "stdout",
     "output_type": "stream",
     "text": [
      "Done\n"
     ]
    },
    {
     "name": "stderr",
     "output_type": "stream",
     "text": [
      "Processing EPC folders:  51%|█████     | 176/347 [17:23<15:11,  5.33s/file]"
     ]
    },
    {
     "name": "stdout",
     "output_type": "stream",
     "text": [
      "Done\n"
     ]
    },
    {
     "name": "stderr",
     "output_type": "stream",
     "text": [
      "Processing EPC folders:  51%|█████     | 177/347 [17:28<14:38,  5.17s/file]"
     ]
    },
    {
     "name": "stdout",
     "output_type": "stream",
     "text": [
      "Done\n",
      "Done\n"
     ]
    },
    {
     "name": "stderr",
     "output_type": "stream",
     "text": [
      "Processing EPC folders:  52%|█████▏    | 179/347 [17:41<16:07,  5.76s/file]"
     ]
    },
    {
     "name": "stdout",
     "output_type": "stream",
     "text": [
      "Done\n"
     ]
    },
    {
     "name": "stderr",
     "output_type": "stream",
     "text": [
      "Processing EPC folders:  52%|█████▏    | 180/347 [17:44<13:43,  4.93s/file]"
     ]
    },
    {
     "name": "stdout",
     "output_type": "stream",
     "text": [
      "Done\n"
     ]
    },
    {
     "name": "stderr",
     "output_type": "stream",
     "text": [
      "Processing EPC folders:  52%|█████▏    | 181/347 [17:47<12:14,  4.42s/file]"
     ]
    },
    {
     "name": "stdout",
     "output_type": "stream",
     "text": [
      "Done\n"
     ]
    },
    {
     "name": "stderr",
     "output_type": "stream",
     "text": [
      "Processing EPC folders:  52%|█████▏    | 182/347 [17:50<11:22,  4.14s/file]"
     ]
    },
    {
     "name": "stdout",
     "output_type": "stream",
     "text": [
      "Done\n"
     ]
    },
    {
     "name": "stderr",
     "output_type": "stream",
     "text": [
      "Processing EPC folders:  53%|█████▎    | 183/347 [17:54<10:59,  4.02s/file]"
     ]
    },
    {
     "name": "stdout",
     "output_type": "stream",
     "text": [
      "Done\n",
      "Done\n"
     ]
    },
    {
     "name": "stderr",
     "output_type": "stream",
     "text": [
      "Processing EPC folders:  53%|█████▎    | 185/347 [18:04<11:35,  4.29s/file]"
     ]
    },
    {
     "name": "stdout",
     "output_type": "stream",
     "text": [
      "Done\n"
     ]
    },
    {
     "name": "stderr",
     "output_type": "stream",
     "text": [
      "Processing EPC folders:  54%|█████▎    | 186/347 [18:07<10:41,  3.99s/file]"
     ]
    },
    {
     "name": "stdout",
     "output_type": "stream",
     "text": [
      "Done\n"
     ]
    },
    {
     "name": "stderr",
     "output_type": "stream",
     "text": [
      "Processing EPC folders:  54%|█████▍    | 187/347 [18:11<10:23,  3.90s/file]"
     ]
    },
    {
     "name": "stdout",
     "output_type": "stream",
     "text": [
      "Done\n"
     ]
    },
    {
     "name": "stderr",
     "output_type": "stream",
     "text": [
      "Processing EPC folders:  54%|█████▍    | 188/347 [18:15<10:23,  3.92s/file]"
     ]
    },
    {
     "name": "stdout",
     "output_type": "stream",
     "text": [
      "Done\n",
      "Done\n"
     ]
    },
    {
     "name": "stderr",
     "output_type": "stream",
     "text": [
      "Processing EPC folders:  55%|█████▍    | 190/347 [18:24<10:40,  4.08s/file]"
     ]
    },
    {
     "name": "stdout",
     "output_type": "stream",
     "text": [
      "Done\n"
     ]
    },
    {
     "name": "stderr",
     "output_type": "stream",
     "text": [
      "Processing EPC folders:  55%|█████▌    | 191/347 [18:27<09:48,  3.78s/file]"
     ]
    },
    {
     "name": "stdout",
     "output_type": "stream",
     "text": [
      "Done\n"
     ]
    },
    {
     "name": "stderr",
     "output_type": "stream",
     "text": [
      "Processing EPC folders:  55%|█████▌    | 192/347 [18:31<10:21,  4.01s/file]"
     ]
    },
    {
     "name": "stdout",
     "output_type": "stream",
     "text": [
      "Done\n"
     ]
    },
    {
     "name": "stderr",
     "output_type": "stream",
     "text": [
      "Processing EPC folders:  56%|█████▌    | 193/347 [18:35<09:59,  3.89s/file]"
     ]
    },
    {
     "name": "stdout",
     "output_type": "stream",
     "text": [
      "Done\n"
     ]
    },
    {
     "name": "stderr",
     "output_type": "stream",
     "text": [
      "Processing EPC folders:  56%|█████▌    | 194/347 [18:41<11:29,  4.51s/file]"
     ]
    },
    {
     "name": "stdout",
     "output_type": "stream",
     "text": [
      "Done\n",
      "Done\n"
     ]
    },
    {
     "name": "stderr",
     "output_type": "stream",
     "text": [
      "Processing EPC folders:  56%|█████▋    | 196/347 [18:50<11:30,  4.57s/file]"
     ]
    },
    {
     "name": "stdout",
     "output_type": "stream",
     "text": [
      "Done\n"
     ]
    },
    {
     "name": "stderr",
     "output_type": "stream",
     "text": [
      "Processing EPC folders:  57%|█████▋    | 197/347 [18:55<11:33,  4.62s/file]"
     ]
    },
    {
     "name": "stdout",
     "output_type": "stream",
     "text": [
      "Done\n"
     ]
    },
    {
     "name": "stderr",
     "output_type": "stream",
     "text": [
      "Processing EPC folders:  57%|█████▋    | 198/347 [19:00<11:28,  4.62s/file]"
     ]
    },
    {
     "name": "stdout",
     "output_type": "stream",
     "text": [
      "Done\n"
     ]
    },
    {
     "name": "stderr",
     "output_type": "stream",
     "text": [
      "Processing EPC folders:  57%|█████▋    | 199/347 [19:04<11:36,  4.71s/file]"
     ]
    },
    {
     "name": "stdout",
     "output_type": "stream",
     "text": [
      "Done\n"
     ]
    },
    {
     "name": "stderr",
     "output_type": "stream",
     "text": [
      "Processing EPC folders:  58%|█████▊    | 200/347 [19:10<12:11,  4.98s/file]"
     ]
    },
    {
     "name": "stdout",
     "output_type": "stream",
     "text": [
      "Done\n",
      "Done\n"
     ]
    },
    {
     "name": "stderr",
     "output_type": "stream",
     "text": [
      "Processing EPC folders:  58%|█████▊    | 202/347 [19:22<13:16,  5.49s/file]"
     ]
    },
    {
     "name": "stdout",
     "output_type": "stream",
     "text": [
      "Done\n",
      "Done\n"
     ]
    },
    {
     "name": "stderr",
     "output_type": "stream",
     "text": [
      "Processing EPC folders:  59%|█████▉    | 204/347 [19:33<12:55,  5.43s/file]"
     ]
    },
    {
     "name": "stdout",
     "output_type": "stream",
     "text": [
      "Done\n"
     ]
    },
    {
     "name": "stderr",
     "output_type": "stream",
     "text": [
      "Processing EPC folders:  59%|█████▉    | 205/347 [19:38<12:30,  5.28s/file]"
     ]
    },
    {
     "name": "stdout",
     "output_type": "stream",
     "text": [
      "Done\n"
     ]
    },
    {
     "name": "stderr",
     "output_type": "stream",
     "text": [
      "Processing EPC folders:  59%|█████▉    | 206/347 [19:43<12:06,  5.15s/file]"
     ]
    },
    {
     "name": "stdout",
     "output_type": "stream",
     "text": [
      "Done\n",
      "Done\n"
     ]
    },
    {
     "name": "stderr",
     "output_type": "stream",
     "text": [
      "Processing EPC folders:  60%|█████▉    | 207/347 [19:48<11:51,  5.08s/file]"
     ]
    },
    {
     "name": "stdout",
     "output_type": "stream",
     "text": [
      "Done\n"
     ]
    },
    {
     "name": "stderr",
     "output_type": "stream",
     "text": [
      "Processing EPC folders:  60%|██████    | 209/347 [19:57<11:23,  4.96s/file]"
     ]
    },
    {
     "name": "stdout",
     "output_type": "stream",
     "text": [
      "Done\n",
      "Done\n"
     ]
    },
    {
     "name": "stderr",
     "output_type": "stream",
     "text": [
      "Processing EPC folders:  61%|██████    | 211/347 [20:07<10:44,  4.74s/file]"
     ]
    },
    {
     "name": "stdout",
     "output_type": "stream",
     "text": [
      "Done\n"
     ]
    },
    {
     "name": "stderr",
     "output_type": "stream",
     "text": [
      "Processing EPC folders:  61%|██████    | 212/347 [20:12<11:08,  4.95s/file]"
     ]
    },
    {
     "name": "stdout",
     "output_type": "stream",
     "text": [
      "Done\n"
     ]
    },
    {
     "name": "stderr",
     "output_type": "stream",
     "text": [
      "Processing EPC folders:  61%|██████▏   | 213/347 [20:16<10:27,  4.68s/file]"
     ]
    },
    {
     "name": "stdout",
     "output_type": "stream",
     "text": [
      "Done\n",
      "Done\n"
     ]
    },
    {
     "name": "stderr",
     "output_type": "stream",
     "text": [
      "Processing EPC folders:  62%|██████▏   | 215/347 [20:26<10:13,  4.65s/file]"
     ]
    },
    {
     "name": "stdout",
     "output_type": "stream",
     "text": [
      "Done\n"
     ]
    },
    {
     "name": "stderr",
     "output_type": "stream",
     "text": [
      "Processing EPC folders:  62%|██████▏   | 216/347 [20:29<09:24,  4.31s/file]"
     ]
    },
    {
     "name": "stdout",
     "output_type": "stream",
     "text": [
      "Done\n"
     ]
    },
    {
     "name": "stderr",
     "output_type": "stream",
     "text": [
      "Processing EPC folders:  63%|██████▎   | 217/347 [20:33<09:20,  4.31s/file]"
     ]
    },
    {
     "name": "stdout",
     "output_type": "stream",
     "text": [
      "Done\n",
      "Done\n"
     ]
    },
    {
     "name": "stderr",
     "output_type": "stream",
     "text": [
      "Processing EPC folders:  63%|██████▎   | 219/347 [20:44<10:17,  4.82s/file]"
     ]
    },
    {
     "name": "stdout",
     "output_type": "stream",
     "text": [
      "Done\n"
     ]
    },
    {
     "name": "stderr",
     "output_type": "stream",
     "text": [
      "Processing EPC folders:  63%|██████▎   | 220/347 [20:50<10:45,  5.08s/file]"
     ]
    },
    {
     "name": "stdout",
     "output_type": "stream",
     "text": [
      "Done\n"
     ]
    },
    {
     "name": "stderr",
     "output_type": "stream",
     "text": [
      "Processing EPC folders:  64%|██████▎   | 221/347 [20:54<09:50,  4.69s/file]"
     ]
    },
    {
     "name": "stdout",
     "output_type": "stream",
     "text": [
      "Done\n"
     ]
    },
    {
     "name": "stderr",
     "output_type": "stream",
     "text": [
      "Processing EPC folders:  64%|██████▍   | 222/347 [20:59<10:09,  4.87s/file]"
     ]
    },
    {
     "name": "stdout",
     "output_type": "stream",
     "text": [
      "Done\n"
     ]
    },
    {
     "name": "stderr",
     "output_type": "stream",
     "text": [
      "Processing EPC folders:  64%|██████▍   | 223/347 [21:03<09:39,  4.67s/file]"
     ]
    },
    {
     "name": "stdout",
     "output_type": "stream",
     "text": [
      "Done\n",
      "Done\n"
     ]
    },
    {
     "name": "stderr",
     "output_type": "stream",
     "text": [
      "Processing EPC folders:  65%|██████▍   | 225/347 [21:14<10:00,  4.92s/file]"
     ]
    },
    {
     "name": "stdout",
     "output_type": "stream",
     "text": [
      "Done\n"
     ]
    },
    {
     "name": "stderr",
     "output_type": "stream",
     "text": [
      "Processing EPC folders:  65%|██████▌   | 226/347 [21:19<09:40,  4.80s/file]"
     ]
    },
    {
     "name": "stdout",
     "output_type": "stream",
     "text": [
      "Done\n"
     ]
    },
    {
     "name": "stderr",
     "output_type": "stream",
     "text": [
      "Processing EPC folders:  65%|██████▌   | 227/347 [21:23<09:14,  4.62s/file]"
     ]
    },
    {
     "name": "stdout",
     "output_type": "stream",
     "text": [
      "Done\n"
     ]
    },
    {
     "name": "stderr",
     "output_type": "stream",
     "text": [
      "Processing EPC folders:  66%|██████▌   | 228/347 [21:27<08:43,  4.40s/file]"
     ]
    },
    {
     "name": "stdout",
     "output_type": "stream",
     "text": [
      "Done\n"
     ]
    },
    {
     "name": "stderr",
     "output_type": "stream",
     "text": [
      "Processing EPC folders:  66%|██████▌   | 229/347 [21:32<09:01,  4.59s/file]"
     ]
    },
    {
     "name": "stdout",
     "output_type": "stream",
     "text": [
      "Done\n"
     ]
    },
    {
     "name": "stderr",
     "output_type": "stream",
     "text": [
      "Processing EPC folders:  66%|██████▋   | 230/347 [21:36<08:59,  4.61s/file]"
     ]
    },
    {
     "name": "stdout",
     "output_type": "stream",
     "text": [
      "Done\n"
     ]
    },
    {
     "name": "stderr",
     "output_type": "stream",
     "text": [
      "Processing EPC folders:  67%|██████▋   | 231/347 [21:41<08:47,  4.55s/file]"
     ]
    },
    {
     "name": "stdout",
     "output_type": "stream",
     "text": [
      "Done\n",
      "Done\n"
     ]
    },
    {
     "name": "stderr",
     "output_type": "stream",
     "text": [
      "Processing EPC folders:  67%|██████▋   | 232/347 [21:46<09:05,  4.74s/file]"
     ]
    },
    {
     "name": "stdout",
     "output_type": "stream",
     "text": [
      "Done\n"
     ]
    },
    {
     "name": "stderr",
     "output_type": "stream",
     "text": [
      "Processing EPC folders:  67%|██████▋   | 234/347 [21:57<09:48,  5.21s/file]"
     ]
    },
    {
     "name": "stdout",
     "output_type": "stream",
     "text": [
      "Done\n",
      "Done\n"
     ]
    },
    {
     "name": "stderr",
     "output_type": "stream",
     "text": [
      "Processing EPC folders:  68%|██████▊   | 236/347 [22:07<09:04,  4.91s/file]"
     ]
    },
    {
     "name": "stdout",
     "output_type": "stream",
     "text": [
      "Done\n"
     ]
    },
    {
     "name": "stderr",
     "output_type": "stream",
     "text": [
      "Processing EPC folders:  68%|██████▊   | 237/347 [22:14<10:08,  5.53s/file]"
     ]
    },
    {
     "name": "stdout",
     "output_type": "stream",
     "text": [
      "Done\n"
     ]
    },
    {
     "name": "stderr",
     "output_type": "stream",
     "text": [
      "Processing EPC folders:  69%|██████▊   | 238/347 [22:19<09:56,  5.47s/file]"
     ]
    },
    {
     "name": "stdout",
     "output_type": "stream",
     "text": [
      "Done\n"
     ]
    },
    {
     "name": "stderr",
     "output_type": "stream",
     "text": [
      "Processing EPC folders:  69%|██████▉   | 239/347 [22:23<09:13,  5.12s/file]"
     ]
    },
    {
     "name": "stdout",
     "output_type": "stream",
     "text": [
      "Done\n"
     ]
    },
    {
     "name": "stderr",
     "output_type": "stream",
     "text": [
      "Processing EPC folders:  69%|██████▉   | 240/347 [22:29<09:20,  5.24s/file]"
     ]
    },
    {
     "name": "stdout",
     "output_type": "stream",
     "text": [
      "Done\n",
      "Done\n"
     ]
    },
    {
     "name": "stderr",
     "output_type": "stream",
     "text": [
      "Processing EPC folders:  70%|██████▉   | 242/347 [22:41<09:59,  5.71s/file]"
     ]
    },
    {
     "name": "stdout",
     "output_type": "stream",
     "text": [
      "Done\n"
     ]
    },
    {
     "name": "stderr",
     "output_type": "stream",
     "text": [
      "Processing EPC folders:  70%|███████   | 243/347 [22:45<08:56,  5.16s/file]"
     ]
    },
    {
     "name": "stdout",
     "output_type": "stream",
     "text": [
      "Done\n"
     ]
    },
    {
     "name": "stderr",
     "output_type": "stream",
     "text": [
      "Processing EPC folders:  70%|███████   | 244/347 [22:49<08:11,  4.78s/file]"
     ]
    },
    {
     "name": "stdout",
     "output_type": "stream",
     "text": [
      "Done\n"
     ]
    },
    {
     "name": "stderr",
     "output_type": "stream",
     "text": [
      "Processing EPC folders:  71%|███████   | 245/347 [22:53<07:33,  4.45s/file]"
     ]
    },
    {
     "name": "stdout",
     "output_type": "stream",
     "text": [
      "Done\n",
      "Done\n"
     ]
    },
    {
     "name": "stderr",
     "output_type": "stream",
     "text": [
      "Processing EPC folders:  71%|███████   | 246/347 [22:57<07:36,  4.52s/file]"
     ]
    },
    {
     "name": "stdout",
     "output_type": "stream",
     "text": [
      "Done\n"
     ]
    },
    {
     "name": "stderr",
     "output_type": "stream",
     "text": [
      "Processing EPC folders:  71%|███████   | 247/347 [23:03<07:54,  4.74s/file]"
     ]
    },
    {
     "name": "stdout",
     "output_type": "stream",
     "text": [
      "Done\n"
     ]
    },
    {
     "name": "stderr",
     "output_type": "stream",
     "text": [
      "Processing EPC folders:  72%|███████▏  | 249/347 [23:13<08:04,  4.95s/file]"
     ]
    },
    {
     "name": "stdout",
     "output_type": "stream",
     "text": [
      "Done\n"
     ]
    },
    {
     "name": "stderr",
     "output_type": "stream",
     "text": [
      "Processing EPC folders:  72%|███████▏  | 250/347 [23:18<07:55,  4.90s/file]"
     ]
    },
    {
     "name": "stdout",
     "output_type": "stream",
     "text": [
      "Done\n",
      "Done\n"
     ]
    },
    {
     "name": "stderr",
     "output_type": "stream",
     "text": [
      "Processing EPC folders:  73%|███████▎  | 252/347 [23:27<07:30,  4.75s/file]"
     ]
    },
    {
     "name": "stdout",
     "output_type": "stream",
     "text": [
      "Done\n",
      "Done\n"
     ]
    },
    {
     "name": "stderr",
     "output_type": "stream",
     "text": [
      "Processing EPC folders:  73%|███████▎  | 253/347 [23:36<09:28,  6.05s/file]"
     ]
    },
    {
     "name": "stdout",
     "output_type": "stream",
     "text": [
      "Done\n"
     ]
    },
    {
     "name": "stderr",
     "output_type": "stream",
     "text": [
      "Processing EPC folders:  73%|███████▎  | 254/347 [23:44<10:02,  6.47s/file]"
     ]
    },
    {
     "name": "stdout",
     "output_type": "stream",
     "text": [
      "Done\n"
     ]
    },
    {
     "name": "stderr",
     "output_type": "stream",
     "text": [
      "Processing EPC folders:  73%|███████▎  | 255/347 [23:49<09:32,  6.23s/file]"
     ]
    },
    {
     "name": "stdout",
     "output_type": "stream",
     "text": [
      "Done\n"
     ]
    },
    {
     "name": "stderr",
     "output_type": "stream",
     "text": [
      "Processing EPC folders:  74%|███████▍  | 257/347 [24:05<10:20,  6.90s/file]"
     ]
    },
    {
     "name": "stdout",
     "output_type": "stream",
     "text": [
      "Done\n",
      "Done\n"
     ]
    },
    {
     "name": "stderr",
     "output_type": "stream",
     "text": [
      "Processing EPC folders:  75%|███████▍  | 259/347 [24:33<14:32,  9.91s/file]"
     ]
    },
    {
     "name": "stdout",
     "output_type": "stream",
     "text": [
      "Done\n",
      "Done\n"
     ]
    },
    {
     "name": "stderr",
     "output_type": "stream",
     "text": [
      "Processing EPC folders:  75%|███████▌  | 261/347 [24:51<14:02,  9.80s/file]"
     ]
    },
    {
     "name": "stdout",
     "output_type": "stream",
     "text": [
      "Done\n",
      "Done\n"
     ]
    },
    {
     "name": "stderr",
     "output_type": "stream",
     "text": [
      "Processing EPC folders:  76%|███████▌  | 262/347 [25:00<13:24,  9.47s/file]"
     ]
    },
    {
     "name": "stdout",
     "output_type": "stream",
     "text": [
      "Done\n"
     ]
    },
    {
     "name": "stderr",
     "output_type": "stream",
     "text": [
      "Processing EPC folders:  76%|███████▌  | 264/347 [25:16<11:49,  8.55s/file]"
     ]
    },
    {
     "name": "stdout",
     "output_type": "stream",
     "text": [
      "Done\n",
      "Done\n"
     ]
    },
    {
     "name": "stderr",
     "output_type": "stream",
     "text": [
      "Processing EPC folders:  76%|███████▋  | 265/347 [25:25<12:10,  8.91s/file]"
     ]
    },
    {
     "name": "stdout",
     "output_type": "stream",
     "text": [
      "Done\n"
     ]
    },
    {
     "name": "stderr",
     "output_type": "stream",
     "text": [
      "Processing EPC folders:  77%|███████▋  | 266/347 [25:32<10:53,  8.07s/file]"
     ]
    },
    {
     "name": "stdout",
     "output_type": "stream",
     "text": [
      "Done\n"
     ]
    },
    {
     "name": "stderr",
     "output_type": "stream",
     "text": [
      "Processing EPC folders:  77%|███████▋  | 267/347 [25:50<14:53, 11.17s/file]"
     ]
    },
    {
     "name": "stdout",
     "output_type": "stream",
     "text": [
      "Done\n"
     ]
    },
    {
     "name": "stderr",
     "output_type": "stream",
     "text": [
      "Processing EPC folders:  77%|███████▋  | 268/347 [25:57<12:55,  9.82s/file]"
     ]
    },
    {
     "name": "stdout",
     "output_type": "stream",
     "text": [
      "Done\n"
     ]
    },
    {
     "name": "stderr",
     "output_type": "stream",
     "text": [
      "Processing EPC folders:  78%|███████▊  | 269/347 [26:06<12:28,  9.59s/file]"
     ]
    },
    {
     "name": "stdout",
     "output_type": "stream",
     "text": [
      "Done\n"
     ]
    },
    {
     "name": "stderr",
     "output_type": "stream",
     "text": [
      "Processing EPC folders:  78%|███████▊  | 270/347 [26:16<12:46,  9.95s/file]"
     ]
    },
    {
     "name": "stdout",
     "output_type": "stream",
     "text": [
      "Done\n"
     ]
    },
    {
     "name": "stderr",
     "output_type": "stream",
     "text": [
      "Processing EPC folders:  78%|███████▊  | 271/347 [26:25<11:55,  9.42s/file]"
     ]
    },
    {
     "name": "stdout",
     "output_type": "stream",
     "text": [
      "Done\n"
     ]
    },
    {
     "name": "stderr",
     "output_type": "stream",
     "text": [
      "Processing EPC folders:  79%|███████▊  | 273/347 [26:43<11:31,  9.34s/file]"
     ]
    },
    {
     "name": "stdout",
     "output_type": "stream",
     "text": [
      "Done\n",
      "Done\n"
     ]
    },
    {
     "name": "stderr",
     "output_type": "stream",
     "text": [
      "Processing EPC folders:  79%|███████▉  | 274/347 [26:59<13:49, 11.37s/file]"
     ]
    },
    {
     "name": "stdout",
     "output_type": "stream",
     "text": [
      "Done\n"
     ]
    },
    {
     "name": "stderr",
     "output_type": "stream",
     "text": [
      "Processing EPC folders:  79%|███████▉  | 275/347 [27:10<13:15, 11.05s/file]"
     ]
    },
    {
     "name": "stdout",
     "output_type": "stream",
     "text": [
      "Done\n"
     ]
    },
    {
     "name": "stderr",
     "output_type": "stream",
     "text": [
      "Processing EPC folders:  80%|███████▉  | 276/347 [27:18<11:58, 10.12s/file]"
     ]
    },
    {
     "name": "stdout",
     "output_type": "stream",
     "text": [
      "Done\n"
     ]
    },
    {
     "name": "stderr",
     "output_type": "stream",
     "text": [
      "Processing EPC folders:  80%|███████▉  | 277/347 [27:24<10:23,  8.90s/file]"
     ]
    },
    {
     "name": "stdout",
     "output_type": "stream",
     "text": [
      "Done\n"
     ]
    },
    {
     "name": "stderr",
     "output_type": "stream",
     "text": [
      "Processing EPC folders:  80%|████████  | 278/347 [27:35<10:58,  9.54s/file]"
     ]
    },
    {
     "name": "stdout",
     "output_type": "stream",
     "text": [
      "Done\n"
     ]
    },
    {
     "name": "stderr",
     "output_type": "stream",
     "text": [
      "Processing EPC folders:  80%|████████  | 279/347 [28:08<18:54, 16.68s/file]"
     ]
    },
    {
     "name": "stdout",
     "output_type": "stream",
     "text": [
      "Done\n"
     ]
    },
    {
     "name": "stderr",
     "output_type": "stream",
     "text": [
      "Processing EPC folders:  81%|████████  | 280/347 [28:20<17:08, 15.35s/file]"
     ]
    },
    {
     "name": "stdout",
     "output_type": "stream",
     "text": [
      "Done\n"
     ]
    },
    {
     "name": "stderr",
     "output_type": "stream",
     "text": [
      "Processing EPC folders:  81%|████████  | 281/347 [28:30<14:57, 13.60s/file]"
     ]
    },
    {
     "name": "stdout",
     "output_type": "stream",
     "text": [
      "Done\n"
     ]
    },
    {
     "name": "stderr",
     "output_type": "stream",
     "text": [
      "Processing EPC folders:  81%|████████▏ | 282/347 [28:40<13:31, 12.48s/file]"
     ]
    },
    {
     "name": "stdout",
     "output_type": "stream",
     "text": [
      "Done\n"
     ]
    },
    {
     "name": "stderr",
     "output_type": "stream",
     "text": [
      "Processing EPC folders:  82%|████████▏ | 283/347 [28:47<11:36, 10.88s/file]"
     ]
    },
    {
     "name": "stdout",
     "output_type": "stream",
     "text": [
      "Done\n"
     ]
    },
    {
     "name": "stderr",
     "output_type": "stream",
     "text": [
      "Processing EPC folders:  82%|████████▏ | 284/347 [28:55<10:37, 10.13s/file]"
     ]
    },
    {
     "name": "stdout",
     "output_type": "stream",
     "text": [
      "Done\n"
     ]
    },
    {
     "name": "stderr",
     "output_type": "stream",
     "text": [
      "Processing EPC folders:  82%|████████▏ | 285/347 [29:03<09:51,  9.54s/file]"
     ]
    },
    {
     "name": "stdout",
     "output_type": "stream",
     "text": [
      "Done\n"
     ]
    },
    {
     "name": "stderr",
     "output_type": "stream",
     "text": [
      "Processing EPC folders:  82%|████████▏ | 286/347 [29:20<11:53, 11.70s/file]"
     ]
    },
    {
     "name": "stdout",
     "output_type": "stream",
     "text": [
      "Done\n"
     ]
    },
    {
     "name": "stderr",
     "output_type": "stream",
     "text": [
      "Processing EPC folders:  83%|████████▎ | 287/347 [29:28<10:29, 10.49s/file]"
     ]
    },
    {
     "name": "stdout",
     "output_type": "stream",
     "text": [
      "Done\n"
     ]
    },
    {
     "name": "stderr",
     "output_type": "stream",
     "text": [
      "Processing EPC folders:  83%|████████▎ | 288/347 [29:40<10:50, 11.02s/file]"
     ]
    },
    {
     "name": "stdout",
     "output_type": "stream",
     "text": [
      "Done\n"
     ]
    },
    {
     "name": "stderr",
     "output_type": "stream",
     "text": [
      "Processing EPC folders:  83%|████████▎ | 289/347 [30:05<14:47, 15.30s/file]"
     ]
    },
    {
     "name": "stdout",
     "output_type": "stream",
     "text": [
      "Done\n"
     ]
    },
    {
     "name": "stderr",
     "output_type": "stream",
     "text": [
      "Processing EPC folders:  84%|████████▎ | 290/347 [30:19<13:54, 14.65s/file]"
     ]
    },
    {
     "name": "stdout",
     "output_type": "stream",
     "text": [
      "Done\n"
     ]
    },
    {
     "name": "stderr",
     "output_type": "stream",
     "text": [
      "Processing EPC folders:  84%|████████▍ | 292/347 [30:28<08:31,  9.31s/file]"
     ]
    },
    {
     "name": "stdout",
     "output_type": "stream",
     "text": [
      "Done\n",
      "Done\n"
     ]
    },
    {
     "name": "stderr",
     "output_type": "stream",
     "text": [
      "Processing EPC folders:  84%|████████▍ | 293/347 [30:35<07:41,  8.55s/file]"
     ]
    },
    {
     "name": "stdout",
     "output_type": "stream",
     "text": [
      "Done\n"
     ]
    },
    {
     "name": "stderr",
     "output_type": "stream",
     "text": [
      "Processing EPC folders:  85%|████████▍ | 294/347 [30:47<08:29,  9.61s/file]"
     ]
    },
    {
     "name": "stdout",
     "output_type": "stream",
     "text": [
      "Done\n"
     ]
    },
    {
     "name": "stderr",
     "output_type": "stream",
     "text": [
      "Processing EPC folders:  85%|████████▌ | 296/347 [31:04<07:50,  9.22s/file]"
     ]
    },
    {
     "name": "stdout",
     "output_type": "stream",
     "text": [
      "Done\n",
      "Done\n"
     ]
    },
    {
     "name": "stderr",
     "output_type": "stream",
     "text": [
      "Processing EPC folders:  86%|████████▌ | 298/347 [31:22<07:27,  9.13s/file]"
     ]
    },
    {
     "name": "stdout",
     "output_type": "stream",
     "text": [
      "Done\n",
      "Done\n"
     ]
    },
    {
     "name": "stderr",
     "output_type": "stream",
     "text": [
      "Processing EPC folders:  86%|████████▌ | 299/347 [31:34<07:55,  9.90s/file]"
     ]
    },
    {
     "name": "stdout",
     "output_type": "stream",
     "text": [
      "Done\n"
     ]
    },
    {
     "name": "stderr",
     "output_type": "stream",
     "text": [
      "Processing EPC folders:  86%|████████▋ | 300/347 [31:46<08:07, 10.37s/file]"
     ]
    },
    {
     "name": "stdout",
     "output_type": "stream",
     "text": [
      "Done\n"
     ]
    },
    {
     "name": "stderr",
     "output_type": "stream",
     "text": [
      "Processing EPC folders:  87%|████████▋ | 301/347 [31:55<07:47, 10.17s/file]"
     ]
    },
    {
     "name": "stdout",
     "output_type": "stream",
     "text": [
      "Done\n"
     ]
    },
    {
     "name": "stderr",
     "output_type": "stream",
     "text": [
      "Processing EPC folders:  87%|████████▋ | 303/347 [32:15<07:20, 10.02s/file]"
     ]
    },
    {
     "name": "stdout",
     "output_type": "stream",
     "text": [
      "Done\n"
     ]
    },
    {
     "name": "stderr",
     "output_type": "stream",
     "text": [
      "Processing EPC folders:  88%|████████▊ | 304/347 [32:23<06:48,  9.50s/file]"
     ]
    },
    {
     "name": "stdout",
     "output_type": "stream",
     "text": [
      "Done\n",
      "Done\n"
     ]
    },
    {
     "name": "stderr",
     "output_type": "stream",
     "text": [
      "Processing EPC folders:  88%|████████▊ | 305/347 [32:33<06:39,  9.50s/file]"
     ]
    },
    {
     "name": "stdout",
     "output_type": "stream",
     "text": [
      "Done\n"
     ]
    },
    {
     "name": "stderr",
     "output_type": "stream",
     "text": [
      "Processing EPC folders:  88%|████████▊ | 306/347 [32:41<06:08,  8.98s/file]"
     ]
    },
    {
     "name": "stdout",
     "output_type": "stream",
     "text": [
      "Done\n"
     ]
    },
    {
     "name": "stderr",
     "output_type": "stream",
     "text": [
      "Processing EPC folders:  88%|████████▊ | 307/347 [32:48<05:41,  8.54s/file]"
     ]
    },
    {
     "name": "stdout",
     "output_type": "stream",
     "text": [
      "Done\n"
     ]
    },
    {
     "name": "stderr",
     "output_type": "stream",
     "text": [
      "Processing EPC folders:  89%|████████▉ | 308/347 [32:57<05:35,  8.59s/file]"
     ]
    },
    {
     "name": "stdout",
     "output_type": "stream",
     "text": [
      "Done\n"
     ]
    },
    {
     "name": "stderr",
     "output_type": "stream",
     "text": [
      "Processing EPC folders:  89%|████████▉ | 310/347 [33:15<05:26,  8.84s/file]"
     ]
    },
    {
     "name": "stdout",
     "output_type": "stream",
     "text": [
      "Done\n"
     ]
    },
    {
     "name": "stderr",
     "output_type": "stream",
     "text": [
      "Processing EPC folders:  90%|████████▉ | 311/347 [33:22<05:07,  8.53s/file]"
     ]
    },
    {
     "name": "stdout",
     "output_type": "stream",
     "text": [
      "Done\n"
     ]
    },
    {
     "name": "stderr",
     "output_type": "stream",
     "text": [
      "Processing EPC folders:  90%|████████▉ | 312/347 [33:29<04:34,  7.85s/file]"
     ]
    },
    {
     "name": "stdout",
     "output_type": "stream",
     "text": [
      "Done\n",
      "Done\n"
     ]
    },
    {
     "name": "stderr",
     "output_type": "stream",
     "text": [
      "Processing EPC folders:  90%|█████████ | 313/347 [33:42<05:21,  9.46s/file]"
     ]
    },
    {
     "name": "stdout",
     "output_type": "stream",
     "text": [
      "Done\n"
     ]
    },
    {
     "name": "stderr",
     "output_type": "stream",
     "text": [
      "Processing EPC folders:  90%|█████████ | 314/347 [33:53<05:25,  9.87s/file]"
     ]
    },
    {
     "name": "stdout",
     "output_type": "stream",
     "text": [
      "Done\n"
     ]
    },
    {
     "name": "stderr",
     "output_type": "stream",
     "text": [
      "Processing EPC folders:  91%|█████████ | 315/347 [34:00<04:48,  9.00s/file]"
     ]
    },
    {
     "name": "stdout",
     "output_type": "stream",
     "text": [
      "Done\n"
     ]
    },
    {
     "name": "stderr",
     "output_type": "stream",
     "text": [
      "Processing EPC folders:  91%|█████████ | 316/347 [34:11<04:57,  9.60s/file]"
     ]
    },
    {
     "name": "stdout",
     "output_type": "stream",
     "text": [
      "Done\n"
     ]
    },
    {
     "name": "stderr",
     "output_type": "stream",
     "text": [
      "Processing EPC folders:  92%|█████████▏| 318/347 [34:25<04:02,  8.36s/file]"
     ]
    },
    {
     "name": "stdout",
     "output_type": "stream",
     "text": [
      "Done\n"
     ]
    },
    {
     "name": "stderr",
     "output_type": "stream",
     "text": [
      "Processing EPC folders:  92%|█████████▏| 319/347 [34:36<04:14,  9.08s/file]"
     ]
    },
    {
     "name": "stdout",
     "output_type": "stream",
     "text": [
      "Done\n",
      "Done\n"
     ]
    },
    {
     "name": "stderr",
     "output_type": "stream",
     "text": [
      "Processing EPC folders:  93%|█████████▎| 321/347 [34:55<04:07,  9.51s/file]"
     ]
    },
    {
     "name": "stdout",
     "output_type": "stream",
     "text": [
      "Done\n",
      "Done\n"
     ]
    },
    {
     "name": "stderr",
     "output_type": "stream",
     "text": [
      "Processing EPC folders:  93%|█████████▎| 322/347 [35:04<03:54,  9.36s/file]"
     ]
    },
    {
     "name": "stdout",
     "output_type": "stream",
     "text": [
      "Done\n"
     ]
    },
    {
     "name": "stderr",
     "output_type": "stream",
     "text": [
      "Processing EPC folders:  93%|█████████▎| 324/347 [35:27<03:57, 10.34s/file]"
     ]
    },
    {
     "name": "stdout",
     "output_type": "stream",
     "text": [
      "Done\n"
     ]
    },
    {
     "name": "stderr",
     "output_type": "stream",
     "text": [
      "Processing EPC folders:  94%|█████████▎| 325/347 [35:31<03:04,  8.37s/file]"
     ]
    },
    {
     "name": "stdout",
     "output_type": "stream",
     "text": [
      "Done\n"
     ]
    },
    {
     "name": "stderr",
     "output_type": "stream",
     "text": [
      "Processing EPC folders:  94%|█████████▍| 326/347 [35:36<02:33,  7.29s/file]"
     ]
    },
    {
     "name": "stdout",
     "output_type": "stream",
     "text": [
      "Done\n"
     ]
    },
    {
     "name": "stderr",
     "output_type": "stream",
     "text": [
      "Processing EPC folders:  94%|█████████▍| 327/347 [35:42<02:17,  6.89s/file]"
     ]
    },
    {
     "name": "stdout",
     "output_type": "stream",
     "text": [
      "Done\n",
      "Done\n"
     ]
    },
    {
     "name": "stderr",
     "output_type": "stream",
     "text": [
      "Processing EPC folders:  95%|█████████▍| 329/347 [35:51<01:45,  5.89s/file]"
     ]
    },
    {
     "name": "stdout",
     "output_type": "stream",
     "text": [
      "Done\n"
     ]
    },
    {
     "name": "stderr",
     "output_type": "stream",
     "text": [
      "Processing EPC folders:  95%|█████████▌| 330/347 [35:56<01:34,  5.53s/file]"
     ]
    },
    {
     "name": "stdout",
     "output_type": "stream",
     "text": [
      "Done\n"
     ]
    },
    {
     "name": "stderr",
     "output_type": "stream",
     "text": [
      "Processing EPC folders:  95%|█████████▌| 331/347 [36:00<01:20,  5.01s/file]"
     ]
    },
    {
     "name": "stdout",
     "output_type": "stream",
     "text": [
      "Done\n"
     ]
    },
    {
     "name": "stderr",
     "output_type": "stream",
     "text": [
      "Processing EPC folders:  96%|█████████▌| 332/347 [36:05<01:14,  4.99s/file]"
     ]
    },
    {
     "name": "stdout",
     "output_type": "stream",
     "text": [
      "Done\n",
      "Done\n"
     ]
    },
    {
     "name": "stderr",
     "output_type": "stream",
     "text": [
      "Processing EPC folders:  96%|█████████▋| 334/347 [36:20<01:21,  6.27s/file]"
     ]
    },
    {
     "name": "stdout",
     "output_type": "stream",
     "text": [
      "Done\n"
     ]
    },
    {
     "name": "stderr",
     "output_type": "stream",
     "text": [
      "Processing EPC folders:  97%|█████████▋| 335/347 [36:25<01:12,  6.05s/file]"
     ]
    },
    {
     "name": "stdout",
     "output_type": "stream",
     "text": [
      "Done\n"
     ]
    },
    {
     "name": "stderr",
     "output_type": "stream",
     "text": [
      "Processing EPC folders:  97%|█████████▋| 336/347 [36:30<01:03,  5.76s/file]"
     ]
    },
    {
     "name": "stdout",
     "output_type": "stream",
     "text": [
      "Done\n",
      "Done\n"
     ]
    },
    {
     "name": "stderr",
     "output_type": "stream",
     "text": [
      "Processing EPC folders:  97%|█████████▋| 337/347 [36:36<00:56,  5.64s/file]"
     ]
    },
    {
     "name": "stdout",
     "output_type": "stream",
     "text": [
      "Done\n"
     ]
    },
    {
     "name": "stderr",
     "output_type": "stream",
     "text": [
      "Processing EPC folders:  97%|█████████▋| 338/347 [36:48<01:08,  7.59s/file]"
     ]
    },
    {
     "name": "stdout",
     "output_type": "stream",
     "text": [
      "Done\n"
     ]
    },
    {
     "name": "stderr",
     "output_type": "stream",
     "text": [
      "Processing EPC folders:  98%|█████████▊| 340/347 [37:01<00:49,  7.06s/file]"
     ]
    },
    {
     "name": "stdout",
     "output_type": "stream",
     "text": [
      "Done\n"
     ]
    },
    {
     "name": "stderr",
     "output_type": "stream",
     "text": [
      "Processing EPC folders:  98%|█████████▊| 341/347 [37:05<00:35,  5.96s/file]"
     ]
    },
    {
     "name": "stdout",
     "output_type": "stream",
     "text": [
      "Done\n"
     ]
    },
    {
     "name": "stderr",
     "output_type": "stream",
     "text": [
      "Processing EPC folders:  99%|█████████▊| 342/347 [37:09<00:27,  5.42s/file]"
     ]
    },
    {
     "name": "stdout",
     "output_type": "stream",
     "text": [
      "Done\n"
     ]
    },
    {
     "name": "stderr",
     "output_type": "stream",
     "text": [
      "Processing EPC folders:  99%|█████████▉| 343/347 [37:13<00:20,  5.14s/file]"
     ]
    },
    {
     "name": "stdout",
     "output_type": "stream",
     "text": [
      "Done\n",
      "Done\n"
     ]
    },
    {
     "name": "stderr",
     "output_type": "stream",
     "text": [
      "Processing EPC folders:  99%|█████████▉| 345/347 [37:24<00:10,  5.28s/file]"
     ]
    },
    {
     "name": "stdout",
     "output_type": "stream",
     "text": [
      "Done\n"
     ]
    },
    {
     "name": "stderr",
     "output_type": "stream",
     "text": [
      "Processing EPC folders: 100%|█████████▉| 346/347 [37:28<00:04,  4.74s/file]"
     ]
    },
    {
     "name": "stdout",
     "output_type": "stream",
     "text": [
      "Done\n"
     ]
    },
    {
     "name": "stderr",
     "output_type": "stream",
     "text": [
      "Processing EPC folders: 100%|██████████| 347/347 [37:30<00:00,  6.48s/file]"
     ]
    },
    {
     "name": "stdout",
     "output_type": "stream",
     "text": [
      "Done\n"
     ]
    },
    {
     "name": "stderr",
     "output_type": "stream",
     "text": [
      "\n"
     ]
    }
   ],
   "source": [
    "import os\n",
    "import pandas as pd\n",
    "import re\n",
    "from tqdm import tqdm\n",
    "\n",
    "def normalize_address_components(*components):\n",
    "    combined = ' '.join([str(c) for c in components if pd.notna(c)])\n",
    "    normalized = (\n",
    "        combined.upper()\n",
    "        .replace(',', '')\n",
    "        .replace('.', '')\n",
    "        .replace('-', ' ')\n",
    "    )\n",
    "    normalized = re.sub(r'\\s+', ' ', normalized)\n",
    "    return normalized.strip()\n",
    "\n",
    "df['postcode_clean'] = df['Postcode'].astype(str).str.replace(' ', '').str.upper()\n",
    "df['match_key'] = df.apply(\n",
    "    lambda row: normalize_address_components(\n",
    "        row.get('primary_addressable_object_name', ''),\n",
    "        row.get('street', ''),\n",
    "        row['postcode_clean']\n",
    "    ),\n",
    "    axis=1\n",
    ")\n",
    "\n",
    "folder = 'epc_certificates_only'\n",
    "subfolders = [f for f in os.listdir(folder) if os.path.isdir(os.path.join(folder, f))]\n",
    "\n",
    "output_dir = \"matched_epc_rows\"\n",
    "os.makedirs(output_dir, exist_ok=True)\n",
    "\n",
    "for subfolder in tqdm(subfolders, desc=\"Processing EPC folders\", unit=\"file\"):\n",
    "    cert_path = os.path.join(folder, subfolder, 'certificates.csv')\n",
    "\n",
    "    if not os.path.exists(cert_path):\n",
    "        continue\n",
    "\n",
    "    try:\n",
    "        epc_df = pd.read_csv(cert_path, low_memory=False)\n",
    "\n",
    "        epc_df['postcode_clean'] = epc_df['POSTCODE'].astype(str).str.replace(' ', '').str.upper()\n",
    "        epc_df['match_key'] = epc_df.apply(\n",
    "            lambda row: normalize_address_components(\n",
    "                row.get('ADDRESS1', ''),\n",
    "                row.get('ADDRESS2', ''),\n",
    "                row['postcode_clean']\n",
    "            ),\n",
    "            axis=1\n",
    "        )\n",
    "\n",
    "        matched = epc_df[epc_df['match_key'].isin(df['match_key'])]\n",
    "        print('Done')\n",
    "\n",
    "        if not matched.empty:\n",
    "            out_path = os.path.join(output_dir, f\"{subfolder}.parquet\")\n",
    "            matched.to_parquet(out_path, index=False)\n",
    "\n",
    "    except Exception as e:\n",
    "        print(f\"❌ Error processing {cert_path}: {e}\")"
   ]
  },
  {
   "cell_type": "code",
   "execution_count": 29,
   "id": "1a13e44a8833a77a",
   "metadata": {
    "ExecuteTime": {
     "end_time": "2025-08-09T22:04:07.777598Z",
     "start_time": "2025-08-09T22:03:58.722166Z"
    }
   },
   "outputs": [
    {
     "name": "stdout",
     "output_type": "stream",
     "text": [
      "✅ Loaded total matched rows: 4,178,789\n"
     ]
    },
    {
     "data": {
      "text/html": [
       "<div>\n",
       "<style scoped>\n",
       "    .dataframe tbody tr th:only-of-type {\n",
       "        vertical-align: middle;\n",
       "    }\n",
       "\n",
       "    .dataframe tbody tr th {\n",
       "        vertical-align: top;\n",
       "    }\n",
       "\n",
       "    .dataframe thead th {\n",
       "        text-align: right;\n",
       "    }\n",
       "</style>\n",
       "<table border=\"1\" class=\"dataframe\">\n",
       "  <thead>\n",
       "    <tr style=\"text-align: right;\">\n",
       "      <th></th>\n",
       "      <th>LMK_KEY</th>\n",
       "      <th>ADDRESS1</th>\n",
       "      <th>ADDRESS2</th>\n",
       "      <th>ADDRESS3</th>\n",
       "      <th>POSTCODE</th>\n",
       "      <th>BUILDING_REFERENCE_NUMBER</th>\n",
       "      <th>CURRENT_ENERGY_RATING</th>\n",
       "      <th>POTENTIAL_ENERGY_RATING</th>\n",
       "      <th>CURRENT_ENERGY_EFFICIENCY</th>\n",
       "      <th>POTENTIAL_ENERGY_EFFICIENCY</th>\n",
       "      <th>...</th>\n",
       "      <th>CONSTRUCTION_AGE_BAND</th>\n",
       "      <th>LODGEMENT_DATETIME</th>\n",
       "      <th>TENURE</th>\n",
       "      <th>FIXED_LIGHTING_OUTLETS_COUNT</th>\n",
       "      <th>LOW_ENERGY_FIXED_LIGHT_COUNT</th>\n",
       "      <th>UPRN</th>\n",
       "      <th>UPRN_SOURCE</th>\n",
       "      <th>REPORT_TYPE</th>\n",
       "      <th>postcode_clean</th>\n",
       "      <th>match_key</th>\n",
       "    </tr>\n",
       "  </thead>\n",
       "  <tbody>\n",
       "    <tr>\n",
       "      <th>0</th>\n",
       "      <td>1451865729102016060917325243560118</td>\n",
       "      <td>54, Chatham Road</td>\n",
       "      <td>None</td>\n",
       "      <td>None</td>\n",
       "      <td>TS24 8QQ</td>\n",
       "      <td>134825478</td>\n",
       "      <td>D</td>\n",
       "      <td>B</td>\n",
       "      <td>61</td>\n",
       "      <td>85</td>\n",
       "      <td>...</td>\n",
       "      <td>England and Wales: 1930-1949</td>\n",
       "      <td>2016-06-09 17:32:52</td>\n",
       "      <td>owner-occupied</td>\n",
       "      <td>NaN</td>\n",
       "      <td>NaN</td>\n",
       "      <td>1.001100e+11</td>\n",
       "      <td>Address Matched</td>\n",
       "      <td>100</td>\n",
       "      <td>TS248QQ</td>\n",
       "      <td>54 CHATHAM ROAD TS248QQ</td>\n",
       "    </tr>\n",
       "    <tr>\n",
       "      <th>1</th>\n",
       "      <td>978835396212019052007505697910817</td>\n",
       "      <td>19, Wainwright Walk</td>\n",
       "      <td>None</td>\n",
       "      <td>None</td>\n",
       "      <td>TS25 1XA</td>\n",
       "      <td>8777671178</td>\n",
       "      <td>D</td>\n",
       "      <td>C</td>\n",
       "      <td>65</td>\n",
       "      <td>79</td>\n",
       "      <td>...</td>\n",
       "      <td>England and Wales: 1967-1975</td>\n",
       "      <td>2019-05-20 07:50:56</td>\n",
       "      <td>owner-occupied</td>\n",
       "      <td>NaN</td>\n",
       "      <td>NaN</td>\n",
       "      <td>1.001100e+11</td>\n",
       "      <td>Address Matched</td>\n",
       "      <td>100</td>\n",
       "      <td>TS251XA</td>\n",
       "      <td>19 WAINWRIGHT WALK TS251XA</td>\n",
       "    </tr>\n",
       "    <tr>\n",
       "      <th>2</th>\n",
       "      <td>1341712688132019081910310554978408</td>\n",
       "      <td>116, Milton Road</td>\n",
       "      <td>None</td>\n",
       "      <td>None</td>\n",
       "      <td>TS26 8DX</td>\n",
       "      <td>8864447378</td>\n",
       "      <td>D</td>\n",
       "      <td>C</td>\n",
       "      <td>56</td>\n",
       "      <td>77</td>\n",
       "      <td>...</td>\n",
       "      <td>England and Wales: 1900-1929</td>\n",
       "      <td>2019-08-19 10:31:05</td>\n",
       "      <td>rental (private)</td>\n",
       "      <td>NaN</td>\n",
       "      <td>NaN</td>\n",
       "      <td>1.001100e+11</td>\n",
       "      <td>Address Matched</td>\n",
       "      <td>100</td>\n",
       "      <td>TS268DX</td>\n",
       "      <td>116 MILTON ROAD TS268DX</td>\n",
       "    </tr>\n",
       "    <tr>\n",
       "      <th>3</th>\n",
       "      <td>1186183659802014081111373821640768</td>\n",
       "      <td>18, Brafferton Street</td>\n",
       "      <td>None</td>\n",
       "      <td>None</td>\n",
       "      <td>TS26 8LH</td>\n",
       "      <td>4895056278</td>\n",
       "      <td>D</td>\n",
       "      <td>B</td>\n",
       "      <td>57</td>\n",
       "      <td>90</td>\n",
       "      <td>...</td>\n",
       "      <td>England and Wales: 1900-1929</td>\n",
       "      <td>2014-08-11 11:37:38</td>\n",
       "      <td>rental (private)</td>\n",
       "      <td>7.0</td>\n",
       "      <td>0.0</td>\n",
       "      <td>1.001100e+11</td>\n",
       "      <td>Address Matched</td>\n",
       "      <td>100</td>\n",
       "      <td>TS268LH</td>\n",
       "      <td>18 BRAFFERTON STREET TS268LH</td>\n",
       "    </tr>\n",
       "    <tr>\n",
       "      <th>4</th>\n",
       "      <td>1566486539802017081008512757330418</td>\n",
       "      <td>132, Kesteven Road</td>\n",
       "      <td>None</td>\n",
       "      <td>None</td>\n",
       "      <td>TS25 2NJ</td>\n",
       "      <td>862833578</td>\n",
       "      <td>C</td>\n",
       "      <td>B</td>\n",
       "      <td>70</td>\n",
       "      <td>85</td>\n",
       "      <td>...</td>\n",
       "      <td>England and Wales: 1967-1975</td>\n",
       "      <td>2017-08-10 08:51:27</td>\n",
       "      <td>owner-occupied</td>\n",
       "      <td>NaN</td>\n",
       "      <td>NaN</td>\n",
       "      <td>1.001100e+11</td>\n",
       "      <td>Address Matched</td>\n",
       "      <td>100</td>\n",
       "      <td>TS252NJ</td>\n",
       "      <td>132 KESTEVEN ROAD TS252NJ</td>\n",
       "    </tr>\n",
       "  </tbody>\n",
       "</table>\n",
       "<p>5 rows × 95 columns</p>\n",
       "</div>"
      ],
      "text/plain": [
       "                              LMK_KEY               ADDRESS1 ADDRESS2  \\\n",
       "0  1451865729102016060917325243560118       54, Chatham Road     None   \n",
       "1   978835396212019052007505697910817    19, Wainwright Walk     None   \n",
       "2  1341712688132019081910310554978408       116, Milton Road     None   \n",
       "3  1186183659802014081111373821640768  18, Brafferton Street     None   \n",
       "4  1566486539802017081008512757330418     132, Kesteven Road     None   \n",
       "\n",
       "  ADDRESS3  POSTCODE  BUILDING_REFERENCE_NUMBER CURRENT_ENERGY_RATING  \\\n",
       "0     None  TS24 8QQ                  134825478                     D   \n",
       "1     None  TS25 1XA                 8777671178                     D   \n",
       "2     None  TS26 8DX                 8864447378                     D   \n",
       "3     None  TS26 8LH                 4895056278                     D   \n",
       "4     None  TS25 2NJ                  862833578                     C   \n",
       "\n",
       "  POTENTIAL_ENERGY_RATING  CURRENT_ENERGY_EFFICIENCY  \\\n",
       "0                       B                         61   \n",
       "1                       C                         65   \n",
       "2                       C                         56   \n",
       "3                       B                         57   \n",
       "4                       B                         70   \n",
       "\n",
       "   POTENTIAL_ENERGY_EFFICIENCY  ...         CONSTRUCTION_AGE_BAND  \\\n",
       "0                           85  ...  England and Wales: 1930-1949   \n",
       "1                           79  ...  England and Wales: 1967-1975   \n",
       "2                           77  ...  England and Wales: 1900-1929   \n",
       "3                           90  ...  England and Wales: 1900-1929   \n",
       "4                           85  ...  England and Wales: 1967-1975   \n",
       "\n",
       "    LODGEMENT_DATETIME            TENURE FIXED_LIGHTING_OUTLETS_COUNT  \\\n",
       "0  2016-06-09 17:32:52    owner-occupied                          NaN   \n",
       "1  2019-05-20 07:50:56    owner-occupied                          NaN   \n",
       "2  2019-08-19 10:31:05  rental (private)                          NaN   \n",
       "3  2014-08-11 11:37:38  rental (private)                          7.0   \n",
       "4  2017-08-10 08:51:27    owner-occupied                          NaN   \n",
       "\n",
       "  LOW_ENERGY_FIXED_LIGHT_COUNT          UPRN      UPRN_SOURCE REPORT_TYPE  \\\n",
       "0                          NaN  1.001100e+11  Address Matched         100   \n",
       "1                          NaN  1.001100e+11  Address Matched         100   \n",
       "2                          NaN  1.001100e+11  Address Matched         100   \n",
       "3                          0.0  1.001100e+11  Address Matched         100   \n",
       "4                          NaN  1.001100e+11  Address Matched         100   \n",
       "\n",
       "   postcode_clean                     match_key  \n",
       "0         TS248QQ       54 CHATHAM ROAD TS248QQ  \n",
       "1         TS251XA    19 WAINWRIGHT WALK TS251XA  \n",
       "2         TS268DX       116 MILTON ROAD TS268DX  \n",
       "3         TS268LH  18 BRAFFERTON STREET TS268LH  \n",
       "4         TS252NJ     132 KESTEVEN ROAD TS252NJ  \n",
       "\n",
       "[5 rows x 95 columns]"
      ]
     },
     "metadata": {},
     "output_type": "display_data"
    }
   ],
   "source": [
    "import os\n",
    "import pandas as pd\n",
    "\n",
    "matched_dir = 'matched_epc_rows'\n",
    "\n",
    "parquet_files = [\n",
    "    os.path.join(matched_dir, f)\n",
    "    for f in os.listdir(matched_dir)\n",
    "    if f.endswith('.parquet')\n",
    "]\n",
    "\n",
    "matched_dfs = [pd.read_parquet(f) for f in parquet_files]\n",
    "\n",
    "if matched_dfs:\n",
    "    total_matched = pd.concat(matched_dfs, ignore_index=True)\n",
    "    print(f\"✅ Loaded total matched rows: {len(total_matched):,}\")\n",
    "    display(total_matched.head())\n",
    "else:\n",
    "    print(\"⚠ No parquet files found in matched_epc_rows.\")"
   ]
  },
  {
   "cell_type": "code",
   "execution_count": 31,
   "id": "8e839f9e-241d-4f84-8220-3a9ec2c78631",
   "metadata": {},
   "outputs": [
    {
     "data": {
      "text/plain": [
       "(1772, 95)"
      ]
     },
     "execution_count": 31,
     "metadata": {},
     "output_type": "execute_result"
    }
   ],
   "source": [
    "dfmax = total_matched[total_matched['CURRENT_ENERGY_EFFICIENCY'] > 100]\n",
    "dfmax.shape"
   ]
  },
  {
   "cell_type": "code",
   "execution_count": 40,
   "id": "442a22bc-9a58-4182-9335-a4341f98208e",
   "metadata": {},
   "outputs": [
    {
     "data": {
      "text/html": [
       "<div>\n",
       "<style scoped>\n",
       "    .dataframe tbody tr th:only-of-type {\n",
       "        vertical-align: middle;\n",
       "    }\n",
       "\n",
       "    .dataframe tbody tr th {\n",
       "        vertical-align: top;\n",
       "    }\n",
       "\n",
       "    .dataframe thead th {\n",
       "        text-align: right;\n",
       "    }\n",
       "</style>\n",
       "<table border=\"1\" class=\"dataframe\">\n",
       "  <thead>\n",
       "    <tr style=\"text-align: right;\">\n",
       "      <th></th>\n",
       "      <th>LMK_KEY</th>\n",
       "      <th>ADDRESS1</th>\n",
       "      <th>ADDRESS2</th>\n",
       "      <th>ADDRESS3</th>\n",
       "      <th>POSTCODE</th>\n",
       "      <th>BUILDING_REFERENCE_NUMBER</th>\n",
       "      <th>CURRENT_ENERGY_RATING</th>\n",
       "      <th>POTENTIAL_ENERGY_RATING</th>\n",
       "      <th>CURRENT_ENERGY_EFFICIENCY</th>\n",
       "      <th>POTENTIAL_ENERGY_EFFICIENCY</th>\n",
       "      <th>...</th>\n",
       "      <th>CONSTRUCTION_AGE_BAND</th>\n",
       "      <th>LODGEMENT_DATETIME</th>\n",
       "      <th>TENURE</th>\n",
       "      <th>FIXED_LIGHTING_OUTLETS_COUNT</th>\n",
       "      <th>LOW_ENERGY_FIXED_LIGHT_COUNT</th>\n",
       "      <th>UPRN</th>\n",
       "      <th>UPRN_SOURCE</th>\n",
       "      <th>REPORT_TYPE</th>\n",
       "      <th>postcode_clean</th>\n",
       "      <th>match_key</th>\n",
       "    </tr>\n",
       "  </thead>\n",
       "  <tbody>\n",
       "    <tr>\n",
       "      <th>2727841</th>\n",
       "      <td>801830106732013090919575667268109</td>\n",
       "      <td>69, Monton Street</td>\n",
       "      <td>None</td>\n",
       "      <td>None</td>\n",
       "      <td>M14 4LS</td>\n",
       "      <td>967139968</td>\n",
       "      <td>A</td>\n",
       "      <td>A</td>\n",
       "      <td>143</td>\n",
       "      <td>144</td>\n",
       "      <td>...</td>\n",
       "      <td>England and Wales: 2007 onwards</td>\n",
       "      <td>2013-09-09 19:57:56</td>\n",
       "      <td>rental (private)</td>\n",
       "      <td>2.0</td>\n",
       "      <td>2.0</td>\n",
       "      <td>7.711577e+07</td>\n",
       "      <td>Address Matched</td>\n",
       "      <td>100</td>\n",
       "      <td>M144LS</td>\n",
       "      <td>69 MONTON STREET M144LS</td>\n",
       "    </tr>\n",
       "    <tr>\n",
       "      <th>1099044</th>\n",
       "      <td>130401e5aa8581948660c7249f577d77ffdb27a14e5694...</td>\n",
       "      <td>Hatchlands</td>\n",
       "      <td>Rectory Lane</td>\n",
       "      <td>Charlton Musgrove</td>\n",
       "      <td>BA9 8ET</td>\n",
       "      <td>5066324278</td>\n",
       "      <td>A</td>\n",
       "      <td>A</td>\n",
       "      <td>144</td>\n",
       "      <td>158</td>\n",
       "      <td>...</td>\n",
       "      <td>England and Wales: 1967-1975</td>\n",
       "      <td>2024-05-17 06:00:58</td>\n",
       "      <td>Owner-occupied</td>\n",
       "      <td>30.0</td>\n",
       "      <td>NaN</td>\n",
       "      <td>3.000074e+07</td>\n",
       "      <td>Energy Assessor</td>\n",
       "      <td>100</td>\n",
       "      <td>BA98ET</td>\n",
       "      <td>HATCHLANDS RECTORY LANE BA98ET</td>\n",
       "    </tr>\n",
       "    <tr>\n",
       "      <th>2002614</th>\n",
       "      <td>1134005089702019013119395721210628</td>\n",
       "      <td>The Island</td>\n",
       "      <td>Yarmouth Road</td>\n",
       "      <td>None</td>\n",
       "      <td>NR7 0HE</td>\n",
       "      <td>3752382278</td>\n",
       "      <td>A</td>\n",
       "      <td>A</td>\n",
       "      <td>157</td>\n",
       "      <td>170</td>\n",
       "      <td>...</td>\n",
       "      <td>England and Wales: 1950-1966</td>\n",
       "      <td>2019-01-31 19:39:57</td>\n",
       "      <td>owner-occupied</td>\n",
       "      <td>NaN</td>\n",
       "      <td>NaN</td>\n",
       "      <td>2.000043e+11</td>\n",
       "      <td>Address Matched</td>\n",
       "      <td>100</td>\n",
       "      <td>NR70HE</td>\n",
       "      <td>THE ISLAND YARMOUTH ROAD NR70HE</td>\n",
       "    </tr>\n",
       "    <tr>\n",
       "      <th>1463833</th>\n",
       "      <td>688824189222013102413461480348167</td>\n",
       "      <td>14, Gainsborough Close</td>\n",
       "      <td>None</td>\n",
       "      <td>None</td>\n",
       "      <td>CO16 8DW</td>\n",
       "      <td>6812880968</td>\n",
       "      <td>A</td>\n",
       "      <td>A</td>\n",
       "      <td>161</td>\n",
       "      <td>166</td>\n",
       "      <td>...</td>\n",
       "      <td>England and Wales: 1983-1990</td>\n",
       "      <td>2013-10-24 13:46:14</td>\n",
       "      <td>owner-occupied</td>\n",
       "      <td>25.0</td>\n",
       "      <td>20.0</td>\n",
       "      <td>1.000906e+11</td>\n",
       "      <td>Address Matched</td>\n",
       "      <td>100</td>\n",
       "      <td>CO168DW</td>\n",
       "      <td>14 GAINSBOROUGH CLOSE CO168DW</td>\n",
       "    </tr>\n",
       "    <tr>\n",
       "      <th>1349245</th>\n",
       "      <td>910920099502013041714444003679368</td>\n",
       "      <td>High Cross Hall</td>\n",
       "      <td>Station Road</td>\n",
       "      <td>Rotherfield</td>\n",
       "      <td>TN6 3HR</td>\n",
       "      <td>9554896078</td>\n",
       "      <td>A</td>\n",
       "      <td>A</td>\n",
       "      <td>165</td>\n",
       "      <td>165</td>\n",
       "      <td>...</td>\n",
       "      <td>NO DATA!</td>\n",
       "      <td>2013-04-17 14:44:40</td>\n",
       "      <td>NO DATA!</td>\n",
       "      <td>52.0</td>\n",
       "      <td>52.0</td>\n",
       "      <td>1.002438e+10</td>\n",
       "      <td>Address Matched</td>\n",
       "      <td>101</td>\n",
       "      <td>TN63HR</td>\n",
       "      <td>HIGH CROSS HALL STATION ROAD TN63HR</td>\n",
       "    </tr>\n",
       "  </tbody>\n",
       "</table>\n",
       "<p>5 rows × 95 columns</p>\n",
       "</div>"
      ],
      "text/plain": [
       "                                                   LMK_KEY  \\\n",
       "2727841                  801830106732013090919575667268109   \n",
       "1099044  130401e5aa8581948660c7249f577d77ffdb27a14e5694...   \n",
       "2002614                 1134005089702019013119395721210628   \n",
       "1463833                  688824189222013102413461480348167   \n",
       "1349245                  910920099502013041714444003679368   \n",
       "\n",
       "                       ADDRESS1       ADDRESS2           ADDRESS3  POSTCODE  \\\n",
       "2727841       69, Monton Street           None               None   M14 4LS   \n",
       "1099044              Hatchlands   Rectory Lane  Charlton Musgrove   BA9 8ET   \n",
       "2002614              The Island  Yarmouth Road               None   NR7 0HE   \n",
       "1463833  14, Gainsborough Close           None               None  CO16 8DW   \n",
       "1349245         High Cross Hall   Station Road        Rotherfield   TN6 3HR   \n",
       "\n",
       "         BUILDING_REFERENCE_NUMBER CURRENT_ENERGY_RATING  \\\n",
       "2727841                  967139968                     A   \n",
       "1099044                 5066324278                     A   \n",
       "2002614                 3752382278                     A   \n",
       "1463833                 6812880968                     A   \n",
       "1349245                 9554896078                     A   \n",
       "\n",
       "        POTENTIAL_ENERGY_RATING  CURRENT_ENERGY_EFFICIENCY  \\\n",
       "2727841                       A                        143   \n",
       "1099044                       A                        144   \n",
       "2002614                       A                        157   \n",
       "1463833                       A                        161   \n",
       "1349245                       A                        165   \n",
       "\n",
       "         POTENTIAL_ENERGY_EFFICIENCY  ...            CONSTRUCTION_AGE_BAND  \\\n",
       "2727841                          144  ...  England and Wales: 2007 onwards   \n",
       "1099044                          158  ...     England and Wales: 1967-1975   \n",
       "2002614                          170  ...     England and Wales: 1950-1966   \n",
       "1463833                          166  ...     England and Wales: 1983-1990   \n",
       "1349245                          165  ...                         NO DATA!   \n",
       "\n",
       "          LODGEMENT_DATETIME            TENURE FIXED_LIGHTING_OUTLETS_COUNT  \\\n",
       "2727841  2013-09-09 19:57:56  rental (private)                          2.0   \n",
       "1099044  2024-05-17 06:00:58    Owner-occupied                         30.0   \n",
       "2002614  2019-01-31 19:39:57    owner-occupied                          NaN   \n",
       "1463833  2013-10-24 13:46:14    owner-occupied                         25.0   \n",
       "1349245  2013-04-17 14:44:40          NO DATA!                         52.0   \n",
       "\n",
       "        LOW_ENERGY_FIXED_LIGHT_COUNT          UPRN      UPRN_SOURCE  \\\n",
       "2727841                          2.0  7.711577e+07  Address Matched   \n",
       "1099044                          NaN  3.000074e+07  Energy Assessor   \n",
       "2002614                          NaN  2.000043e+11  Address Matched   \n",
       "1463833                         20.0  1.000906e+11  Address Matched   \n",
       "1349245                         52.0  1.002438e+10  Address Matched   \n",
       "\n",
       "        REPORT_TYPE  postcode_clean                            match_key  \n",
       "2727841         100          M144LS              69 MONTON STREET M144LS  \n",
       "1099044         100          BA98ET       HATCHLANDS RECTORY LANE BA98ET  \n",
       "2002614         100          NR70HE      THE ISLAND YARMOUTH ROAD NR70HE  \n",
       "1463833         100         CO168DW        14 GAINSBOROUGH CLOSE CO168DW  \n",
       "1349245         101          TN63HR  HIGH CROSS HALL STATION ROAD TN63HR  \n",
       "\n",
       "[5 rows x 95 columns]"
      ]
     },
     "execution_count": 40,
     "metadata": {},
     "output_type": "execute_result"
    }
   ],
   "source": [
    "dfmax = dfmax.sort_values('CURRENT_ENERGY_EFFICIENCY')\n",
    "dfmax.tail()"
   ]
  },
  {
   "cell_type": "code",
   "execution_count": 45,
   "id": "548d6dfe-1aeb-47e7-9741-efd14fca6ed9",
   "metadata": {},
   "outputs": [
    {
     "data": {
      "text/plain": [
       "(4178789, 95)"
      ]
     },
     "execution_count": 45,
     "metadata": {},
     "output_type": "execute_result"
    }
   ],
   "source": [
    "unique_vals = total_matched['BUILDING_REFERENCE_NUMBER'].unique()\n",
    "Unique_df = total_matched[total_matched['BUILDING_REFERENCE_NUMBER'].isin(unique_vals)]\n",
    "Unique_df.shape"
   ]
  },
  {
   "cell_type": "code",
   "execution_count": 46,
   "id": "2d578e366e399179",
   "metadata": {
    "ExecuteTime": {
     "end_time": "2025-08-06T20:51:35.187741Z",
     "start_time": "2025-08-06T20:51:35.160804Z"
    }
   },
   "outputs": [
    {
     "data": {
      "text/plain": [
       "Index(['Transfer Date', 'Postcode', 'primary_addressable_object_name',\n",
       "       'secondary_addressable_object_name', 'street', 'Town/City', 'District',\n",
       "       'County', 'Price (Thousands)', 'Freehold Tenure', 'Leasehold Tenure',\n",
       "       'Old Build', 'New Build', 'Detached', 'Flat', 'Other Property Type',\n",
       "       'Semi-detached', 'Terraced', 'Year', 'Month', 'Quarter',\n",
       "       'Day of the Week', 'Postcode Area', 'Postcode District',\n",
       "       'Area Code Average Price (Thousands)',\n",
       "       'Town/City Average Price (Thousands)',\n",
       "       'District Average Price (Thousands)',\n",
       "       'County Average Price (Thousands)', 'LAT', 'LONG', 'OSEAST1M',\n",
       "       'OSNRTH1M', 'postcode_clean', 'match_key'],\n",
       "      dtype='object')"
      ]
     },
     "execution_count": 46,
     "metadata": {},
     "output_type": "execute_result"
    }
   ],
   "source": [
    "df.columns"
   ]
  },
  {
   "cell_type": "code",
   "execution_count": 47,
   "id": "55e8279b73e1e1f1",
   "metadata": {
    "ExecuteTime": {
     "end_time": "2025-08-07T20:47:08.431059Z",
     "start_time": "2025-08-07T20:47:07.627197Z"
    }
   },
   "outputs": [
    {
     "data": {
      "text/plain": [
       "Index(['Transfer Date', 'Postcode', 'County', 'Price (Thousands)',\n",
       "       'Freehold Tenure', 'Leasehold Tenure', 'Old Build', 'New Build',\n",
       "       'Detached', 'Flat', 'Other Property Type', 'Semi-detached', 'Terraced',\n",
       "       'Year', 'Month', 'Quarter', 'Day of the Week', 'Postcode Area',\n",
       "       'Postcode District', 'Area Code Average Price (Thousands)',\n",
       "       'Town/City Average Price (Thousands)',\n",
       "       'District Average Price (Thousands)',\n",
       "       'County Average Price (Thousands)', 'LAT', 'LONG', 'OSEAST1M',\n",
       "       'OSNRTH1M', 'postcode_clean', 'match_key'],\n",
       "      dtype='object')"
      ]
     },
     "execution_count": 47,
     "metadata": {},
     "output_type": "execute_result"
    }
   ],
   "source": [
    "trim_price = df.drop(columns=['primary_addressable_object_name', 'secondary_addressable_object_name', 'street', 'District', 'Town/City'], axis=1)\n",
    "trim_price.columns"
   ]
  },
  {
   "cell_type": "code",
   "execution_count": 48,
   "id": "3e205db183589e40",
   "metadata": {
    "ExecuteTime": {
     "end_time": "2025-08-06T20:57:36.641762Z",
     "start_time": "2025-08-06T20:57:36.626887Z"
    }
   },
   "outputs": [
    {
     "data": {
      "text/plain": [
       "Index(['LMK_KEY', 'ADDRESS1', 'ADDRESS2', 'ADDRESS3', 'POSTCODE',\n",
       "       'BUILDING_REFERENCE_NUMBER', 'CURRENT_ENERGY_RATING',\n",
       "       'POTENTIAL_ENERGY_RATING', 'CURRENT_ENERGY_EFFICIENCY',\n",
       "       'POTENTIAL_ENERGY_EFFICIENCY', 'PROPERTY_TYPE', 'BUILT_FORM',\n",
       "       'INSPECTION_DATE', 'LOCAL_AUTHORITY', 'CONSTITUENCY', 'COUNTY',\n",
       "       'LODGEMENT_DATE', 'TRANSACTION_TYPE', 'ENVIRONMENT_IMPACT_CURRENT',\n",
       "       'ENVIRONMENT_IMPACT_POTENTIAL', 'ENERGY_CONSUMPTION_CURRENT',\n",
       "       'ENERGY_CONSUMPTION_POTENTIAL', 'CO2_EMISSIONS_CURRENT',\n",
       "       'CO2_EMISS_CURR_PER_FLOOR_AREA', 'CO2_EMISSIONS_POTENTIAL',\n",
       "       'LIGHTING_COST_CURRENT', 'LIGHTING_COST_POTENTIAL',\n",
       "       'HEATING_COST_CURRENT', 'HEATING_COST_POTENTIAL',\n",
       "       'HOT_WATER_COST_CURRENT', 'HOT_WATER_COST_POTENTIAL',\n",
       "       'TOTAL_FLOOR_AREA', 'ENERGY_TARIFF', 'MAINS_GAS_FLAG', 'FLOOR_LEVEL',\n",
       "       'FLAT_TOP_STOREY', 'FLAT_STOREY_COUNT', 'MAIN_HEATING_CONTROLS',\n",
       "       'MULTI_GLAZE_PROPORTION', 'GLAZED_TYPE', 'GLAZED_AREA',\n",
       "       'EXTENSION_COUNT', 'NUMBER_HABITABLE_ROOMS', 'NUMBER_HEATED_ROOMS',\n",
       "       'LOW_ENERGY_LIGHTING', 'NUMBER_OPEN_FIREPLACES', 'HOTWATER_DESCRIPTION',\n",
       "       'HOT_WATER_ENERGY_EFF', 'HOT_WATER_ENV_EFF', 'FLOOR_DESCRIPTION',\n",
       "       'FLOOR_ENERGY_EFF', 'FLOOR_ENV_EFF', 'WINDOWS_DESCRIPTION',\n",
       "       'WINDOWS_ENERGY_EFF', 'WINDOWS_ENV_EFF', 'WALLS_DESCRIPTION',\n",
       "       'WALLS_ENERGY_EFF', 'WALLS_ENV_EFF', 'SECONDHEAT_DESCRIPTION',\n",
       "       'SHEATING_ENERGY_EFF', 'SHEATING_ENV_EFF', 'ROOF_DESCRIPTION',\n",
       "       'ROOF_ENERGY_EFF', 'ROOF_ENV_EFF', 'MAINHEAT_DESCRIPTION',\n",
       "       'MAINHEAT_ENERGY_EFF', 'MAINHEAT_ENV_EFF', 'MAINHEATCONT_DESCRIPTION',\n",
       "       'MAINHEATC_ENERGY_EFF', 'MAINHEATC_ENV_EFF', 'LIGHTING_DESCRIPTION',\n",
       "       'LIGHTING_ENERGY_EFF', 'LIGHTING_ENV_EFF', 'MAIN_FUEL',\n",
       "       'WIND_TURBINE_COUNT', 'HEAT_LOSS_CORRIDOR', 'UNHEATED_CORRIDOR_LENGTH',\n",
       "       'FLOOR_HEIGHT', 'PHOTO_SUPPLY', 'SOLAR_WATER_HEATING_FLAG',\n",
       "       'MECHANICAL_VENTILATION', 'ADDRESS', 'LOCAL_AUTHORITY_LABEL',\n",
       "       'CONSTITUENCY_LABEL', 'POSTTOWN', 'CONSTRUCTION_AGE_BAND',\n",
       "       'LODGEMENT_DATETIME', 'TENURE', 'FIXED_LIGHTING_OUTLETS_COUNT',\n",
       "       'LOW_ENERGY_FIXED_LIGHT_COUNT', 'UPRN', 'UPRN_SOURCE', 'REPORT_TYPE',\n",
       "       'postcode_clean', 'match_key'],\n",
       "      dtype='object')"
      ]
     },
     "execution_count": 48,
     "metadata": {},
     "output_type": "execute_result"
    }
   ],
   "source": [
    " total_matched.columns"
   ]
  },
  {
   "cell_type": "code",
   "execution_count": 49,
   "id": "54cbb0eaf375cbd7",
   "metadata": {
    "ExecuteTime": {
     "end_time": "2025-08-06T20:48:41.783867Z",
     "start_time": "2025-08-06T20:48:40.102848Z"
    }
   },
   "outputs": [],
   "source": [
    "matched_trimmed = total_matched.drop(\n",
    "    columns=[\n",
    "        'LMK_KEY', 'ADDRESS3', 'BUILDING_REFERENCE_NUMBER', 'INSPECTION_DATE',\n",
    "        'LOCAL_AUTHORITY', 'CONSTITUENCY', 'COUNTY', 'LODGEMENT_DATE',\n",
    "        'TRANSACTION_TYPE', 'ENVIRONMENT_IMPACT_CURRENT', 'ENVIRONMENT_IMPACT_POTENTIAL',\n",
    "        'ENERGY_CONSUMPTION_CURRENT', 'ENERGY_CONSUMPTION_POTENTIAL',\n",
    "        'CO2_EMISSIONS_CURRENT', 'CO2_EMISS_CURR_PER_FLOOR_AREA',\n",
    "        'CO2_EMISSIONS_POTENTIAL', 'LIGHTING_COST_CURRENT', 'LIGHTING_COST_POTENTIAL',\n",
    "        'HEATING_COST_CURRENT', 'HEATING_COST_POTENTIAL', 'HOT_WATER_COST_CURRENT',\n",
    "        'HOT_WATER_COST_POTENTIAL', 'ENERGY_TARIFF', 'FLOOR_DESCRIPTION',\n",
    "        'WINDOWS_DESCRIPTION', 'WALLS_DESCRIPTION', 'SECONDHEAT_DESCRIPTION',\n",
    "        'ROOF_DESCRIPTION', 'MAINHEAT_DESCRIPTION', 'MAINHEATCONT_DESCRIPTION',\n",
    "        'LIGHTING_DESCRIPTION', 'HEAT_LOSS_CORRIDOR', 'UNHEATED_CORRIDOR_LENGTH',\n",
    "        'PHOTO_SUPPLY', 'MECHANICAL_VENTILATION', 'ADDRESS', 'LOCAL_AUTHORITY_LABEL',\n",
    "        'CONSTITUENCY_LABEL', 'POSTTOWN', 'LODGEMENT_DATETIME', 'TENURE',\n",
    "        'FIXED_LIGHTING_OUTLETS_COUNT', 'LOW_ENERGY_FIXED_LIGHT_COUNT',\n",
    "        'UPRN', 'UPRN_SOURCE', 'REPORT_TYPE', 'postcode_clean'\n",
    "    ]\n",
    ")"
   ]
  },
  {
   "cell_type": "code",
   "execution_count": 50,
   "id": "9e5febaf8982c4f2",
   "metadata": {
    "ExecuteTime": {
     "end_time": "2025-08-06T20:59:44.110689Z",
     "start_time": "2025-08-06T20:59:08.314279Z"
    }
   },
   "outputs": [],
   "source": [
    "merge_df = matched_trimmed.merge(trim_price, how='left', on=['match_key'])"
   ]
  },
  {
   "cell_type": "code",
   "execution_count": 51,
   "id": "ea3c9ba39f7ef0cc",
   "metadata": {
    "ExecuteTime": {
     "end_time": "2025-08-06T21:00:22.728432Z",
     "start_time": "2025-08-06T21:00:22.708226Z"
    }
   },
   "outputs": [
    {
     "data": {
      "text/plain": [
       "(4824809, 76)"
      ]
     },
     "execution_count": 51,
     "metadata": {},
     "output_type": "execute_result"
    }
   ],
   "source": [
    "merge_df.shape"
   ]
  },
  {
   "cell_type": "code",
   "execution_count": 52,
   "id": "68a94b71c1859d80",
   "metadata": {
    "ExecuteTime": {
     "end_time": "2025-08-06T21:03:13.306262Z",
     "start_time": "2025-08-06T21:00:28.544966Z"
    }
   },
   "outputs": [],
   "source": [
    "merge_df.to_csv('merge.csv', index=False)"
   ]
  },
  {
   "cell_type": "code",
   "execution_count": 53,
   "id": "d38645b8a2b2c234",
   "metadata": {
    "ExecuteTime": {
     "end_time": "2025-08-06T21:07:39.701042Z",
     "start_time": "2025-08-06T21:07:26.009661Z"
    }
   },
   "outputs": [
    {
     "name": "stdout",
     "output_type": "stream",
     "text": [
      "                     Column    Dtype  Missing  Percent\n",
      "0                  ADDRESS1   object        1      0.0\n",
      "1                  ADDRESS2   object  4506651     92.6\n",
      "2                  POSTCODE   object        0      0.0\n",
      "3     CURRENT_ENERGY_RATING   object        0      0.0\n",
      "4   POTENTIAL_ENERGY_RATING   object        0      0.0\n",
      "..                      ...      ...      ...      ...\n",
      "71                      LAT  float64       21      0.0\n",
      "72                     LONG  float64       21      0.0\n",
      "73                 OSEAST1M  float64       21      0.0\n",
      "74                 OSNRTH1M  float64       21      0.0\n",
      "75           postcode_clean   object        0      0.0\n",
      "\n",
      "[76 rows x 4 columns]\n"
     ]
    }
   ],
   "source": [
    "summary_df = pd.DataFrame({\n",
    "    'Column': merge_df.columns,\n",
    "    'Dtype': merge_df.dtypes.values,\n",
    "    'Missing': merge_df.isna().sum().values,\n",
    "    'Percent': (((merge_df.isna().sum().values)/4864524)*100).round(1)\n",
    "})\n",
    "\n",
    "print(summary_df)"
   ]
  },
  {
   "cell_type": "code",
   "execution_count": 54,
   "id": "8d2991829dcb16e4",
   "metadata": {
    "ExecuteTime": {
     "end_time": "2025-08-06T21:07:43.350427Z",
     "start_time": "2025-08-06T21:07:43.340191Z"
    }
   },
   "outputs": [],
   "source": [
    "summary_df.to_csv('column_summary.csv', index=False)"
   ]
  },
  {
   "cell_type": "code",
   "execution_count": 55,
   "id": "b331aded95e1cf3c",
   "metadata": {
    "ExecuteTime": {
     "end_time": "2025-08-06T20:12:00.901647Z",
     "start_time": "2025-08-06T20:12:00.883775Z"
    }
   },
   "outputs": [],
   "source": [
    "save=merge_df"
   ]
  },
  {
   "cell_type": "code",
   "execution_count": 56,
   "id": "2ec33b3d6e17232b",
   "metadata": {
    "ExecuteTime": {
     "end_time": "2025-08-06T21:15:16.713808Z",
     "start_time": "2025-08-06T21:14:56.320003Z"
    }
   },
   "outputs": [
    {
     "name": "stderr",
     "output_type": "stream",
     "text": [
      "C:\\Users\\lenovo\\AppData\\Local\\Temp\\ipykernel_9976\\3156588321.py:10: FutureWarning: A value is trying to be set on a copy of a DataFrame or Series through chained assignment using an inplace method.\n",
      "The behavior will change in pandas 3.0. This inplace method will never work because the intermediate object on which we are setting values always behaves as a copy.\n",
      "\n",
      "For example, when doing 'df[col].method(value, inplace=True)', try using 'df.method({col: value}, inplace=True)' or df[col] = df[col].method(value) instead, to perform the operation inplace on the original object.\n",
      "\n",
      "\n",
      "  merge_df[col].fillna(mode_series[0], inplace=True)\n",
      "C:\\Users\\lenovo\\AppData\\Local\\Temp\\ipykernel_9976\\3156588321.py:16: FutureWarning: A value is trying to be set on a copy of a DataFrame or Series through chained assignment using an inplace method.\n",
      "The behavior will change in pandas 3.0. This inplace method will never work because the intermediate object on which we are setting values always behaves as a copy.\n",
      "\n",
      "For example, when doing 'df[col].method(value, inplace=True)', try using 'df.method({col: value}, inplace=True)' or df[col] = df[col].method(value) instead, to perform the operation inplace on the original object.\n",
      "\n",
      "\n",
      "  merge_df[col].fillna(merge_df[col].median(), inplace=True)\n",
      "C:\\Users\\lenovo\\AppData\\Local\\Temp\\ipykernel_9976\\3156588321.py:21: FutureWarning: A value is trying to be set on a copy of a DataFrame or Series through chained assignment using an inplace method.\n",
      "The behavior will change in pandas 3.0. This inplace method will never work because the intermediate object on which we are setting values always behaves as a copy.\n",
      "\n",
      "For example, when doing 'df[col].method(value, inplace=True)', try using 'df.method({col: value}, inplace=True)' or df[col] = df[col].method(value) instead, to perform the operation inplace on the original object.\n",
      "\n",
      "\n",
      "  merge_df[col].fillna(0, inplace=True)\n"
     ]
    },
    {
     "name": "stdout",
     "output_type": "stream",
     "text": [
      "Remaining missing values:\n",
      " CONSTRUCTION_AGE_BAND    43125\n",
      "dtype: int64\n"
     ]
    }
   ],
   "source": [
    "drop_cols = ['ADDRESS2', 'FLAT_TOP_STOREY', 'FLAT_STOREY_COUNT','HOT_WATER_ENV_EFF', 'FLOOR_ENERGY_EFF', 'WALLS_ENV_EFF', 'SHEATING_ENERGY_EFF','FLOOR_ENV_EFF','SHEATING_ENV_EFF']\n",
    "merge_df.drop(columns=drop_cols, inplace=True, errors='ignore')\n",
    "\n",
    "mode_impute_cols = ['MAINS_GAS_FLAG', 'MAIN_HEATING_CONTROLS','GLAZED_TYPE', 'LOW_ENERGY_LIGHTING','SOLAR_WATER_HEATING_FLAG', 'MAIN_FUEL', 'GLAZED_AREA', 'ROOF_ENERGY_EFF', 'ROOF_ENV_EFF']\n",
    "\n",
    "for col in mode_impute_cols:\n",
    "    if col in merge_df.columns:\n",
    "        mode_series = merge_df[col].mode(dropna=True)\n",
    "        if not mode_series.empty:\n",
    "            merge_df[col].fillna(mode_series[0], inplace=True)\n",
    "\n",
    "median_impute_cols = ['MULTI_GLAZE_PROPORTION', '', 'EXTENSION_COUNT', 'NUMBER_HABITABLE_ROOMS', 'NUMBER_HEATED_ROOMS', 'FLOOR_HEIGHT']\n",
    "\n",
    "for col in median_impute_cols:\n",
    "    if col in merge_df.columns:\n",
    "        merge_df[col].fillna(merge_df[col].median(), inplace=True)\n",
    "\n",
    "zero_fill_cols = ['EXTENSION_COUNT', 'WIND_TURBINE_COUNT','NUMBER_OPEN_FIREPLACES']\n",
    "for col in zero_fill_cols:\n",
    "    if col in merge_df.columns:\n",
    "        merge_df[col].fillna(0, inplace=True)\n",
    "\n",
    "unknown_bin_cols = ['FLOOR_LEVEL']\n",
    "for col in unknown_bin_cols:\n",
    "    if col in merge_df.columns:\n",
    "        merge_df[col] = merge_df[col].fillna('Unknown')\n",
    "\n",
    "critical_cols = ['BUILT_FORM', 'LAT', 'LONG', 'OSEAST1M', 'OSNRTH1M','LIGHTING_ENV_EFF', 'LIGHTING_ENERGY_EFF', 'MAINHEATC_ENV_EFF','MAINHEATC_ENERGY_EFF', 'MAINHEAT_ENV_EFF', 'MAINHEAT_ENERGY_EFF','WALLS_ENERGY_EFF',  'WINDOWS_ENERGY_EFF','WINDOWS_ENV_EFF', 'HOT_WATER_ENERGY_EFF', 'HOTWATER_DESCRIPTION', 'ADDRESS1']\n",
    "\n",
    "merge_df.dropna(subset=[col for col in critical_cols if col in merge_df.columns], inplace=True)\n",
    "\n",
    "missing_summary = merge_df.isnull().sum()\n",
    "print(\"Remaining missing values:\\n\", missing_summary[missing_summary > 0])"
   ]
  },
  {
   "cell_type": "code",
   "execution_count": 57,
   "id": "6a5413ad94be3f11",
   "metadata": {
    "ExecuteTime": {
     "end_time": "2025-08-06T21:18:04.694391Z",
     "start_time": "2025-08-06T21:18:04.323661Z"
    }
   },
   "outputs": [
    {
     "data": {
      "text/plain": [
       "(4818318, 67)"
      ]
     },
     "execution_count": 57,
     "metadata": {},
     "output_type": "execute_result"
    }
   ],
   "source": [
    "merge_df['CONSTRUCTION_AGE_BAND'] = merge_df['CONSTRUCTION_AGE_BAND'].fillna('Unknown')\n",
    "merge_df.shape"
   ]
  },
  {
   "cell_type": "code",
   "execution_count": 58,
   "id": "7c7878619759b678",
   "metadata": {
    "ExecuteTime": {
     "end_time": "2025-08-06T21:18:57.864563Z",
     "start_time": "2025-08-06T21:18:57.855842Z"
    }
   },
   "outputs": [
    {
     "data": {
      "text/plain": [
       "(4818318, 67)"
      ]
     },
     "execution_count": 58,
     "metadata": {},
     "output_type": "execute_result"
    }
   ],
   "source": [
    "turn_binary = merge_df\n",
    "turn_binary.shape"
   ]
  },
  {
   "cell_type": "code",
   "execution_count": 59,
   "id": "2af8571cda78187",
   "metadata": {
    "ExecuteTime": {
     "end_time": "2025-08-06T21:50:01.887672Z",
     "start_time": "2025-08-06T21:50:01.870699Z"
    }
   },
   "outputs": [],
   "source": [
    "summary_df1 = pd.DataFrame({\n",
    "    'Column': turn_binary.columns,\n",
    "    'Dtype': turn_binary.dtypes.values,\n",
    "    'Example': turn_binary.iloc[0].values\n",
    "\n",
    "})\n",
    "\n",
    "summary_df1.to_csv('dtype_inq.csv', index=False)"
   ]
  },
  {
   "cell_type": "code",
   "execution_count": 60,
   "id": "986df6ac25425468",
   "metadata": {
    "ExecuteTime": {
     "end_time": "2025-08-06T22:32:44.173080Z",
     "start_time": "2025-08-06T22:32:38.045351Z"
    }
   },
   "outputs": [],
   "source": [
    "turn_binary = turn_binary.drop(columns=[\n",
    "    'ADDRESS1','POSTCODE','CURRENT_ENERGY_RATING','POTENTIAL_ENERGY_RATING',\n",
    "    'BUILT_FORM','FLOOR_LEVEL','GLAZED_TYPE','GLAZED_AREA',\n",
    "    'MAIN_FUEL','PROPERTY_TYPE','match_key','County',\n",
    "    'postcode_clean','Postcode District','Postcode Area'\n",
    "])\n",
    "\n",
    "turn_binary['MAINS_GAS_FLAG'] = turn_binary['MAINS_GAS_FLAG'].map({'Y': 1, 'N': 0})\n",
    "turn_binary['SOLAR_WATER_HEATING_FLAG'] = turn_binary['SOLAR_WATER_HEATING_FLAG'].map({'Y': 1, 'N': 0})\n",
    "\n",
    "scale = ['HOT_WATER_ENERGY_EFF', 'WINDOWS_ENERGY_EFF','WINDOWS_ENV_EFF', 'WALLS_ENERGY_EFF', 'ROOF_ENERGY_EFF','ROOF_ENV_EFF', 'MAINHEAT_ENERGY_EFF', 'MAINHEAT_ENV_EFF','MAINHEATC_ENERGY_EFF', 'MAINHEATC_ENV_EFF', 'LIGHTING_ENERGY_EFF','LIGHTING_ENV_EFF']\n",
    "\n",
    "for i in scale:\n",
    "    turn_binary[i] = turn_binary[i].map({'Very Poor': 0, 'Poor': 1, 'Average': 2, 'Good': 3,'Very Good': 4})"
   ]
  },
  {
   "cell_type": "code",
   "execution_count": null,
   "id": "78541d25-4f4e-41cc-b769-b775e682cda2",
   "metadata": {},
   "outputs": [],
   "source": []
  },
  {
   "cell_type": "code",
   "execution_count": 62,
   "id": "4a136740c21d0d69",
   "metadata": {
    "ExecuteTime": {
     "end_time": "2025-08-06T22:14:30.066246Z",
     "start_time": "2025-08-06T22:14:30.033019Z"
    }
   },
   "outputs": [
    {
     "name": "stdout",
     "output_type": "stream",
     "text": [
      "['England and Wales: 1930-1949' 'England and Wales: 1967-1975'\n",
      " 'England and Wales: 1900-1929' 'NO DATA!' 'England and Wales: 1950-1966'\n",
      " 'England and Wales: before 1900' 'England and Wales: 2007 onwards'\n",
      " 'England and Wales: 1983-1990' 'England and Wales: 1976-1982' 'INVALID!'\n",
      " '2019' 'England and Wales: 1996-2002' 'England and Wales: 2003-2006'\n",
      " '2020' 'England and Wales: 1991-1995' 'Unknown' '2021'\n",
      " 'England and Wales: 2007-2011' '2017' '2022'\n",
      " 'England and Wales: 2012 onwards' '2023' '2024' '2016' '2025'\n",
      " 'England and Wales: 2012-2021' '2018' '2014' '2015' '2012' '1950' '1965'\n",
      " 'England and Wales: 2022 onwards' '1783' '1920' '1900' '2008' '2002'\n",
      " '1999' '1800' '2009' '1970' '2010' '1890' '2011' '1889' '2013' '1907'\n",
      " '2007' '2000' '1888' '1960' '1930' '1935' '1850' '1947' '1975' '2031'\n",
      " '1958' '1910' '1881' '1700' '2033' '2006' '1967' '1940' '1954' '1820'\n",
      " '2005' '1915' '1927' '2003' '2042' '1983' '1905' '1870']\n"
     ]
    }
   ],
   "source": [
    "print(turn_binary['CONSTRUCTION_AGE_BAND'].unique())"
   ]
  },
  {
   "cell_type": "code",
   "execution_count": 64,
   "id": "71cd01d30bf9eaaf",
   "metadata": {
    "ExecuteTime": {
     "end_time": "2025-08-06T22:32:51.038983Z",
     "start_time": "2025-08-06T22:32:51.018340Z"
    }
   },
   "outputs": [],
   "source": [
    "import numpy as np\n",
    "\n",
    "def clean_age_band(val):\n",
    "    if pd.isna(val):\n",
    "        return np.nan\n",
    "    val = str(val).strip()\n",
    "\n",
    "    if val.startswith('England and Wales:'):\n",
    "        val = val.replace('England and Wales:', '').strip()\n",
    "\n",
    "    if val.isdigit():\n",
    "        year = int(val)\n",
    "        if year <= 1929:\n",
    "            return '1900-1929'\n",
    "        elif year <= 1949:\n",
    "            return '1930-1949'\n",
    "        elif year <= 1966:\n",
    "            return '1950-1966'\n",
    "        elif year <= 1975:\n",
    "            return '1967-1975'\n",
    "        elif year <= 1982:\n",
    "            return '1976-1982'\n",
    "        elif year <= 1990:\n",
    "            return '1983-1990'\n",
    "        elif year <= 1995:\n",
    "            return '1991-1995'\n",
    "        elif year <= 2002:\n",
    "            return '1996-2002'\n",
    "        elif year <= 2006:\n",
    "            return '2003-2006'\n",
    "        elif year <= 2011:\n",
    "            return '2007-2011'\n",
    "        elif year <= 2021:\n",
    "            return '2012-2021'\n",
    "        else:\n",
    "            return '2022 onwards'\n",
    "\n",
    "    if val in ['NO DATA!', 'INVALID!', 'None']:\n",
    "        return np.nan\n",
    "\n",
    "    return val\n",
    "\n",
    "turn_binary['CONSTRUCTION_AGE_BAND_CLEAN'] = turn_binary['CONSTRUCTION_AGE_BAND'].apply(clean_age_band)\n",
    "\n",
    "age_band_map = {\n",
    "    'before 1900': 0,\n",
    "    '1900-1929': 1,\n",
    "    '1930-1949': 2,\n",
    "    '1950-1966': 3,\n",
    "    '1967-1975': 4,\n",
    "    '1976-1982': 5,\n",
    "    '1983-1990': 6,\n",
    "    '1991-1995': 7,\n",
    "    '1996-2002': 8,\n",
    "    '2003-2006': 9,\n",
    "    '2007-2011': 10,\n",
    "    '2012-2021': 11,\n",
    "    '2022 onwards': 12\n",
    "}\n",
    "\n",
    "turn_binary['CONSTRUCTION_AGE_BAND_ENCODED'] = turn_binary['CONSTRUCTION_AGE_BAND_CLEAN'].map(age_band_map)"
   ]
  },
  {
   "cell_type": "code",
   "execution_count": 65,
   "id": "5bfb8f6b8979fb3",
   "metadata": {
    "ExecuteTime": {
     "end_time": "2025-08-06T22:35:07.311706Z",
     "start_time": "2025-08-06T22:35:07.288136Z"
    }
   },
   "outputs": [
    {
     "data": {
      "text/plain": [
       "CURRENT_ENERGY_EFFICIENCY                int64\n",
       "POTENTIAL_ENERGY_EFFICIENCY              int64\n",
       "TOTAL_FLOOR_AREA                       float64\n",
       "MAINS_GAS_FLAG                           int64\n",
       "MAIN_HEATING_CONTROLS                   object\n",
       "MULTI_GLAZE_PROPORTION                 float64\n",
       "EXTENSION_COUNT                        float64\n",
       "NUMBER_HABITABLE_ROOMS                 float64\n",
       "NUMBER_HEATED_ROOMS                    float64\n",
       "LOW_ENERGY_LIGHTING                    float64\n",
       "NUMBER_OPEN_FIREPLACES                 float64\n",
       "HOTWATER_DESCRIPTION                    object\n",
       "HOT_WATER_ENERGY_EFF                     int64\n",
       "WINDOWS_ENERGY_EFF                       int64\n",
       "WINDOWS_ENV_EFF                          int64\n",
       "WALLS_ENERGY_EFF                         int64\n",
       "ROOF_ENERGY_EFF                          int64\n",
       "ROOF_ENV_EFF                             int64\n",
       "MAINHEAT_ENERGY_EFF                      int64\n",
       "MAINHEAT_ENV_EFF                         int64\n",
       "MAINHEATC_ENERGY_EFF                     int64\n",
       "MAINHEATC_ENV_EFF                        int64\n",
       "LIGHTING_ENERGY_EFF                      int64\n",
       "LIGHTING_ENV_EFF                         int64\n",
       "WIND_TURBINE_COUNT                     float64\n",
       "FLOOR_HEIGHT                           float64\n",
       "SOLAR_WATER_HEATING_FLAG                 int64\n",
       "CONSTRUCTION_AGE_BAND                   object\n",
       "Transfer Date                           object\n",
       "Postcode                                object\n",
       "Price (Thousands)                      float64\n",
       "Freehold Tenure                          int64\n",
       "Leasehold Tenure                         int64\n",
       "Old Build                                int64\n",
       "New Build                                int64\n",
       "Detached                                 int64\n",
       "Flat                                     int64\n",
       "Other Property Type                      int64\n",
       "Semi-detached                            int64\n",
       "Terraced                                 int64\n",
       "Year                                     int64\n",
       "Month                                    int64\n",
       "Quarter                                  int64\n",
       "Day of the Week                          int64\n",
       "Area Code Average Price (Thousands)    float64\n",
       "Town/City Average Price (Thousands)    float64\n",
       "District Average Price (Thousands)     float64\n",
       "County Average Price (Thousands)       float64\n",
       "LAT                                    float64\n",
       "LONG                                   float64\n",
       "OSEAST1M                               float64\n",
       "OSNRTH1M                               float64\n",
       "CONSTRUCTION_AGE_BAND_CLEAN             object\n",
       "CONSTRUCTION_AGE_BAND_ENCODED          float64\n",
       "dtype: object"
      ]
     },
     "execution_count": 65,
     "metadata": {},
     "output_type": "execute_result"
    }
   ],
   "source": [
    "turn_binary.dtypes"
   ]
  },
  {
   "cell_type": "code",
   "execution_count": 66,
   "id": "666761816a165d4b",
   "metadata": {
    "ExecuteTime": {
     "end_time": "2025-08-06T22:35:54.477264Z",
     "start_time": "2025-08-06T22:35:53.232548Z"
    }
   },
   "outputs": [],
   "source": [
    "conv = turn_binary[turn_binary['MAIN_HEATING_CONTROLS'] != '%%MAINHEATCONTROL%%']"
   ]
  },
  {
   "cell_type": "code",
   "execution_count": 67,
   "id": "f459dba4434486f6",
   "metadata": {
    "ExecuteTime": {
     "end_time": "2025-08-06T22:36:41.268220Z",
     "start_time": "2025-08-06T22:36:40.995434Z"
    }
   },
   "outputs": [
    {
     "name": "stderr",
     "output_type": "stream",
     "text": [
      "C:\\Users\\lenovo\\AppData\\Local\\Temp\\ipykernel_9976\\3129212291.py:1: SettingWithCopyWarning: \n",
      "A value is trying to be set on a copy of a slice from a DataFrame.\n",
      "Try using .loc[row_indexer,col_indexer] = value instead\n",
      "\n",
      "See the caveats in the documentation: https://pandas.pydata.org/pandas-docs/stable/user_guide/indexing.html#returning-a-view-versus-a-copy\n",
      "  conv['MAIN_HEATING_CONTROLS'] = conv['MAIN_HEATING_CONTROLS'].astype('float64')\n"
     ]
    }
   ],
   "source": [
    "conv['MAIN_HEATING_CONTROLS'] = conv['MAIN_HEATING_CONTROLS'].astype('float64')"
   ]
  },
  {
   "cell_type": "code",
   "execution_count": 68,
   "id": "961749a451259d87",
   "metadata": {
    "ExecuteTime": {
     "end_time": "2025-08-06T22:36:48.541441Z",
     "start_time": "2025-08-06T22:36:48.534244Z"
    }
   },
   "outputs": [
    {
     "data": {
      "text/plain": [
       "CURRENT_ENERGY_EFFICIENCY                int64\n",
       "POTENTIAL_ENERGY_EFFICIENCY              int64\n",
       "TOTAL_FLOOR_AREA                       float64\n",
       "MAINS_GAS_FLAG                           int64\n",
       "MAIN_HEATING_CONTROLS                  float64\n",
       "MULTI_GLAZE_PROPORTION                 float64\n",
       "EXTENSION_COUNT                        float64\n",
       "NUMBER_HABITABLE_ROOMS                 float64\n",
       "NUMBER_HEATED_ROOMS                    float64\n",
       "LOW_ENERGY_LIGHTING                    float64\n",
       "NUMBER_OPEN_FIREPLACES                 float64\n",
       "HOTWATER_DESCRIPTION                    object\n",
       "HOT_WATER_ENERGY_EFF                     int64\n",
       "WINDOWS_ENERGY_EFF                       int64\n",
       "WINDOWS_ENV_EFF                          int64\n",
       "WALLS_ENERGY_EFF                         int64\n",
       "ROOF_ENERGY_EFF                          int64\n",
       "ROOF_ENV_EFF                             int64\n",
       "MAINHEAT_ENERGY_EFF                      int64\n",
       "MAINHEAT_ENV_EFF                         int64\n",
       "MAINHEATC_ENERGY_EFF                     int64\n",
       "MAINHEATC_ENV_EFF                        int64\n",
       "LIGHTING_ENERGY_EFF                      int64\n",
       "LIGHTING_ENV_EFF                         int64\n",
       "WIND_TURBINE_COUNT                     float64\n",
       "FLOOR_HEIGHT                           float64\n",
       "SOLAR_WATER_HEATING_FLAG                 int64\n",
       "CONSTRUCTION_AGE_BAND                   object\n",
       "Transfer Date                           object\n",
       "Postcode                                object\n",
       "Price (Thousands)                      float64\n",
       "Freehold Tenure                          int64\n",
       "Leasehold Tenure                         int64\n",
       "Old Build                                int64\n",
       "New Build                                int64\n",
       "Detached                                 int64\n",
       "Flat                                     int64\n",
       "Other Property Type                      int64\n",
       "Semi-detached                            int64\n",
       "Terraced                                 int64\n",
       "Year                                     int64\n",
       "Month                                    int64\n",
       "Quarter                                  int64\n",
       "Day of the Week                          int64\n",
       "Area Code Average Price (Thousands)    float64\n",
       "Town/City Average Price (Thousands)    float64\n",
       "District Average Price (Thousands)     float64\n",
       "County Average Price (Thousands)       float64\n",
       "LAT                                    float64\n",
       "LONG                                   float64\n",
       "OSEAST1M                               float64\n",
       "OSNRTH1M                               float64\n",
       "CONSTRUCTION_AGE_BAND_CLEAN             object\n",
       "CONSTRUCTION_AGE_BAND_ENCODED          float64\n",
       "dtype: object"
      ]
     },
     "execution_count": 68,
     "metadata": {},
     "output_type": "execute_result"
    }
   ],
   "source": [
    "conv.dtypes"
   ]
  },
  {
   "cell_type": "code",
   "execution_count": 69,
   "id": "1c9239182455eac6",
   "metadata": {
    "ExecuteTime": {
     "end_time": "2025-08-06T22:38:17.600874Z",
     "start_time": "2025-08-06T22:38:16.623714Z"
    }
   },
   "outputs": [],
   "source": [
    "conv = conv.drop(columns='HOTWATER_DESCRIPTION')"
   ]
  },
  {
   "cell_type": "code",
   "execution_count": 70,
   "id": "b772feb28dc4a1f7",
   "metadata": {
    "ExecuteTime": {
     "end_time": "2025-08-06T22:39:38.870076Z",
     "start_time": "2025-08-06T22:39:38.069440Z"
    }
   },
   "outputs": [],
   "source": [
    "conv = conv.drop(columns=['CONSTRUCTION_AGE_BAND_CLEAN','CONSTRUCTION_AGE_BAND'])"
   ]
  },
  {
   "cell_type": "code",
   "execution_count": 71,
   "id": "b686a5b8a854afaa",
   "metadata": {
    "ExecuteTime": {
     "end_time": "2025-08-06T22:39:42.314001Z",
     "start_time": "2025-08-06T22:39:42.304510Z"
    }
   },
   "outputs": [
    {
     "data": {
      "text/plain": [
       "(4818234, 51)"
      ]
     },
     "execution_count": 71,
     "metadata": {},
     "output_type": "execute_result"
    }
   ],
   "source": [
    "conv.shape"
   ]
  },
  {
   "cell_type": "code",
   "execution_count": 72,
   "id": "c3afbbf55897f460",
   "metadata": {},
   "outputs": [],
   "source": [
    "epc_rename_map = {\n",
    "    'CURRENT_ENERGY_EFFICIENCY': 'Current Energy Efficiency (EPC Score)',\n",
    "    'POTENTIAL_ENERGY_EFFICIENCY': 'Potential Energy Efficiency (EPC Score)',\n",
    "    'TOTAL_FLOOR_AREA': 'Total Floor Area (m²)',\n",
    "    'MAINS_GAS_FLAG': 'Has Mains Gas',\n",
    "    'MAIN_HEATING_CONTROLS': 'Main Heating Controls',\n",
    "    'MULTI_GLAZE_PROPORTION': 'Proportion of Multi-Glazing (%)',\n",
    "    'EXTENSION_COUNT': 'Number of Extensions',\n",
    "    'NUMBER_HABITABLE_ROOMS': 'Number of Habitable Rooms',\n",
    "    'NUMBER_HEATED_ROOMS': 'Number of Heated Rooms',\n",
    "    'LOW_ENERGY_LIGHTING': 'Low Energy Lighting (%)',\n",
    "    'NUMBER_OPEN_FIREPLACES': 'Number of Open Fireplaces',\n",
    "    'HOT_WATER_ENERGY_EFF': 'Hot Water Energy Efficiency',\n",
    "    'WINDOWS_ENERGY_EFF': 'Windows Energy Efficiency',\n",
    "    'WINDOWS_ENV_EFF': 'Windows Environmental Impact',\n",
    "    'WALLS_ENERGY_EFF': 'Walls Energy Efficiency',\n",
    "    'ROOF_ENERGY_EFF': 'Roof Energy Efficiency',\n",
    "    'ROOF_ENV_EFF': 'Roof Environmental Impact',\n",
    "    'MAINHEAT_ENERGY_EFF': 'Main Heating Energy Efficiency',\n",
    "    'MAINHEAT_ENV_EFF': 'Main Heating Environmental Impact',\n",
    "    'MAINHEATC_ENERGY_EFF': 'Main Heating Controls Energy Efficiency',\n",
    "    'MAINHEATC_ENV_EFF': 'Main Heating Controls Environmental Impact',\n",
    "    'LIGHTING_ENERGY_EFF': 'Lighting Energy Efficiency',\n",
    "    'LIGHTING_ENV_EFF': 'Lighting Environmental Impact',\n",
    "    'WIND_TURBINE_COUNT': 'Number of Wind Turbines',\n",
    "    'FLOOR_HEIGHT': 'Floor Height (m)',\n",
    "    'SOLAR_WATER_HEATING_FLAG': 'Has Solar Water Heating'\n",
    "}\n",
    "conv = conv.rename(columns=epc_rename_map)"
   ]
  },
  {
   "cell_type": "code",
   "execution_count": 74,
   "id": "c34e65d9-3c72-4d56-8bef-bd07553fe082",
   "metadata": {},
   "outputs": [],
   "source": [
    "conv = conv.drop(columns=['Transfer Date','Postcode'])"
   ]
  },
  {
   "cell_type": "code",
   "execution_count": null,
   "id": "5c6307318fc7c23a",
   "metadata": {
    "ExecuteTime": {
     "end_time": "2025-08-06T22:42:24.823526Z",
     "start_time": "2025-08-06T22:40:16.699383Z"
    }
   },
   "outputs": [],
   "source": [
    "conv.to_csv('EPC_Fin.csv', index=False)"
   ]
  }
 ],
 "metadata": {
  "kernelspec": {
   "display_name": "Python 3 (ipykernel)",
   "language": "python",
   "name": "python3"
  },
  "language_info": {
   "codemirror_mode": {
    "name": "ipython",
    "version": 3
   },
   "file_extension": ".py",
   "mimetype": "text/x-python",
   "name": "python",
   "nbconvert_exporter": "python",
   "pygments_lexer": "ipython3",
   "version": "3.13.5"
  }
 },
 "nbformat": 4,
 "nbformat_minor": 5
}
